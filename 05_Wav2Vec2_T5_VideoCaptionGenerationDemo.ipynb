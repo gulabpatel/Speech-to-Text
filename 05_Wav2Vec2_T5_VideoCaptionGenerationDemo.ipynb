{
  "cells": [
    {
      "cell_type": "markdown",
      "metadata": {
        "id": "view-in-github",
        "colab_type": "text"
      },
      "source": [
        "<a href=\"https://colab.research.google.com/github/gulabpatel/Speech-to-Text/blob/main/05_Wav2Vec2_T5_VideoCaptionGenerationDemo.ipynb\" target=\"_parent\"><img src=\"https://colab.research.google.com/assets/colab-badge.svg\" alt=\"Open In Colab\"/></a>"
      ]
    },
    {
      "cell_type": "code",
      "source": [
        "!pip install pytube pydub"
      ],
      "metadata": {
        "id": "7xkOYgxJ_cmn",
        "colab": {
          "base_uri": "https://localhost:8080/"
        },
        "outputId": "d34c70d5-887e-4498-d5f1-77a173fd6f3b"
      },
      "execution_count": null,
      "outputs": [
        {
          "output_type": "stream",
          "name": "stdout",
          "text": [
            "Requirement already satisfied: pytube in /usr/local/lib/python3.10/dist-packages (15.0.0)\n",
            "Requirement already satisfied: pydub in /usr/local/lib/python3.10/dist-packages (0.25.1)\n"
          ]
        }
      ]
    },
    {
      "cell_type": "code",
      "execution_count": null,
      "metadata": {
        "id": "BSRrTdwK_Ako"
      },
      "outputs": [],
      "source": [
        "from pytube import YouTube\n",
        "from pydub import AudioSegment\n",
        "import librosa\n",
        "import soundfile as sf\n",
        "import time\n",
        "from transformers import pipeline\n",
        "import requests\n",
        "import pprint\n",
        "pp = pprint.PrettyPrinter(indent=14)"
      ]
    },
    {
      "cell_type": "code",
      "execution_count": null,
      "metadata": {
        "id": "v54v2s40_Akr"
      },
      "outputs": [],
      "source": [
        "audio_path = '/content'\n",
        "# link='https://www.youtube.com/watch?v=dT_aIJZ7Mxw'\n",
        "link = 'https://www.youtube.com/watch?v=fr1Fz-XViIE'\n",
        "\n",
        "try:\n",
        "    # object creation using YouTube\n",
        "    # which was imported in the beginning\n",
        "    yt = YouTube(link)\n",
        "except:\n",
        "    print(\"Connection Error\")"
      ]
    },
    {
      "cell_type": "code",
      "execution_count": null,
      "metadata": {
        "id": "mc4lpdTt_Aks",
        "outputId": "4b2e5bdf-a0b5-4d5f-f1a2-b3f991887e7b",
        "colab": {
          "base_uri": "https://localhost:8080/"
        }
      },
      "outputs": [
        {
          "output_type": "execute_result",
          "data": {
            "text/plain": [
              "[<Stream: itag=\"18\" mime_type=\"video/mp4\" res=\"360p\" fps=\"30fps\" vcodec=\"avc1.42001E\" acodec=\"mp4a.40.2\" progressive=\"True\" type=\"video\">, <Stream: itag=\"22\" mime_type=\"video/mp4\" res=\"720p\" fps=\"30fps\" vcodec=\"avc1.64001F\" acodec=\"mp4a.40.2\" progressive=\"True\" type=\"video\">, <Stream: itag=\"136\" mime_type=\"video/mp4\" res=\"720p\" fps=\"30fps\" vcodec=\"avc1.64001f\" progressive=\"False\" type=\"video\">, <Stream: itag=\"135\" mime_type=\"video/mp4\" res=\"480p\" fps=\"30fps\" vcodec=\"avc1.4d401f\" progressive=\"False\" type=\"video\">, <Stream: itag=\"134\" mime_type=\"video/mp4\" res=\"360p\" fps=\"30fps\" vcodec=\"avc1.4d401e\" progressive=\"False\" type=\"video\">, <Stream: itag=\"133\" mime_type=\"video/mp4\" res=\"240p\" fps=\"30fps\" vcodec=\"avc1.4d4015\" progressive=\"False\" type=\"video\">, <Stream: itag=\"160\" mime_type=\"video/mp4\" res=\"144p\" fps=\"30fps\" vcodec=\"avc1.4d400c\" progressive=\"False\" type=\"video\">, <Stream: itag=\"139\" mime_type=\"audio/mp4\" abr=\"48kbps\" acodec=\"mp4a.40.5\" progressive=\"False\" type=\"audio\">, <Stream: itag=\"140\" mime_type=\"audio/mp4\" abr=\"128kbps\" acodec=\"mp4a.40.2\" progressive=\"False\" type=\"audio\">]"
            ]
          },
          "metadata": {},
          "execution_count": 8
        }
      ],
      "source": [
        "yt.streams.filter(file_extension='mp4')"
      ]
    },
    {
      "cell_type": "code",
      "source": [
        "stream = yt.streams.get_by_itag(139)\n",
        "stream"
      ],
      "metadata": {
        "id": "2NUmLSx_AG2g",
        "outputId": "e21dc825-f34b-414e-a7a8-12d2857c130c",
        "colab": {
          "base_uri": "https://localhost:8080/"
        }
      },
      "execution_count": null,
      "outputs": [
        {
          "output_type": "execute_result",
          "data": {
            "text/plain": [
              "<Stream: itag=\"139\" mime_type=\"audio/mp4\" abr=\"48kbps\" acodec=\"mp4a.40.5\" progressive=\"False\" type=\"audio\">"
            ]
          },
          "metadata": {},
          "execution_count": 9
        }
      ]
    },
    {
      "cell_type": "code",
      "execution_count": null,
      "metadata": {
        "id": "0ZFhcsGT_Akt",
        "outputId": "7a61e13d-e276-4fb3-b2b6-4a03a70e12ac",
        "colab": {
          "base_uri": "https://localhost:8080/",
          "height": 35
        }
      },
      "outputs": [
        {
          "output_type": "execute_result",
          "data": {
            "text/plain": [
              "'/content/GoogleImagen.mp4'"
            ],
            "application/vnd.google.colaboratory.intrinsic+json": {
              "type": "string"
            }
          },
          "metadata": {},
          "execution_count": 10
        }
      ],
      "source": [
        "stream.download(audio_path,\"GoogleImagen.mp4\")"
      ]
    },
    {
      "cell_type": "code",
      "execution_count": null,
      "metadata": {
        "id": "iYgD0N-i_Aku"
      },
      "outputs": [],
      "source": [
        "given_audio = AudioSegment.from_file('/content/GoogleImagen.mp4', format=\"mp4\")"
      ]
    },
    {
      "cell_type": "code",
      "execution_count": null,
      "metadata": {
        "id": "MaKfizhf_Aku",
        "outputId": "ec6e17af-c1c5-4946-a605-b20742b2f9af",
        "colab": {
          "base_uri": "https://localhost:8080/"
        }
      },
      "outputs": [
        {
          "output_type": "execute_result",
          "data": {
            "text/plain": [
              "<_io.BufferedRandom name='GoogleImagen.wav'>"
            ]
          },
          "metadata": {},
          "execution_count": 12
        }
      ],
      "source": [
        "## convert video other foramats to wav\n",
        "given_audio.export(\"GoogleImagen.wav\", format=\"wav\")"
      ]
    },
    {
      "cell_type": "code",
      "execution_count": null,
      "metadata": {
        "id": "mHSDeIRf_Akv"
      },
      "outputs": [],
      "source": [
        "sp, rate = sf.read(\"GoogleImagen.wav\")\n",
        "sp= librosa.resample(sp.T, orig_sr=rate, target_sr=16000)"
      ]
    },
    {
      "cell_type": "code",
      "execution_count": null,
      "metadata": {
        "id": "wb6mWwUC_Akv"
      },
      "outputs": [],
      "source": [
        "sf.write(\"GoogleImagen.wav\", sp.T, 16000, subtype='PCM_24')"
      ]
    },
    {
      "cell_type": "code",
      "execution_count": null,
      "metadata": {
        "scrolled": true,
        "id": "PnD3XyVL_Akw",
        "outputId": "f6965c50-ded1-481d-f2c9-bc5ccd82017d",
        "colab": {
          "base_uri": "https://localhost:8080/",
          "height": 475,
          "referenced_widgets": [
            "a71c4b6191f64d54a579ac17fe757fa8",
            "6485cc9a093f4fe6908decf31aa9aff3",
            "b40b4232d6ae49babda1e94b9189a3fc",
            "6fc09891c6bc4c9fa7a18c1ad64d9daa",
            "64a8c9f4ede646d6858a3c3aac0288cb",
            "b7004f7ca8bc49609e7bdad8212aab0c",
            "803a84e35942401481dd2a17a0baf742",
            "4ee79dfa97b6449c9727be2de47a0a80",
            "e32aefe497a340ecb4c66968a660e65f",
            "42d0c31d60d6406c9daa83bf3e4bef06",
            "0cb5b6d415824b21bea6743596fe6bb3",
            "38dcdbda7a744862848ee9b76fde12fc",
            "7706086ca5004b038f85867f12cd18ca",
            "053226df1c774e2cba2dedb87dece4ed",
            "806d32de638541d09344a8d907267b63",
            "101a3d7680ad41dda2b6559339e95907",
            "b3e761e996a34e4cad578f7b572c3fd0",
            "efe1e85095f44c6f84a61c8a937d3413",
            "5ea47a1d8f6d495b9e2fc09cf5d40923",
            "073c641e90b64b5eb0c5deff3ef16b9b",
            "ea1a3265870e483292c697473ca19ced",
            "33e5ff3598fe45f28b7203ec6db52d50",
            "c131a93837c2467b8f63b2b17bb8ec5f",
            "05dfbd1a772347049a6e7ba43c95c031",
            "8e87d537777e4f5fbad10a40b5822fae",
            "ab1ff2cd7988444fb6894d35a53ae5ce",
            "8369f11314d14b51ac690cc5aa864ce8",
            "ca8a9f44279f411aaae2bd5fdafc9934",
            "267b000547114491b304d687533cb6dc",
            "239ffcbf38574a819155c42283b97c2e",
            "c88a9b0f141a449c9ce7aaf8d2345abd",
            "e5872cedd6984afabdfd09195eedb3b1",
            "59782e67a8304546b8326825b0a70b0c",
            "849869f421304ecca168e63a024647e4",
            "19e5bf360070426f8437dc96520ac383",
            "1f0be9bce4a64eb0be656fdf3b13b833",
            "6deda21f768c475a91414215cf8cdc0d",
            "00891e5e16f9453bb96fb2fc3ec4444a",
            "2ffb6564881c4ad1a4f5a11a6222e3fd",
            "67b665d43e7c4a5ca1011a3bb86e9fea",
            "f3f7229327574a03a6f898e842d95025",
            "44289e827b544cf28c43d4375e262be6",
            "90b1b56d6518449780e6658cc1144c96",
            "70d16ff57eed47e6b5f1ff11634c279a",
            "958f92387f1b419bb34a103421e2ca0f",
            "39994ea09508450da2761088ef23af2b",
            "e61a830dc8cd445ea22ebe8c76edf4fa",
            "cc7bd15e02934b06ba729db8b42ccac1",
            "c68b355b419b4b27adeaa43899a95c41",
            "828b20370d1e4d0593d8183bcd03e674",
            "419289d1abec430fa583aa9aeeaab390",
            "e5967d8542f5490ea048de1a41c96c59",
            "1a1a3d7ed1344c3581dd897bdbca628a",
            "010a2b1ffd8d49e88c169e977e7cc8a7",
            "2caef69efa31409da006b23b3149a72a"
          ]
        }
      },
      "outputs": [
        {
          "output_type": "stream",
          "name": "stderr",
          "text": [
            "/usr/local/lib/python3.10/dist-packages/huggingface_hub/utils/_token.py:88: UserWarning: \n",
            "The secret `HF_TOKEN` does not exist in your Colab secrets.\n",
            "To authenticate with the Hugging Face Hub, create a token in your settings tab (https://huggingface.co/settings/tokens), set it as secret in your Google Colab and restart your session.\n",
            "You will be able to reuse this secret in all of your notebooks.\n",
            "Please note that authentication is recommended but still optional to access public models or datasets.\n",
            "  warnings.warn(\n"
          ]
        },
        {
          "output_type": "display_data",
          "data": {
            "text/plain": [
              "tokenizer_config.json:   0%|          | 0.00/163 [00:00<?, ?B/s]"
            ],
            "application/vnd.jupyter.widget-view+json": {
              "version_major": 2,
              "version_minor": 0,
              "model_id": "a71c4b6191f64d54a579ac17fe757fa8"
            }
          },
          "metadata": {}
        },
        {
          "output_type": "display_data",
          "data": {
            "text/plain": [
              "vocab.json:   0%|          | 0.00/291 [00:00<?, ?B/s]"
            ],
            "application/vnd.jupyter.widget-view+json": {
              "version_major": 2,
              "version_minor": 0,
              "model_id": "38dcdbda7a744862848ee9b76fde12fc"
            }
          },
          "metadata": {}
        },
        {
          "output_type": "display_data",
          "data": {
            "text/plain": [
              "special_tokens_map.json:   0%|          | 0.00/85.0 [00:00<?, ?B/s]"
            ],
            "application/vnd.jupyter.widget-view+json": {
              "version_major": 2,
              "version_minor": 0,
              "model_id": "c131a93837c2467b8f63b2b17bb8ec5f"
            }
          },
          "metadata": {}
        },
        {
          "output_type": "display_data",
          "data": {
            "text/plain": [
              "config.json:   0%|          | 0.00/843 [00:00<?, ?B/s]"
            ],
            "application/vnd.jupyter.widget-view+json": {
              "version_major": 2,
              "version_minor": 0,
              "model_id": "849869f421304ecca168e63a024647e4"
            }
          },
          "metadata": {}
        },
        {
          "output_type": "stream",
          "name": "stderr",
          "text": [
            "The tokenizer class you load from this checkpoint is not the same type as the class this function is called from. It may result in unexpected tokenization. \n",
            "The tokenizer class you load from this checkpoint is 'Wav2Vec2CTCTokenizer'. \n",
            "The class this function is called from is 'Wav2Vec2Tokenizer'.\n",
            "/usr/local/lib/python3.10/dist-packages/transformers/models/wav2vec2/tokenization_wav2vec2.py:733: FutureWarning: The class `Wav2Vec2Tokenizer` is deprecated and will be removed in version 5 of Transformers. Please use `Wav2Vec2Processor` or `Wav2Vec2CTCTokenizer` instead.\n",
            "  warnings.warn(\n"
          ]
        },
        {
          "output_type": "display_data",
          "data": {
            "text/plain": [
              "pytorch_model.bin:   0%|          | 0.00/1.26G [00:00<?, ?B/s]"
            ],
            "application/vnd.jupyter.widget-view+json": {
              "version_major": 2,
              "version_minor": 0,
              "model_id": "958f92387f1b419bb34a103421e2ca0f"
            }
          },
          "metadata": {}
        },
        {
          "output_type": "stream",
          "name": "stderr",
          "text": [
            "Some weights of the model checkpoint at facebook/wav2vec2-large-960h were not used when initializing Wav2Vec2ForCTC: ['wav2vec2.encoder.pos_conv_embed.conv.weight_g', 'wav2vec2.encoder.pos_conv_embed.conv.weight_v']\n",
            "- This IS expected if you are initializing Wav2Vec2ForCTC from the checkpoint of a model trained on another task or with another architecture (e.g. initializing a BertForSequenceClassification model from a BertForPreTraining model).\n",
            "- This IS NOT expected if you are initializing Wav2Vec2ForCTC from the checkpoint of a model that you expect to be exactly identical (initializing a BertForSequenceClassification model from a BertForSequenceClassification model).\n",
            "Some weights of Wav2Vec2ForCTC were not initialized from the model checkpoint at facebook/wav2vec2-large-960h and are newly initialized: ['wav2vec2.masked_spec_embed', 'wav2vec2.encoder.pos_conv_embed.conv.parametrizations.weight.original0', 'wav2vec2.encoder.pos_conv_embed.conv.parametrizations.weight.original1']\n",
            "You should probably TRAIN this model on a down-stream task to be able to use it for predictions and inference.\n"
          ]
        }
      ],
      "source": [
        "import torch\n",
        "from transformers import Wav2Vec2ForCTC, Wav2Vec2Tokenizer\n",
        "\n",
        "tokenizer = Wav2Vec2Tokenizer.from_pretrained(\"facebook/wav2vec2-large-960h\")\n",
        "model = Wav2Vec2ForCTC.from_pretrained(\"facebook/wav2vec2-large-960h\")"
      ]
    },
    {
      "cell_type": "code",
      "execution_count": null,
      "metadata": {
        "id": "PHw831AY_Akz",
        "outputId": "68fa3876-fff8-4340-d5cd-c03084500d5b",
        "colab": {
          "base_uri": "https://localhost:8080/"
        }
      },
      "outputs": [
        {
          "output_type": "stream",
          "name": "stdout",
          "text": [
            "16000\n"
          ]
        }
      ],
      "source": [
        "# Ensure that the sample rate is 16k\n",
        "print(librosa.get_samplerate(\"GoogleImagen.wav\"))\n",
        "\n",
        "# Stream over 30 seconds chunks rather than load the full file\n",
        "stream = librosa.stream(\n",
        "    \"GoogleImagen.wav\",\n",
        "    block_length=5,\n",
        "    frame_length=16000,\n",
        "    hop_length=16000\n",
        ")"
      ]
    },
    {
      "cell_type": "code",
      "execution_count": null,
      "metadata": {
        "id": "AIy0-nKE_Ak1",
        "outputId": "0686e6b4-cf4d-44d2-dc16-1176d919a653",
        "colab": {
          "base_uri": "https://localhost:8080/"
        }
      },
      "outputs": [
        {
          "output_type": "stream",
          "name": "stdout",
          "text": [
            "HALLO WELCOME TO GIOGOPE FIVE TEN A GIOBOPIC SO\n",
            "AT DISIN THIS IS THE CAUSE THAT I AM TEACHING AT THE UNIVERSITY OF TENNESSEE A\n",
            "ETIPAMO GEOGRAPHY AND A SUSTAINABILITY IN A SPRING TWENTY TIRTY FOUR ARIGHT NOW\n",
            "AND SOT RAY IT WOULD BE THE FIRST DAY OF OUR CLASS OUR TEACHING\n",
            "ARE THE THE THE THE THE CONTANT OF THIS COURSE AND I WE MAY OLLTHE VIDILS\n",
            "AVAILABLE ON MYNUTOCENO SO YOU AWAKEN TO FOLLOW A AN ALSO\n",
            "OR THE LEPPER SIMOND WILL ALSO BE AVAILABLE AND AM YOU CAN CHICK OUT THE CORSWEB\n",
            "IE THE LING IS ALSO IN THE DESCRIPTION BELOW THOUGH THISCOURSE WE ARE\n",
            "TEACHING MONEDAY WEDNESDAY FRIDAY SO IT'S A A THREE LEXUS PER WEEK\n",
            "FIFTY MINUTES PUT A A PER WEEK AND YOU WACOME TO TA OTHE\n",
            "CONTENT SO EXCENSORY IN THIS COURSE A WE'VE GOING TO CAVE OR HOW TO HI\n",
            "VEROP OPEN SAUS A PISEMPECCIS HOW TO MAINTAIN HOW TO ECT VONCINEITY HOW TO VIGI\n",
            "A DUS PETI A DU PESO DETA AND ALL WHOSARE TO QUITTE WHEPSI OR FOR THE TOCKEME\n",
            "ITATION AND NO BOOK SORIKIN MIGI AH MAYE YOU WALK A ACCESSIBLE\n",
            "AND ALSO REPRODUCIBLE AND ALSO MAYE IT EASIER FOR OTHER PEOPLE TO FEW ON\n",
            "HOP O OF YOUR WALK THO IS A TEACHING ALL THE TOOLS THAT ARE USING DAIDY\n",
            "AND SOME EXAMPLES A YOU CAN TAK OUT A GI METE OR LIVE MET\n",
            "THOUGH WHAT WE ARE TRYING TO COW OR DISCOURSE IS HOW TO BEW A PECKIES LIKE THESE\n",
            "A FRON GA FROM GRANAR SO IF I INTERESTED IN LEARNING HOW TO VIEW A\n",
            "YSON PECHISES THIS COURSE IS FOR YOU AND A HERE THE CILABUS A\n",
            "I WON'T HAVE PAMP TO GOS STUDIES IN A IN A DISPIDIO BUT YOU'RE WELCOME TO CHEK IT OUT\n",
            "AND ITS THE SAME SING THEY AM TIACING IN PERSON IN CLASS THE VEL WILL BE RECORDED IN\n",
            "CLASS AND A ALSO MAKE AVAILABLE ON UTUR HE IS THE SCHEDULED A SO\n",
            "WELL THIS WEEK WON A CAV O SAMEAT PARETICA TOOS WEIN A USE HROUGHOUT THIS COURSE FOR EXAM\n",
            "O GIG GIG HOP AN WISO STIDO COAL AN GUO COLEF AN NAN WI\n",
            "ISTACK CREATING A PISON PECKI'S USING THE NAME MAREVO YOU PREFOR THEN\n",
            "WE SLOWLY WONTE EGG FANCINEITY INTO THE PACKIES EVERYWID IEVERYD AH EVERY WEEK\n",
            "IM I NAY YOU WONT HAVE DOCUMENTATION YOU WONT E I HAVE SOME FUNSON INANITID FOR\n",
            "FILLING WITH SOME JEWS PESODETA AND AT THE END YOU ALSO GOING TO PUBLISH TO PECK\n",
            "IS ON I P AI I KNOW SO ARE CONTAFOT DO THEY ANY ONE OR RATHER G\n",
            "OP EN ING STOR TEPECKISIS AND THAT YOU CREATE AND THIS CAN ALSO BE USEFUL F\n",
            "YOU IVAR DOING WITSORS AND EN YOU HAVE SOME SEENG I HAVE ALL THE PISON MOGIO\n",
            "PLICE EVERYWHERE THIS MIGHT BE AN OPPORTUNITY FOR YOU TO SYNCICIZE AND CAMA WISA\n",
            "PACK HIS DAY WITH ODER FANCINAITY AND YOU E CAN ALSO HELP YOU SINK ABOUT HOW TO MA\n",
            "XE THINGS EASIER FOR OTHER PEOPLE AND HOW TO MAXE THINGS MORE GENERALIZE\n",
            "FATHER THAN YOU HAVE TO TO HACK HOLDID OF THE FIE PAWS OF THE NAME WATIS AVAILAB\n",
            "LL NAMED SOMETHING LIKE THAT SO AND MOST THINGS WOULD BE VERY MORTULITE I KNOWSO IT'S A PECKIS THA\n",
            "T EASIER TO USE IN THE CLOW COMPUTING GARMENT AN\n",
            "OR THE VIDIOS OR BE POSTED HERE YOU CAN ALSO SUBSCRIBE TO THE UTOTRENO\n",
            "I HAVE A TALKED THIS COURSE SIR ER TWICE BEFORE I WILL\n",
            "S IN TWIT TWENTY TWENTY ONE PRING TWENTY TWENTY ONE O THIS WAS DEALING ALAUD KOVIK THOUG I\n",
            "FULLY ON LYNE AND AM SO YOU SEE THE STUDY EVRY YEARS\n",
            "ALSO ON MONDAY WHENS THEY FRIED THI CESO I ALSO TALK THIT LAST YEAR THEY WANT\n",
            "WAS TUESDAY SUSDAY SO THE NAMBOVIDIOS ARE ONLY IT TWENTY FIVE BUT\n",
            "I BE SIMILAR SO ACTUATE A QUALITY OF VIDIAIS THIS WINE'S BEARER BECAUSE I WAS TEACHING ON LYE\n",
            "AND WAS RECORDING THE VIDIO OF MY OWN AS THIS ONE'S IN CLASS IN PERSON\n",
            "THERE MAY BE SOME INTRACTION THOUGH SIMILARLY I AM TEACHING IN PERSON DISSMETE\n",
            "AN ALL TE VIDIOL BE SEWING AT IN HERE SO HE CAN EITHER COME HERE TO TAKE THE VIDIO OR\n",
            "CAIN SUBSCRIBED TO THE UTUTRENO OR THE UTU PLATIS TO FOLLOW A WEAKLE\n",
            "SO WE MANN HAVE TWO VIDIOS AS THREE VIDIOS PER WEEK MONESDAY WEDNESDAY FRIDAY\n",
            "AND WEVONNO AL CAVE ALL THE CONTENTS IN THE SKATIO THAT WE AM\n",
            "ARPENY WE ALSO HAVE TEN LETPER SILMONS I SAW OLD THE LPER SIMON WE UT A POSTI\n",
            "HERE YOUR WACOME TO A FOLLOW DID LAPASAMA AN INTUIK OYOO SO DI\n",
            "S IS BREEDY MAS FLEXIBLE EVERY INE GOING TO WALK ON YOR UNIQUE A PISON PACKAGE\n",
            "A SO YOU WOULD DIS KNOW A RI OR WRONG ANSWER APTER YOU\n",
            "HOW YOU WANT TO DO IT SO CAMBE KERE TO TAKE THE LETE WITH SIMON AH YOU BE INCHEXTE E\n",
            "AND THERE' SOME OTHER ADDITIONAL RESOURCES AH YOU CAN ALSO TAKE OUT E BOOKS AAM THAT I\n",
            "TH I WROTE SO THIS THE HER PU HERE GOING HERE ABY THIS IN\n",
            "THE ASIDOBAS OR YOU CAN GO TO THE GIMET PAWHEPZI E GON TO LA MOIR\n",
            "OU GUGASENDING OR OPEN SARCE AND DI SPACE OF VIGILADATION YOU CAN CHICK OUT SOMEWHAT MY\n",
            "PECKIGIS THAT I BEED IT SO THIS IS THE BOOK THEY I WROTE ABOUT A GUO SANGIN\n",
            "NG AN GOSSOL AUR LEIF MAP AND THEY'RE AL LOT MORE PACKAGES THOUGH YOU CANNO\n",
            "SO CEGUT THERE OPEN JUS PESO SRUCENS GIG APE RE POYCERY\n",
            "DO YOU SEE ALL THESE SPECUTIVES ARE THE ONE THAT ARE CREATING AND ALSO ARE MAINT\n",
            "ANY AND WE EAT MORE IN THE FUTURE BUT THESE ARPESKY ALL THE SINGS THAT I U\n",
            "S DADY AND THIS CAUSE IS TEACHING YOU HOW TO DIVEUP SOMETHING LIKE THAT\n",
            "AND AKING HOLSOND GIVE HAP YOU CAN MAKE IT EXTASABLE OTHER PEOPLE AND ALSOLL TRY\n",
            "TO HELP YOURSELF BECAUSE I'M YOU E IT MORE STRUCKED OR MORE ORGANISED\n",
            "AND SMORE TO BE PRODUCIBLE AND EASILY ACCESSIBLE THEN L\n",
            "ASTLY THIS IS MY CONTE INFORMATION THA OF COURSE IF YOU HAVE ANY QUISTIONS AE YOU ARE WELCOME T\n",
            "O I WILL CREATA GIABLE RE POESTRY A FOR THIS COURSE AR LATER AND IF YO HAVE ANY QUISTIONS YOU CAN S\n",
            "R ASK QUESTIONS ON GIVEHAP OR ON A SPECIFIC REPOISERY IF AR INTERESTEING\n",
            "A ANY OF THOSE OCCASIONAL DITH IS MORE LIKE A BURY BRIEF AN INCH O VEAL\n",
            "AH I HOPE YOU AH AM INSOD THE WHEEL AND IF YOU'RE INTERESTING IN\n",
            "EARNING HOW TO DEVEUP OPENSAU'S PACKAGES FOR GIOSPESO ANNELIZIS AND VIGERIGIS\n",
            "ND I YOU CAN FOLLOW THIS COURSE I WILL SEE YOU IN THE NEXT VIDIO TAKE HERE\n",
            "IVE\n"
          ]
        }
      ],
      "source": [
        "transcribe_text = ''\n",
        "for speech in stream:\n",
        "        if len(speech.shape) > 1:\n",
        "            speech = speech[:, 0] + speech[:, 1]\n",
        "\n",
        "        input_values = tokenizer(speech, return_tensors=\"pt\").input_values\n",
        "        logits = model(input_values).logits\n",
        "\n",
        "        predicted_ids = torch.argmax(logits, dim=-1)\n",
        "        transcription = tokenizer.decode(predicted_ids[0])\n",
        "        transcribe_text = transcribe_text + ' ' + transcription\n",
        "        print(transcription)\n"
      ]
    },
    {
      "cell_type": "markdown",
      "source": [
        "### Summarize the transcibed text"
      ],
      "metadata": {
        "id": "T3ZYekPdazWn"
      }
    },
    {
      "cell_type": "code",
      "source": [
        "## documentation for summarizer: https://huggingface.co/transformers/main_classes/pipelines.html#summarizationpipeline\n",
        "# summarize with BART\n",
        "# summarizer_bart = pipeline(task='summarization', model=\"bart-large-cnn\")\n",
        "# summarize with T5\n",
        "summarizer_t5 = pipeline(task='summarization', model=\"t5-large\") # options: ‘t5-small’, ‘t5-base’, ‘t5-large’, ‘t5-3b’, ‘t5-11b’\n",
        "#for T5 you can chose the size of the model. Everything above t5-base is very slow, even on GPU or TPU."
      ],
      "metadata": {
        "id": "1XSpI9nvasy7"
      },
      "execution_count": null,
      "outputs": []
    },
    {
      "cell_type": "code",
      "source": [
        "## summarize book with BART model\n",
        "t0 = time.time() # timer\n",
        "summary_t5 = summarizer_t5(transcribe_text, min_length=150, max_length=1000) # change min_ and max_length for different output\n",
        "print(\"Summarization took \" + str(round((time.time() - t0) / 60, 2)) + \" minutes.\")"
      ],
      "metadata": {
        "colab": {
          "base_uri": "https://localhost:8080/"
        },
        "id": "otX4sQXJbAnc",
        "outputId": "7f7d4147-20cd-4cc5-da5f-f9d70c934cbb"
      },
      "execution_count": 23,
      "outputs": [
        {
          "output_type": "stream",
          "name": "stdout",
          "text": [
            "Summarization took 6.01 minutes.\n"
          ]
        }
      ]
    },
    {
      "cell_type": "code",
      "source": [
        "pp.pprint(summary_t5[0]['summary_text'])"
      ],
      "metadata": {
        "colab": {
          "base_uri": "https://localhost:8080/"
        },
        "id": "vfJLEL4WbZEN",
        "outputId": "b4ba7724-ca3a-46b6-b12b-d7d8d3384b96"
      },
      "execution_count": 24,
      "outputs": [
        {
          "output_type": "stream",
          "name": "stdout",
          "text": [
            "('IN THIS COURSE I AM TEACHING AT THE UNIVERSITY OF TENNESSEE A ETIPAMO '\n",
            " 'GEOGRAPHY AND A SUSTAINABILITY IN A SPRING TWENTY TIRTY FOUR ARIGHT NOW AND '\n",
            " 'SOT RAY IT WOULD BE THE FIRST DAY OF OUR CLASS AND WE ARE GOING TO TEACH HOW '\n",
            " \"TO VIEW A PISON PECKI'S LIKE THESE A FRON GA FROM GRANAR AND I CAN ALSO  -N- \"\n",
            " '-  -A- NE-A -S -E AU-N -RE-ANE-S-')\n"
          ]
        }
      ]
    },
    {
      "cell_type": "markdown",
      "source": [
        "## Wav2vec2 Base model"
      ],
      "metadata": {
        "id": "hlk9Hc85at_V"
      }
    },
    {
      "cell_type": "code",
      "execution_count": 27,
      "metadata": {
        "id": "SHQz1XR0_Ak2",
        "outputId": "d3ccfa0d-d6a0-4aef-d937-f8f84ef65171",
        "colab": {
          "base_uri": "https://localhost:8080/"
        }
      },
      "outputs": [
        {
          "output_type": "stream",
          "name": "stderr",
          "text": [
            "The tokenizer class you load from this checkpoint is not the same type as the class this function is called from. It may result in unexpected tokenization. \n",
            "The tokenizer class you load from this checkpoint is 'Wav2Vec2CTCTokenizer'. \n",
            "The class this function is called from is 'Wav2Vec2Tokenizer'.\n",
            "/usr/local/lib/python3.10/dist-packages/transformers/models/wav2vec2/tokenization_wav2vec2.py:733: FutureWarning: The class `Wav2Vec2Tokenizer` is deprecated and will be removed in version 5 of Transformers. Please use `Wav2Vec2Processor` or `Wav2Vec2CTCTokenizer` instead.\n",
            "  warnings.warn(\n",
            "Some weights of the model checkpoint at facebook/wav2vec2-base-960h were not used when initializing Wav2Vec2ForCTC: ['wav2vec2.encoder.pos_conv_embed.conv.weight_g', 'wav2vec2.encoder.pos_conv_embed.conv.weight_v']\n",
            "- This IS expected if you are initializing Wav2Vec2ForCTC from the checkpoint of a model trained on another task or with another architecture (e.g. initializing a BertForSequenceClassification model from a BertForPreTraining model).\n",
            "- This IS NOT expected if you are initializing Wav2Vec2ForCTC from the checkpoint of a model that you expect to be exactly identical (initializing a BertForSequenceClassification model from a BertForSequenceClassification model).\n",
            "Some weights of Wav2Vec2ForCTC were not initialized from the model checkpoint at facebook/wav2vec2-base-960h and are newly initialized: ['wav2vec2.masked_spec_embed', 'wav2vec2.encoder.pos_conv_embed.conv.parametrizations.weight.original0', 'wav2vec2.encoder.pos_conv_embed.conv.parametrizations.weight.original1']\n",
            "You should probably TRAIN this model on a down-stream task to be able to use it for predictions and inference.\n"
          ]
        }
      ],
      "source": [
        "tokenizer = Wav2Vec2Tokenizer.from_pretrained(\"facebook/wav2vec2-base-960h\")\n",
        "model = Wav2Vec2ForCTC.from_pretrained(\"facebook/wav2vec2-base-960h\")"
      ]
    },
    {
      "cell_type": "code",
      "source": [
        "# Ensure that the sample rate is 16k\n",
        "print(librosa.get_samplerate(\"GoogleImagen.wav\"))\n",
        "\n",
        "# Stream over 30 seconds chunks rather than load the full file\n",
        "stream = librosa.stream(\n",
        "    \"GoogleImagen.wav\",\n",
        "    block_length=5,\n",
        "    frame_length=16000,\n",
        "    hop_length=16000\n",
        ")"
      ],
      "metadata": {
        "colab": {
          "base_uri": "https://localhost:8080/"
        },
        "id": "RdXi2N6gwVC3",
        "outputId": "20c901ac-2604-4b5f-f9d8-aea64d910958"
      },
      "execution_count": 28,
      "outputs": [
        {
          "output_type": "stream",
          "name": "stdout",
          "text": [
            "16000\n"
          ]
        }
      ]
    },
    {
      "cell_type": "code",
      "execution_count": 29,
      "metadata": {
        "id": "9C1nhNBp_Ak3",
        "colab": {
          "base_uri": "https://localhost:8080/"
        },
        "outputId": "0348c8c2-b632-4a63-985c-9442b4cd14b5"
      },
      "outputs": [
        {
          "output_type": "stream",
          "name": "stdout",
          "text": [
            "HULLO WELCOME TO JOGOPE FIVETENT A JOGPIC SOP\n",
            "ER DESIGN THIS IS THE CAUSE THAT AM TEACHING AT THE UNIVERSITY OF TENNESSEE A\n",
            "HE TEPAMO GEOGROPHY IN A SUSTAINABEAUTY ING A SPREIN TWENTY THIRTY FOUR ALL RIGHT NOW\n",
            "AND SOTRE IT WILL BE THE FIRSTDAY OF A CLASS A TEACHING\n",
            "ARE THEY THE THE THE THE CONTACT OF DISCOURT AND OW WE MAY ALL THE VEDIOS\n",
            "AVILABLE ON MY EUTUC CHANNO SO YOUR WELCOME TO FOLLOW A AND ALSO\n",
            "OR THE LEPER SIMOND WILL ALSO BE AVAILABLE AND TA YOU CAN CHICK OUT THE COURSE WEPT\n",
            "I THE LING IS ALSO IN THE DESCRIPTION BELOW THOUGH THIS COURSE WE ARE\n",
            "TEACHING MANDAY WENSDAY FRIDAY SO IS A A THREE LECTURS PER WIK\n",
            "FIFTY MINUTES PU A A PE WIK AND OW YOU WAKOME TE TWOT\n",
            "CONTAINCT SO EXTENTUARY IN DISCOURSE AWEARE GOING TO CAVO HAWTU\n",
            "VEROPE OPEN SOUCE AR PISONPECKIES HOW TO MAINTAIN HOW TO ECONSTONALITY HOW TO VISU\n",
            "AGIUSPETI E GIU SPESO DETA AND ALWO SAR TO CRI WEPSI A FOR THE DOCUME\n",
            "TATION AND NOBUK SORI KI MIGI I MAKE YOU WALK I ACCESSIBLE\n",
            "AND ALSO REPRODUCIBLE AND ALSO MAKE EASIER FOR OTHER PEOPLE TO FEW ON\n",
            "HOP A OF YOUR WALK THO IS A TEACHING ALL THE TOOES DAY AMUSING DALY\n",
            "AN SOME EXAMPLE SIH YOU CAN TICK OUT A G MET OR LEVE MET\n",
            "THOUGH WHAT WE ARE TRYING TO COWAR DISCOURSE IS HOW TO BEW OPECKIS LIKE THISE\n",
            "A FRO  FROM GRANA NOR IVI INTERESTED IN LEARNING HOW TO BEW A\n",
            "HOUS ON PECISES THIS COURSE IS FOR YOU AND HERE'S THE SILABUS A\n",
            "I WON'T HAVE CAME TO BO STUDIES A IN A LI SPEDIOU BUT YOUR WELCOME TO SHAT IT OUT\n",
            "AND IS THE SAME SING THEY AM TEACHING IN PERSON IN CLASS LEVIE WILL BE RECORDING\n",
            "CLASS AND INOSOMMIC AVILABLE ON UTOD HE IS THE SCEDIOLD A SO\n",
            "A THIS WE WONT A CAVER SOMEBUT A PRACTICAL TOOS WE INA USE THROUGHOUT THISCOURSE FOR EXAM\n",
            "P GIT GIK HOP AN WE JU STID COAL ON GOO COLL AF AN DEN WE\n",
            "I STACK SHADING A PISON PECKIES USING THE NAME WHATEVER YOU GREFORE THEN\n",
            "WE SLOWLY WANT A EGG FASCINAITY INTO THE PACKIS EVERYWOOD AY EVERY DAY EVERY WEEK\n",
            "I I KNOW YOU WON'T A HAVE DOCUMETATION YOU WON'T I HAVE SAM FOSENY NANLY TEET FOR\n",
            "YOLIN WI SAN GI SPECODIDA AND DAT HE AIN'T ALSO GOING TO PUBLISH THE PECK\n",
            "IS ON I PIA E NOSO A CONTAFOT DO THER ANY ONE OR OTHER\n",
            "OP EN INSTOR DE PECISIS AN THE YOU CREATE AND THIS CAN ALSO BE USEFUL\n",
            "YOU IVADOING WISOS AND THEN YOU HAVE SOME SEEN IY HAVE ALD THE PAS ON MORDIOU\n",
            "THIS EVERYWHERE THIS MAY BE AN OPPORTUNITY FOR YOU TO SINX HIS EYES AND CANNOT WITA\n",
            "PACK HIS DEDWITH ORDER FANCINAITY AND YOU CAN ALSO HELP YOU THINK ABOUT HOW TO MA\n",
            "KE THINGS EASIER FOR OTHER PEOPLE AND HOW TO MAKE THINGS MORE GENERALRISE\n",
            "ATER THEN YOU HAVE TO DUL HAR COLDY OF THOE FLY PARS OR THE NAME WHIT IS AVARIAB\n",
            "LL NAME SANCHA LAKE BETSO AND MOST THINGS WOULD BE VERY MORTULITE EN NOLSO ITS A PECKIS THE\n",
            "TS EASIER TO USE IN THE CLOW COMPUTING GARMENT N\n",
            "ALL THE BIDIOS WILL BE POSTED HERE YOU CAN ALSO SUBSCRIBE TO THE UTETRENA\n",
            "I HAVE A TALKED THIS COURSE A OR TWICE BEFORE I WELL\n",
            "IN TWE TWENTY TWENTY ONES PRING TWENTY TWENTY ONES OR THIS WAS DEADING LARD COVIK OR I\n",
            "FURLY ON LIE AND AM SO YOU SEE THE STUDY EVERY YES\n",
            "ALSO MANDEY WHINCH THEY FRY THIS CASIO I ALSO TALK TER LASS YEAR THEY WANT\n",
            "S TUESDAY THURSDAY SO THE NAMBO VIDIOS IONLY TWINTY FIVE BUT\n",
            "I BE SIMILA TO ACTUATE AE QUARITY OF VIDIASS DIS MANS BETTER BECAUSE I WAS TEACHING ONY\n",
            "AND WAS RECORDING THE VIDIO ON MY OWN AS BISMANS A IN CLASS IN PERSON\n",
            "THERE MAY BE SOME INTACTION THOUGH SIMILARLY IAM TEACHING IN PERSON THIS MATTER\n",
            "A OUDO VEDI WILL BE SEWING AP IN HERE THOG HE CAN EITHER COME HERE TO TAKE THE VEDI OR\n",
            "AN SUBSCRIBE TO THE UTU CHANO ORTHER YOU TWO PLEADIS TO FOLLOW A WEAKL\n",
            "E SO WE MEN HAVE TWO VEDIOS AS THREE VIDIOS PO WIK MANDEY RANGE TAY FRIDAY\n",
            "AN WE WILL KNOW OUR CAVO ALL THE CONTEINTS IN THE SCATIO THAT WE AM\n",
            "HARPANY WE ALSO HAVE TEND THE LEPER SAMONS A SO ALL THE LEPE SAMEN WE WIT OUR POSTY\n",
            "HERE YOUR WELCOME TO A FOLLOW DID LECOSAMER AND INTOIG ONERO SO D\n",
            "IS PRETTY MAS FLEXIBLE  EBERY ONE  GOING TO WALK ON YOUR UNIQUE AR PIE ON PECKAGES\n",
            "AND SO YOU WOULD DIS NOW A RIGHT OR WRONG ANSWER AP TO YOU\n",
            "HOW YOU WANT TO DOIT OR CONBIC HERE TO TOOK THE LETT WER SIMON AR YOU BUT INTEREST TO E\n",
            "AND THERE SI'ME ATHE ADDITIONAL RESOURCES AH YOU CAN ALSO TAKE OUT A BOOKS AM THAT I\n",
            "E I WROTE SO DES T HERE PU HERE OE HERE ABOTYS IN\n",
            "DHE ASHITEWAS OR EUCICO TO THE GIMET BY WEBSI LEPOTO LEMOR\n",
            "AGUGASENDING OR OPEN SOUCE AND YOUL SPACE OR VIGIRITATION YOU CAN CHICK OUT SOMEWOT MY\n",
            "A PECKAGES TAT I WE IDITS OR DISHES A BOOK THAT HAD WROUHT ABOUT IN GORS A JI\n",
            "G EOSOL A LEIF MAR AND THERE ARE A LOT MORE PACKAGES THOUG YOU CANNO\n",
            "SO SEK OUT THERE OPEN GIO SPESO SARUSSENS GIVE HAPA REPOISERY\n",
            "FOR YOU SEE ALL THESE SPECULTORS ARE THE ONE THAT I CREATING AND OSO A MAINT\n",
            "ANY AND ARE WE ATE MORE IN THE FUTURE BUT THESE AVISKI ALL THE THINGS THAT ARE U\n",
            "S LADY AND THIS COURSE IS TEASING YOU AHOW WOU DEVELOP SOMETHING LIKE THAT\n",
            "AND ANCAN HOLE OAND GIVE HAP YOU CAN MAKE IT EXTASTABLE OTHER PEOPLE AND ALSOILL TRY\n",
            "TO HELP YOURSELF BECAUSE IM YOU IMORE STRUCK OR MOR ORGANIZED\n",
            "ANDS MORE TO BE PRODUCIBLE EASILY ACCESSIBLE AND L\n",
            "ASTLY THIS IS MY CONTE INFORMATION AR OF COURSE IF YOU HAVE ANY QUESTIONS A YOUR WAYCOME T\n",
            "I RECCREATE THAT GUIHAP REPOISTERY AND FOR THIS COURSE AR LATER AND YOU'VE HAD ANY QUESTIONS AGAINST\n",
            "R ASK QUESTIONS OR ECAP OR OR MUST BE SEVICALLY POISORY IF A INTERESTED IN\n",
            "A ANY OF THOSE A CASE OR DIT IS MORE LIKE A VERRY BRIEF A INCH OVEL\n",
            "I HOPE YOU AE UM INXITE VOOLL AND IF YOURE INTERESTED IN\n",
            "EARNING HOW TO DIVE UP OPEN SOURCE PECKAGES FOR GIO SPICOL ANELYSIS AND VIZRIGIS\n",
            "D ARE YOU CAN FOLLOW DISCOURSE I WILL SEE YOU IN THE NEXT VIDIO THE CARE\n",
            "ATHER\n"
          ]
        }
      ],
      "source": [
        "for speech in stream:\n",
        "        if len(speech.shape) > 1:\n",
        "            speech = speech[:, 0] + speech[:, 1]\n",
        "\n",
        "        input_values = tokenizer(speech, return_tensors=\"pt\").input_values\n",
        "        logits = model(input_values).logits\n",
        "\n",
        "        predicted_ids = torch.argmax(logits, dim=-1)\n",
        "        transcription_ = tokenizer.decode(predicted_ids[0])\n",
        "        transcribe_text_ = transcribe_text_ + ' ' + transcription_\n",
        "        print(transcription_)"
      ]
    },
    {
      "cell_type": "code",
      "source": [
        "## summarize book with T5 model\n",
        "t0 = time.time() # timer\n",
        "summary_t5_ = summarizer_t5(transcribe_text_, min_length=500, max_length=1000) # change min_ and max_length for different output\n",
        "print(\"Summarization took \" + str(round((time.time() - t0) / 60, 2)) + \" minutes.\")"
      ],
      "metadata": {
        "colab": {
          "base_uri": "https://localhost:8080/"
        },
        "id": "Hrz71v6yvqOI",
        "outputId": "467eb57d-e4a0-47d5-8963-917177db8f49"
      },
      "execution_count": 32,
      "outputs": [
        {
          "output_type": "stream",
          "name": "stdout",
          "text": [
            "Summarization took 13.78 minutes.\n"
          ]
        }
      ]
    },
    {
      "cell_type": "code",
      "source": [
        "pp.pprint(summary_t5_[0]['summary_text'])"
      ],
      "metadata": {
        "colab": {
          "base_uri": "https://localhost:8080/"
        },
        "id": "RpGAt7cBxpyP",
        "outputId": "81752e41-fb19-46cb-f48d-beb5c5ac9d06"
      },
      "execution_count": 33,
      "outputs": [
        {
          "output_type": "stream",
          "name": "stdout",
          "text": [
            "('JOGOPE FIVETENT A JOGPIC SOP ER DESIGN THIS IS THE CAUSE THAT I AM TEACHING '\n",
            " 'AT THE UNIVERSITY OF TENNESSEE A HE TEPAMO GEOGROPHY IN A SUSTAINABEAUTY ING '\n",
            " 'A SPREIN TWENTY THIRTY FOUR ALL RIGHT NOW AND SOTRE IT WILL BE THE FIRST DAY '\n",
            " 'OF A CLASS A DISCOURSE LEVIE WILL BE RECORDING CLASS NE N -S -D -A AU AUX '\n",
            " 'AU-N-N AUZ AN ÜZUNUNUNZ ÜÜN-UNUNN ÜNSUNUNNENEN-ZZZ AUNUNUNSO '\n",
            " 'ÜNUNZUNNEUNUNSUNUNÜÜÜLUNUNLÜÜZ LUNUNSA ÜNFÜZZUNZZÜRE AN LIV AKÜÜNSTAUN AN '\n",
            " 'UNANÜRE SAUXÜK AUÜÜ AN-ZÜ Ü AK-Z SKÜÜ-K AK SK AN SAU ÜS AU SÜ HER ÜKÜZ HERE '\n",
            " 'HE AUAU AB AU IN AU.ZÜZÜÜ  ÜRE AKAU HE IN ÜAB ÜAU & Ü& AU& && '\n",
            " 'AB-ÜÜAB-S-IN-RE-AN AN EXONAN ARE AN ZÜN ANZONAL AN DUNS AN HONS ANNON AN '\n",
            " 'MÜNZ ANNAN SON ANSO AN A AN IS AN OZ ARE A ARE IN AN SO AN SA AN TAS ANNE '\n",
            " 'ANSON ARE SUN ARE OAN TI ANON ARE SOME AN FAN HER-E ARE E AN WAS AB SA AU SA '\n",
            " 'HER IN HER SA UND HER E HE-E-Z E AU E HERE AUE NE-NE ANN HER S-NE-E S')\n"
          ]
        }
      ]
    },
    {
      "cell_type": "code",
      "source": [],
      "metadata": {
        "id": "lZI_-DY11ahU"
      },
      "execution_count": null,
      "outputs": []
    }
  ],
  "metadata": {
    "kernelspec": {
      "display_name": "Python 3",
      "language": "python",
      "name": "python3"
    },
    "language_info": {
      "codemirror_mode": {
        "name": "ipython",
        "version": 3
      },
      "file_extension": ".py",
      "mimetype": "text/x-python",
      "name": "python",
      "nbconvert_exporter": "python",
      "pygments_lexer": "ipython3",
      "version": "3.6.10"
    },
    "colab": {
      "provenance": [],
      "include_colab_link": true
    },
    "widgets": {
      "application/vnd.jupyter.widget-state+json": {
        "a71c4b6191f64d54a579ac17fe757fa8": {
          "model_module": "@jupyter-widgets/controls",
          "model_name": "HBoxModel",
          "model_module_version": "1.5.0",
          "state": {
            "_dom_classes": [],
            "_model_module": "@jupyter-widgets/controls",
            "_model_module_version": "1.5.0",
            "_model_name": "HBoxModel",
            "_view_count": null,
            "_view_module": "@jupyter-widgets/controls",
            "_view_module_version": "1.5.0",
            "_view_name": "HBoxView",
            "box_style": "",
            "children": [
              "IPY_MODEL_6485cc9a093f4fe6908decf31aa9aff3",
              "IPY_MODEL_b40b4232d6ae49babda1e94b9189a3fc",
              "IPY_MODEL_6fc09891c6bc4c9fa7a18c1ad64d9daa"
            ],
            "layout": "IPY_MODEL_64a8c9f4ede646d6858a3c3aac0288cb"
          }
        },
        "6485cc9a093f4fe6908decf31aa9aff3": {
          "model_module": "@jupyter-widgets/controls",
          "model_name": "HTMLModel",
          "model_module_version": "1.5.0",
          "state": {
            "_dom_classes": [],
            "_model_module": "@jupyter-widgets/controls",
            "_model_module_version": "1.5.0",
            "_model_name": "HTMLModel",
            "_view_count": null,
            "_view_module": "@jupyter-widgets/controls",
            "_view_module_version": "1.5.0",
            "_view_name": "HTMLView",
            "description": "",
            "description_tooltip": null,
            "layout": "IPY_MODEL_b7004f7ca8bc49609e7bdad8212aab0c",
            "placeholder": "​",
            "style": "IPY_MODEL_803a84e35942401481dd2a17a0baf742",
            "value": "tokenizer_config.json: 100%"
          }
        },
        "b40b4232d6ae49babda1e94b9189a3fc": {
          "model_module": "@jupyter-widgets/controls",
          "model_name": "FloatProgressModel",
          "model_module_version": "1.5.0",
          "state": {
            "_dom_classes": [],
            "_model_module": "@jupyter-widgets/controls",
            "_model_module_version": "1.5.0",
            "_model_name": "FloatProgressModel",
            "_view_count": null,
            "_view_module": "@jupyter-widgets/controls",
            "_view_module_version": "1.5.0",
            "_view_name": "ProgressView",
            "bar_style": "success",
            "description": "",
            "description_tooltip": null,
            "layout": "IPY_MODEL_4ee79dfa97b6449c9727be2de47a0a80",
            "max": 163,
            "min": 0,
            "orientation": "horizontal",
            "style": "IPY_MODEL_e32aefe497a340ecb4c66968a660e65f",
            "value": 163
          }
        },
        "6fc09891c6bc4c9fa7a18c1ad64d9daa": {
          "model_module": "@jupyter-widgets/controls",
          "model_name": "HTMLModel",
          "model_module_version": "1.5.0",
          "state": {
            "_dom_classes": [],
            "_model_module": "@jupyter-widgets/controls",
            "_model_module_version": "1.5.0",
            "_model_name": "HTMLModel",
            "_view_count": null,
            "_view_module": "@jupyter-widgets/controls",
            "_view_module_version": "1.5.0",
            "_view_name": "HTMLView",
            "description": "",
            "description_tooltip": null,
            "layout": "IPY_MODEL_42d0c31d60d6406c9daa83bf3e4bef06",
            "placeholder": "​",
            "style": "IPY_MODEL_0cb5b6d415824b21bea6743596fe6bb3",
            "value": " 163/163 [00:00&lt;00:00, 2.83kB/s]"
          }
        },
        "64a8c9f4ede646d6858a3c3aac0288cb": {
          "model_module": "@jupyter-widgets/base",
          "model_name": "LayoutModel",
          "model_module_version": "1.2.0",
          "state": {
            "_model_module": "@jupyter-widgets/base",
            "_model_module_version": "1.2.0",
            "_model_name": "LayoutModel",
            "_view_count": null,
            "_view_module": "@jupyter-widgets/base",
            "_view_module_version": "1.2.0",
            "_view_name": "LayoutView",
            "align_content": null,
            "align_items": null,
            "align_self": null,
            "border": null,
            "bottom": null,
            "display": null,
            "flex": null,
            "flex_flow": null,
            "grid_area": null,
            "grid_auto_columns": null,
            "grid_auto_flow": null,
            "grid_auto_rows": null,
            "grid_column": null,
            "grid_gap": null,
            "grid_row": null,
            "grid_template_areas": null,
            "grid_template_columns": null,
            "grid_template_rows": null,
            "height": null,
            "justify_content": null,
            "justify_items": null,
            "left": null,
            "margin": null,
            "max_height": null,
            "max_width": null,
            "min_height": null,
            "min_width": null,
            "object_fit": null,
            "object_position": null,
            "order": null,
            "overflow": null,
            "overflow_x": null,
            "overflow_y": null,
            "padding": null,
            "right": null,
            "top": null,
            "visibility": null,
            "width": null
          }
        },
        "b7004f7ca8bc49609e7bdad8212aab0c": {
          "model_module": "@jupyter-widgets/base",
          "model_name": "LayoutModel",
          "model_module_version": "1.2.0",
          "state": {
            "_model_module": "@jupyter-widgets/base",
            "_model_module_version": "1.2.0",
            "_model_name": "LayoutModel",
            "_view_count": null,
            "_view_module": "@jupyter-widgets/base",
            "_view_module_version": "1.2.0",
            "_view_name": "LayoutView",
            "align_content": null,
            "align_items": null,
            "align_self": null,
            "border": null,
            "bottom": null,
            "display": null,
            "flex": null,
            "flex_flow": null,
            "grid_area": null,
            "grid_auto_columns": null,
            "grid_auto_flow": null,
            "grid_auto_rows": null,
            "grid_column": null,
            "grid_gap": null,
            "grid_row": null,
            "grid_template_areas": null,
            "grid_template_columns": null,
            "grid_template_rows": null,
            "height": null,
            "justify_content": null,
            "justify_items": null,
            "left": null,
            "margin": null,
            "max_height": null,
            "max_width": null,
            "min_height": null,
            "min_width": null,
            "object_fit": null,
            "object_position": null,
            "order": null,
            "overflow": null,
            "overflow_x": null,
            "overflow_y": null,
            "padding": null,
            "right": null,
            "top": null,
            "visibility": null,
            "width": null
          }
        },
        "803a84e35942401481dd2a17a0baf742": {
          "model_module": "@jupyter-widgets/controls",
          "model_name": "DescriptionStyleModel",
          "model_module_version": "1.5.0",
          "state": {
            "_model_module": "@jupyter-widgets/controls",
            "_model_module_version": "1.5.0",
            "_model_name": "DescriptionStyleModel",
            "_view_count": null,
            "_view_module": "@jupyter-widgets/base",
            "_view_module_version": "1.2.0",
            "_view_name": "StyleView",
            "description_width": ""
          }
        },
        "4ee79dfa97b6449c9727be2de47a0a80": {
          "model_module": "@jupyter-widgets/base",
          "model_name": "LayoutModel",
          "model_module_version": "1.2.0",
          "state": {
            "_model_module": "@jupyter-widgets/base",
            "_model_module_version": "1.2.0",
            "_model_name": "LayoutModel",
            "_view_count": null,
            "_view_module": "@jupyter-widgets/base",
            "_view_module_version": "1.2.0",
            "_view_name": "LayoutView",
            "align_content": null,
            "align_items": null,
            "align_self": null,
            "border": null,
            "bottom": null,
            "display": null,
            "flex": null,
            "flex_flow": null,
            "grid_area": null,
            "grid_auto_columns": null,
            "grid_auto_flow": null,
            "grid_auto_rows": null,
            "grid_column": null,
            "grid_gap": null,
            "grid_row": null,
            "grid_template_areas": null,
            "grid_template_columns": null,
            "grid_template_rows": null,
            "height": null,
            "justify_content": null,
            "justify_items": null,
            "left": null,
            "margin": null,
            "max_height": null,
            "max_width": null,
            "min_height": null,
            "min_width": null,
            "object_fit": null,
            "object_position": null,
            "order": null,
            "overflow": null,
            "overflow_x": null,
            "overflow_y": null,
            "padding": null,
            "right": null,
            "top": null,
            "visibility": null,
            "width": null
          }
        },
        "e32aefe497a340ecb4c66968a660e65f": {
          "model_module": "@jupyter-widgets/controls",
          "model_name": "ProgressStyleModel",
          "model_module_version": "1.5.0",
          "state": {
            "_model_module": "@jupyter-widgets/controls",
            "_model_module_version": "1.5.0",
            "_model_name": "ProgressStyleModel",
            "_view_count": null,
            "_view_module": "@jupyter-widgets/base",
            "_view_module_version": "1.2.0",
            "_view_name": "StyleView",
            "bar_color": null,
            "description_width": ""
          }
        },
        "42d0c31d60d6406c9daa83bf3e4bef06": {
          "model_module": "@jupyter-widgets/base",
          "model_name": "LayoutModel",
          "model_module_version": "1.2.0",
          "state": {
            "_model_module": "@jupyter-widgets/base",
            "_model_module_version": "1.2.0",
            "_model_name": "LayoutModel",
            "_view_count": null,
            "_view_module": "@jupyter-widgets/base",
            "_view_module_version": "1.2.0",
            "_view_name": "LayoutView",
            "align_content": null,
            "align_items": null,
            "align_self": null,
            "border": null,
            "bottom": null,
            "display": null,
            "flex": null,
            "flex_flow": null,
            "grid_area": null,
            "grid_auto_columns": null,
            "grid_auto_flow": null,
            "grid_auto_rows": null,
            "grid_column": null,
            "grid_gap": null,
            "grid_row": null,
            "grid_template_areas": null,
            "grid_template_columns": null,
            "grid_template_rows": null,
            "height": null,
            "justify_content": null,
            "justify_items": null,
            "left": null,
            "margin": null,
            "max_height": null,
            "max_width": null,
            "min_height": null,
            "min_width": null,
            "object_fit": null,
            "object_position": null,
            "order": null,
            "overflow": null,
            "overflow_x": null,
            "overflow_y": null,
            "padding": null,
            "right": null,
            "top": null,
            "visibility": null,
            "width": null
          }
        },
        "0cb5b6d415824b21bea6743596fe6bb3": {
          "model_module": "@jupyter-widgets/controls",
          "model_name": "DescriptionStyleModel",
          "model_module_version": "1.5.0",
          "state": {
            "_model_module": "@jupyter-widgets/controls",
            "_model_module_version": "1.5.0",
            "_model_name": "DescriptionStyleModel",
            "_view_count": null,
            "_view_module": "@jupyter-widgets/base",
            "_view_module_version": "1.2.0",
            "_view_name": "StyleView",
            "description_width": ""
          }
        },
        "38dcdbda7a744862848ee9b76fde12fc": {
          "model_module": "@jupyter-widgets/controls",
          "model_name": "HBoxModel",
          "model_module_version": "1.5.0",
          "state": {
            "_dom_classes": [],
            "_model_module": "@jupyter-widgets/controls",
            "_model_module_version": "1.5.0",
            "_model_name": "HBoxModel",
            "_view_count": null,
            "_view_module": "@jupyter-widgets/controls",
            "_view_module_version": "1.5.0",
            "_view_name": "HBoxView",
            "box_style": "",
            "children": [
              "IPY_MODEL_7706086ca5004b038f85867f12cd18ca",
              "IPY_MODEL_053226df1c774e2cba2dedb87dece4ed",
              "IPY_MODEL_806d32de638541d09344a8d907267b63"
            ],
            "layout": "IPY_MODEL_101a3d7680ad41dda2b6559339e95907"
          }
        },
        "7706086ca5004b038f85867f12cd18ca": {
          "model_module": "@jupyter-widgets/controls",
          "model_name": "HTMLModel",
          "model_module_version": "1.5.0",
          "state": {
            "_dom_classes": [],
            "_model_module": "@jupyter-widgets/controls",
            "_model_module_version": "1.5.0",
            "_model_name": "HTMLModel",
            "_view_count": null,
            "_view_module": "@jupyter-widgets/controls",
            "_view_module_version": "1.5.0",
            "_view_name": "HTMLView",
            "description": "",
            "description_tooltip": null,
            "layout": "IPY_MODEL_b3e761e996a34e4cad578f7b572c3fd0",
            "placeholder": "​",
            "style": "IPY_MODEL_efe1e85095f44c6f84a61c8a937d3413",
            "value": "vocab.json: 100%"
          }
        },
        "053226df1c774e2cba2dedb87dece4ed": {
          "model_module": "@jupyter-widgets/controls",
          "model_name": "FloatProgressModel",
          "model_module_version": "1.5.0",
          "state": {
            "_dom_classes": [],
            "_model_module": "@jupyter-widgets/controls",
            "_model_module_version": "1.5.0",
            "_model_name": "FloatProgressModel",
            "_view_count": null,
            "_view_module": "@jupyter-widgets/controls",
            "_view_module_version": "1.5.0",
            "_view_name": "ProgressView",
            "bar_style": "success",
            "description": "",
            "description_tooltip": null,
            "layout": "IPY_MODEL_5ea47a1d8f6d495b9e2fc09cf5d40923",
            "max": 291,
            "min": 0,
            "orientation": "horizontal",
            "style": "IPY_MODEL_073c641e90b64b5eb0c5deff3ef16b9b",
            "value": 291
          }
        },
        "806d32de638541d09344a8d907267b63": {
          "model_module": "@jupyter-widgets/controls",
          "model_name": "HTMLModel",
          "model_module_version": "1.5.0",
          "state": {
            "_dom_classes": [],
            "_model_module": "@jupyter-widgets/controls",
            "_model_module_version": "1.5.0",
            "_model_name": "HTMLModel",
            "_view_count": null,
            "_view_module": "@jupyter-widgets/controls",
            "_view_module_version": "1.5.0",
            "_view_name": "HTMLView",
            "description": "",
            "description_tooltip": null,
            "layout": "IPY_MODEL_ea1a3265870e483292c697473ca19ced",
            "placeholder": "​",
            "style": "IPY_MODEL_33e5ff3598fe45f28b7203ec6db52d50",
            "value": " 291/291 [00:00&lt;00:00, 3.49kB/s]"
          }
        },
        "101a3d7680ad41dda2b6559339e95907": {
          "model_module": "@jupyter-widgets/base",
          "model_name": "LayoutModel",
          "model_module_version": "1.2.0",
          "state": {
            "_model_module": "@jupyter-widgets/base",
            "_model_module_version": "1.2.0",
            "_model_name": "LayoutModel",
            "_view_count": null,
            "_view_module": "@jupyter-widgets/base",
            "_view_module_version": "1.2.0",
            "_view_name": "LayoutView",
            "align_content": null,
            "align_items": null,
            "align_self": null,
            "border": null,
            "bottom": null,
            "display": null,
            "flex": null,
            "flex_flow": null,
            "grid_area": null,
            "grid_auto_columns": null,
            "grid_auto_flow": null,
            "grid_auto_rows": null,
            "grid_column": null,
            "grid_gap": null,
            "grid_row": null,
            "grid_template_areas": null,
            "grid_template_columns": null,
            "grid_template_rows": null,
            "height": null,
            "justify_content": null,
            "justify_items": null,
            "left": null,
            "margin": null,
            "max_height": null,
            "max_width": null,
            "min_height": null,
            "min_width": null,
            "object_fit": null,
            "object_position": null,
            "order": null,
            "overflow": null,
            "overflow_x": null,
            "overflow_y": null,
            "padding": null,
            "right": null,
            "top": null,
            "visibility": null,
            "width": null
          }
        },
        "b3e761e996a34e4cad578f7b572c3fd0": {
          "model_module": "@jupyter-widgets/base",
          "model_name": "LayoutModel",
          "model_module_version": "1.2.0",
          "state": {
            "_model_module": "@jupyter-widgets/base",
            "_model_module_version": "1.2.0",
            "_model_name": "LayoutModel",
            "_view_count": null,
            "_view_module": "@jupyter-widgets/base",
            "_view_module_version": "1.2.0",
            "_view_name": "LayoutView",
            "align_content": null,
            "align_items": null,
            "align_self": null,
            "border": null,
            "bottom": null,
            "display": null,
            "flex": null,
            "flex_flow": null,
            "grid_area": null,
            "grid_auto_columns": null,
            "grid_auto_flow": null,
            "grid_auto_rows": null,
            "grid_column": null,
            "grid_gap": null,
            "grid_row": null,
            "grid_template_areas": null,
            "grid_template_columns": null,
            "grid_template_rows": null,
            "height": null,
            "justify_content": null,
            "justify_items": null,
            "left": null,
            "margin": null,
            "max_height": null,
            "max_width": null,
            "min_height": null,
            "min_width": null,
            "object_fit": null,
            "object_position": null,
            "order": null,
            "overflow": null,
            "overflow_x": null,
            "overflow_y": null,
            "padding": null,
            "right": null,
            "top": null,
            "visibility": null,
            "width": null
          }
        },
        "efe1e85095f44c6f84a61c8a937d3413": {
          "model_module": "@jupyter-widgets/controls",
          "model_name": "DescriptionStyleModel",
          "model_module_version": "1.5.0",
          "state": {
            "_model_module": "@jupyter-widgets/controls",
            "_model_module_version": "1.5.0",
            "_model_name": "DescriptionStyleModel",
            "_view_count": null,
            "_view_module": "@jupyter-widgets/base",
            "_view_module_version": "1.2.0",
            "_view_name": "StyleView",
            "description_width": ""
          }
        },
        "5ea47a1d8f6d495b9e2fc09cf5d40923": {
          "model_module": "@jupyter-widgets/base",
          "model_name": "LayoutModel",
          "model_module_version": "1.2.0",
          "state": {
            "_model_module": "@jupyter-widgets/base",
            "_model_module_version": "1.2.0",
            "_model_name": "LayoutModel",
            "_view_count": null,
            "_view_module": "@jupyter-widgets/base",
            "_view_module_version": "1.2.0",
            "_view_name": "LayoutView",
            "align_content": null,
            "align_items": null,
            "align_self": null,
            "border": null,
            "bottom": null,
            "display": null,
            "flex": null,
            "flex_flow": null,
            "grid_area": null,
            "grid_auto_columns": null,
            "grid_auto_flow": null,
            "grid_auto_rows": null,
            "grid_column": null,
            "grid_gap": null,
            "grid_row": null,
            "grid_template_areas": null,
            "grid_template_columns": null,
            "grid_template_rows": null,
            "height": null,
            "justify_content": null,
            "justify_items": null,
            "left": null,
            "margin": null,
            "max_height": null,
            "max_width": null,
            "min_height": null,
            "min_width": null,
            "object_fit": null,
            "object_position": null,
            "order": null,
            "overflow": null,
            "overflow_x": null,
            "overflow_y": null,
            "padding": null,
            "right": null,
            "top": null,
            "visibility": null,
            "width": null
          }
        },
        "073c641e90b64b5eb0c5deff3ef16b9b": {
          "model_module": "@jupyter-widgets/controls",
          "model_name": "ProgressStyleModel",
          "model_module_version": "1.5.0",
          "state": {
            "_model_module": "@jupyter-widgets/controls",
            "_model_module_version": "1.5.0",
            "_model_name": "ProgressStyleModel",
            "_view_count": null,
            "_view_module": "@jupyter-widgets/base",
            "_view_module_version": "1.2.0",
            "_view_name": "StyleView",
            "bar_color": null,
            "description_width": ""
          }
        },
        "ea1a3265870e483292c697473ca19ced": {
          "model_module": "@jupyter-widgets/base",
          "model_name": "LayoutModel",
          "model_module_version": "1.2.0",
          "state": {
            "_model_module": "@jupyter-widgets/base",
            "_model_module_version": "1.2.0",
            "_model_name": "LayoutModel",
            "_view_count": null,
            "_view_module": "@jupyter-widgets/base",
            "_view_module_version": "1.2.0",
            "_view_name": "LayoutView",
            "align_content": null,
            "align_items": null,
            "align_self": null,
            "border": null,
            "bottom": null,
            "display": null,
            "flex": null,
            "flex_flow": null,
            "grid_area": null,
            "grid_auto_columns": null,
            "grid_auto_flow": null,
            "grid_auto_rows": null,
            "grid_column": null,
            "grid_gap": null,
            "grid_row": null,
            "grid_template_areas": null,
            "grid_template_columns": null,
            "grid_template_rows": null,
            "height": null,
            "justify_content": null,
            "justify_items": null,
            "left": null,
            "margin": null,
            "max_height": null,
            "max_width": null,
            "min_height": null,
            "min_width": null,
            "object_fit": null,
            "object_position": null,
            "order": null,
            "overflow": null,
            "overflow_x": null,
            "overflow_y": null,
            "padding": null,
            "right": null,
            "top": null,
            "visibility": null,
            "width": null
          }
        },
        "33e5ff3598fe45f28b7203ec6db52d50": {
          "model_module": "@jupyter-widgets/controls",
          "model_name": "DescriptionStyleModel",
          "model_module_version": "1.5.0",
          "state": {
            "_model_module": "@jupyter-widgets/controls",
            "_model_module_version": "1.5.0",
            "_model_name": "DescriptionStyleModel",
            "_view_count": null,
            "_view_module": "@jupyter-widgets/base",
            "_view_module_version": "1.2.0",
            "_view_name": "StyleView",
            "description_width": ""
          }
        },
        "c131a93837c2467b8f63b2b17bb8ec5f": {
          "model_module": "@jupyter-widgets/controls",
          "model_name": "HBoxModel",
          "model_module_version": "1.5.0",
          "state": {
            "_dom_classes": [],
            "_model_module": "@jupyter-widgets/controls",
            "_model_module_version": "1.5.0",
            "_model_name": "HBoxModel",
            "_view_count": null,
            "_view_module": "@jupyter-widgets/controls",
            "_view_module_version": "1.5.0",
            "_view_name": "HBoxView",
            "box_style": "",
            "children": [
              "IPY_MODEL_05dfbd1a772347049a6e7ba43c95c031",
              "IPY_MODEL_8e87d537777e4f5fbad10a40b5822fae",
              "IPY_MODEL_ab1ff2cd7988444fb6894d35a53ae5ce"
            ],
            "layout": "IPY_MODEL_8369f11314d14b51ac690cc5aa864ce8"
          }
        },
        "05dfbd1a772347049a6e7ba43c95c031": {
          "model_module": "@jupyter-widgets/controls",
          "model_name": "HTMLModel",
          "model_module_version": "1.5.0",
          "state": {
            "_dom_classes": [],
            "_model_module": "@jupyter-widgets/controls",
            "_model_module_version": "1.5.0",
            "_model_name": "HTMLModel",
            "_view_count": null,
            "_view_module": "@jupyter-widgets/controls",
            "_view_module_version": "1.5.0",
            "_view_name": "HTMLView",
            "description": "",
            "description_tooltip": null,
            "layout": "IPY_MODEL_ca8a9f44279f411aaae2bd5fdafc9934",
            "placeholder": "​",
            "style": "IPY_MODEL_267b000547114491b304d687533cb6dc",
            "value": "special_tokens_map.json: 100%"
          }
        },
        "8e87d537777e4f5fbad10a40b5822fae": {
          "model_module": "@jupyter-widgets/controls",
          "model_name": "FloatProgressModel",
          "model_module_version": "1.5.0",
          "state": {
            "_dom_classes": [],
            "_model_module": "@jupyter-widgets/controls",
            "_model_module_version": "1.5.0",
            "_model_name": "FloatProgressModel",
            "_view_count": null,
            "_view_module": "@jupyter-widgets/controls",
            "_view_module_version": "1.5.0",
            "_view_name": "ProgressView",
            "bar_style": "success",
            "description": "",
            "description_tooltip": null,
            "layout": "IPY_MODEL_239ffcbf38574a819155c42283b97c2e",
            "max": 85,
            "min": 0,
            "orientation": "horizontal",
            "style": "IPY_MODEL_c88a9b0f141a449c9ce7aaf8d2345abd",
            "value": 85
          }
        },
        "ab1ff2cd7988444fb6894d35a53ae5ce": {
          "model_module": "@jupyter-widgets/controls",
          "model_name": "HTMLModel",
          "model_module_version": "1.5.0",
          "state": {
            "_dom_classes": [],
            "_model_module": "@jupyter-widgets/controls",
            "_model_module_version": "1.5.0",
            "_model_name": "HTMLModel",
            "_view_count": null,
            "_view_module": "@jupyter-widgets/controls",
            "_view_module_version": "1.5.0",
            "_view_name": "HTMLView",
            "description": "",
            "description_tooltip": null,
            "layout": "IPY_MODEL_e5872cedd6984afabdfd09195eedb3b1",
            "placeholder": "​",
            "style": "IPY_MODEL_59782e67a8304546b8326825b0a70b0c",
            "value": " 85.0/85.0 [00:00&lt;00:00, 1.43kB/s]"
          }
        },
        "8369f11314d14b51ac690cc5aa864ce8": {
          "model_module": "@jupyter-widgets/base",
          "model_name": "LayoutModel",
          "model_module_version": "1.2.0",
          "state": {
            "_model_module": "@jupyter-widgets/base",
            "_model_module_version": "1.2.0",
            "_model_name": "LayoutModel",
            "_view_count": null,
            "_view_module": "@jupyter-widgets/base",
            "_view_module_version": "1.2.0",
            "_view_name": "LayoutView",
            "align_content": null,
            "align_items": null,
            "align_self": null,
            "border": null,
            "bottom": null,
            "display": null,
            "flex": null,
            "flex_flow": null,
            "grid_area": null,
            "grid_auto_columns": null,
            "grid_auto_flow": null,
            "grid_auto_rows": null,
            "grid_column": null,
            "grid_gap": null,
            "grid_row": null,
            "grid_template_areas": null,
            "grid_template_columns": null,
            "grid_template_rows": null,
            "height": null,
            "justify_content": null,
            "justify_items": null,
            "left": null,
            "margin": null,
            "max_height": null,
            "max_width": null,
            "min_height": null,
            "min_width": null,
            "object_fit": null,
            "object_position": null,
            "order": null,
            "overflow": null,
            "overflow_x": null,
            "overflow_y": null,
            "padding": null,
            "right": null,
            "top": null,
            "visibility": null,
            "width": null
          }
        },
        "ca8a9f44279f411aaae2bd5fdafc9934": {
          "model_module": "@jupyter-widgets/base",
          "model_name": "LayoutModel",
          "model_module_version": "1.2.0",
          "state": {
            "_model_module": "@jupyter-widgets/base",
            "_model_module_version": "1.2.0",
            "_model_name": "LayoutModel",
            "_view_count": null,
            "_view_module": "@jupyter-widgets/base",
            "_view_module_version": "1.2.0",
            "_view_name": "LayoutView",
            "align_content": null,
            "align_items": null,
            "align_self": null,
            "border": null,
            "bottom": null,
            "display": null,
            "flex": null,
            "flex_flow": null,
            "grid_area": null,
            "grid_auto_columns": null,
            "grid_auto_flow": null,
            "grid_auto_rows": null,
            "grid_column": null,
            "grid_gap": null,
            "grid_row": null,
            "grid_template_areas": null,
            "grid_template_columns": null,
            "grid_template_rows": null,
            "height": null,
            "justify_content": null,
            "justify_items": null,
            "left": null,
            "margin": null,
            "max_height": null,
            "max_width": null,
            "min_height": null,
            "min_width": null,
            "object_fit": null,
            "object_position": null,
            "order": null,
            "overflow": null,
            "overflow_x": null,
            "overflow_y": null,
            "padding": null,
            "right": null,
            "top": null,
            "visibility": null,
            "width": null
          }
        },
        "267b000547114491b304d687533cb6dc": {
          "model_module": "@jupyter-widgets/controls",
          "model_name": "DescriptionStyleModel",
          "model_module_version": "1.5.0",
          "state": {
            "_model_module": "@jupyter-widgets/controls",
            "_model_module_version": "1.5.0",
            "_model_name": "DescriptionStyleModel",
            "_view_count": null,
            "_view_module": "@jupyter-widgets/base",
            "_view_module_version": "1.2.0",
            "_view_name": "StyleView",
            "description_width": ""
          }
        },
        "239ffcbf38574a819155c42283b97c2e": {
          "model_module": "@jupyter-widgets/base",
          "model_name": "LayoutModel",
          "model_module_version": "1.2.0",
          "state": {
            "_model_module": "@jupyter-widgets/base",
            "_model_module_version": "1.2.0",
            "_model_name": "LayoutModel",
            "_view_count": null,
            "_view_module": "@jupyter-widgets/base",
            "_view_module_version": "1.2.0",
            "_view_name": "LayoutView",
            "align_content": null,
            "align_items": null,
            "align_self": null,
            "border": null,
            "bottom": null,
            "display": null,
            "flex": null,
            "flex_flow": null,
            "grid_area": null,
            "grid_auto_columns": null,
            "grid_auto_flow": null,
            "grid_auto_rows": null,
            "grid_column": null,
            "grid_gap": null,
            "grid_row": null,
            "grid_template_areas": null,
            "grid_template_columns": null,
            "grid_template_rows": null,
            "height": null,
            "justify_content": null,
            "justify_items": null,
            "left": null,
            "margin": null,
            "max_height": null,
            "max_width": null,
            "min_height": null,
            "min_width": null,
            "object_fit": null,
            "object_position": null,
            "order": null,
            "overflow": null,
            "overflow_x": null,
            "overflow_y": null,
            "padding": null,
            "right": null,
            "top": null,
            "visibility": null,
            "width": null
          }
        },
        "c88a9b0f141a449c9ce7aaf8d2345abd": {
          "model_module": "@jupyter-widgets/controls",
          "model_name": "ProgressStyleModel",
          "model_module_version": "1.5.0",
          "state": {
            "_model_module": "@jupyter-widgets/controls",
            "_model_module_version": "1.5.0",
            "_model_name": "ProgressStyleModel",
            "_view_count": null,
            "_view_module": "@jupyter-widgets/base",
            "_view_module_version": "1.2.0",
            "_view_name": "StyleView",
            "bar_color": null,
            "description_width": ""
          }
        },
        "e5872cedd6984afabdfd09195eedb3b1": {
          "model_module": "@jupyter-widgets/base",
          "model_name": "LayoutModel",
          "model_module_version": "1.2.0",
          "state": {
            "_model_module": "@jupyter-widgets/base",
            "_model_module_version": "1.2.0",
            "_model_name": "LayoutModel",
            "_view_count": null,
            "_view_module": "@jupyter-widgets/base",
            "_view_module_version": "1.2.0",
            "_view_name": "LayoutView",
            "align_content": null,
            "align_items": null,
            "align_self": null,
            "border": null,
            "bottom": null,
            "display": null,
            "flex": null,
            "flex_flow": null,
            "grid_area": null,
            "grid_auto_columns": null,
            "grid_auto_flow": null,
            "grid_auto_rows": null,
            "grid_column": null,
            "grid_gap": null,
            "grid_row": null,
            "grid_template_areas": null,
            "grid_template_columns": null,
            "grid_template_rows": null,
            "height": null,
            "justify_content": null,
            "justify_items": null,
            "left": null,
            "margin": null,
            "max_height": null,
            "max_width": null,
            "min_height": null,
            "min_width": null,
            "object_fit": null,
            "object_position": null,
            "order": null,
            "overflow": null,
            "overflow_x": null,
            "overflow_y": null,
            "padding": null,
            "right": null,
            "top": null,
            "visibility": null,
            "width": null
          }
        },
        "59782e67a8304546b8326825b0a70b0c": {
          "model_module": "@jupyter-widgets/controls",
          "model_name": "DescriptionStyleModel",
          "model_module_version": "1.5.0",
          "state": {
            "_model_module": "@jupyter-widgets/controls",
            "_model_module_version": "1.5.0",
            "_model_name": "DescriptionStyleModel",
            "_view_count": null,
            "_view_module": "@jupyter-widgets/base",
            "_view_module_version": "1.2.0",
            "_view_name": "StyleView",
            "description_width": ""
          }
        },
        "849869f421304ecca168e63a024647e4": {
          "model_module": "@jupyter-widgets/controls",
          "model_name": "HBoxModel",
          "model_module_version": "1.5.0",
          "state": {
            "_dom_classes": [],
            "_model_module": "@jupyter-widgets/controls",
            "_model_module_version": "1.5.0",
            "_model_name": "HBoxModel",
            "_view_count": null,
            "_view_module": "@jupyter-widgets/controls",
            "_view_module_version": "1.5.0",
            "_view_name": "HBoxView",
            "box_style": "",
            "children": [
              "IPY_MODEL_19e5bf360070426f8437dc96520ac383",
              "IPY_MODEL_1f0be9bce4a64eb0be656fdf3b13b833",
              "IPY_MODEL_6deda21f768c475a91414215cf8cdc0d"
            ],
            "layout": "IPY_MODEL_00891e5e16f9453bb96fb2fc3ec4444a"
          }
        },
        "19e5bf360070426f8437dc96520ac383": {
          "model_module": "@jupyter-widgets/controls",
          "model_name": "HTMLModel",
          "model_module_version": "1.5.0",
          "state": {
            "_dom_classes": [],
            "_model_module": "@jupyter-widgets/controls",
            "_model_module_version": "1.5.0",
            "_model_name": "HTMLModel",
            "_view_count": null,
            "_view_module": "@jupyter-widgets/controls",
            "_view_module_version": "1.5.0",
            "_view_name": "HTMLView",
            "description": "",
            "description_tooltip": null,
            "layout": "IPY_MODEL_2ffb6564881c4ad1a4f5a11a6222e3fd",
            "placeholder": "​",
            "style": "IPY_MODEL_67b665d43e7c4a5ca1011a3bb86e9fea",
            "value": "config.json: 100%"
          }
        },
        "1f0be9bce4a64eb0be656fdf3b13b833": {
          "model_module": "@jupyter-widgets/controls",
          "model_name": "FloatProgressModel",
          "model_module_version": "1.5.0",
          "state": {
            "_dom_classes": [],
            "_model_module": "@jupyter-widgets/controls",
            "_model_module_version": "1.5.0",
            "_model_name": "FloatProgressModel",
            "_view_count": null,
            "_view_module": "@jupyter-widgets/controls",
            "_view_module_version": "1.5.0",
            "_view_name": "ProgressView",
            "bar_style": "success",
            "description": "",
            "description_tooltip": null,
            "layout": "IPY_MODEL_f3f7229327574a03a6f898e842d95025",
            "max": 843,
            "min": 0,
            "orientation": "horizontal",
            "style": "IPY_MODEL_44289e827b544cf28c43d4375e262be6",
            "value": 843
          }
        },
        "6deda21f768c475a91414215cf8cdc0d": {
          "model_module": "@jupyter-widgets/controls",
          "model_name": "HTMLModel",
          "model_module_version": "1.5.0",
          "state": {
            "_dom_classes": [],
            "_model_module": "@jupyter-widgets/controls",
            "_model_module_version": "1.5.0",
            "_model_name": "HTMLModel",
            "_view_count": null,
            "_view_module": "@jupyter-widgets/controls",
            "_view_module_version": "1.5.0",
            "_view_name": "HTMLView",
            "description": "",
            "description_tooltip": null,
            "layout": "IPY_MODEL_90b1b56d6518449780e6658cc1144c96",
            "placeholder": "​",
            "style": "IPY_MODEL_70d16ff57eed47e6b5f1ff11634c279a",
            "value": " 843/843 [00:00&lt;00:00, 14.5kB/s]"
          }
        },
        "00891e5e16f9453bb96fb2fc3ec4444a": {
          "model_module": "@jupyter-widgets/base",
          "model_name": "LayoutModel",
          "model_module_version": "1.2.0",
          "state": {
            "_model_module": "@jupyter-widgets/base",
            "_model_module_version": "1.2.0",
            "_model_name": "LayoutModel",
            "_view_count": null,
            "_view_module": "@jupyter-widgets/base",
            "_view_module_version": "1.2.0",
            "_view_name": "LayoutView",
            "align_content": null,
            "align_items": null,
            "align_self": null,
            "border": null,
            "bottom": null,
            "display": null,
            "flex": null,
            "flex_flow": null,
            "grid_area": null,
            "grid_auto_columns": null,
            "grid_auto_flow": null,
            "grid_auto_rows": null,
            "grid_column": null,
            "grid_gap": null,
            "grid_row": null,
            "grid_template_areas": null,
            "grid_template_columns": null,
            "grid_template_rows": null,
            "height": null,
            "justify_content": null,
            "justify_items": null,
            "left": null,
            "margin": null,
            "max_height": null,
            "max_width": null,
            "min_height": null,
            "min_width": null,
            "object_fit": null,
            "object_position": null,
            "order": null,
            "overflow": null,
            "overflow_x": null,
            "overflow_y": null,
            "padding": null,
            "right": null,
            "top": null,
            "visibility": null,
            "width": null
          }
        },
        "2ffb6564881c4ad1a4f5a11a6222e3fd": {
          "model_module": "@jupyter-widgets/base",
          "model_name": "LayoutModel",
          "model_module_version": "1.2.0",
          "state": {
            "_model_module": "@jupyter-widgets/base",
            "_model_module_version": "1.2.0",
            "_model_name": "LayoutModel",
            "_view_count": null,
            "_view_module": "@jupyter-widgets/base",
            "_view_module_version": "1.2.0",
            "_view_name": "LayoutView",
            "align_content": null,
            "align_items": null,
            "align_self": null,
            "border": null,
            "bottom": null,
            "display": null,
            "flex": null,
            "flex_flow": null,
            "grid_area": null,
            "grid_auto_columns": null,
            "grid_auto_flow": null,
            "grid_auto_rows": null,
            "grid_column": null,
            "grid_gap": null,
            "grid_row": null,
            "grid_template_areas": null,
            "grid_template_columns": null,
            "grid_template_rows": null,
            "height": null,
            "justify_content": null,
            "justify_items": null,
            "left": null,
            "margin": null,
            "max_height": null,
            "max_width": null,
            "min_height": null,
            "min_width": null,
            "object_fit": null,
            "object_position": null,
            "order": null,
            "overflow": null,
            "overflow_x": null,
            "overflow_y": null,
            "padding": null,
            "right": null,
            "top": null,
            "visibility": null,
            "width": null
          }
        },
        "67b665d43e7c4a5ca1011a3bb86e9fea": {
          "model_module": "@jupyter-widgets/controls",
          "model_name": "DescriptionStyleModel",
          "model_module_version": "1.5.0",
          "state": {
            "_model_module": "@jupyter-widgets/controls",
            "_model_module_version": "1.5.0",
            "_model_name": "DescriptionStyleModel",
            "_view_count": null,
            "_view_module": "@jupyter-widgets/base",
            "_view_module_version": "1.2.0",
            "_view_name": "StyleView",
            "description_width": ""
          }
        },
        "f3f7229327574a03a6f898e842d95025": {
          "model_module": "@jupyter-widgets/base",
          "model_name": "LayoutModel",
          "model_module_version": "1.2.0",
          "state": {
            "_model_module": "@jupyter-widgets/base",
            "_model_module_version": "1.2.0",
            "_model_name": "LayoutModel",
            "_view_count": null,
            "_view_module": "@jupyter-widgets/base",
            "_view_module_version": "1.2.0",
            "_view_name": "LayoutView",
            "align_content": null,
            "align_items": null,
            "align_self": null,
            "border": null,
            "bottom": null,
            "display": null,
            "flex": null,
            "flex_flow": null,
            "grid_area": null,
            "grid_auto_columns": null,
            "grid_auto_flow": null,
            "grid_auto_rows": null,
            "grid_column": null,
            "grid_gap": null,
            "grid_row": null,
            "grid_template_areas": null,
            "grid_template_columns": null,
            "grid_template_rows": null,
            "height": null,
            "justify_content": null,
            "justify_items": null,
            "left": null,
            "margin": null,
            "max_height": null,
            "max_width": null,
            "min_height": null,
            "min_width": null,
            "object_fit": null,
            "object_position": null,
            "order": null,
            "overflow": null,
            "overflow_x": null,
            "overflow_y": null,
            "padding": null,
            "right": null,
            "top": null,
            "visibility": null,
            "width": null
          }
        },
        "44289e827b544cf28c43d4375e262be6": {
          "model_module": "@jupyter-widgets/controls",
          "model_name": "ProgressStyleModel",
          "model_module_version": "1.5.0",
          "state": {
            "_model_module": "@jupyter-widgets/controls",
            "_model_module_version": "1.5.0",
            "_model_name": "ProgressStyleModel",
            "_view_count": null,
            "_view_module": "@jupyter-widgets/base",
            "_view_module_version": "1.2.0",
            "_view_name": "StyleView",
            "bar_color": null,
            "description_width": ""
          }
        },
        "90b1b56d6518449780e6658cc1144c96": {
          "model_module": "@jupyter-widgets/base",
          "model_name": "LayoutModel",
          "model_module_version": "1.2.0",
          "state": {
            "_model_module": "@jupyter-widgets/base",
            "_model_module_version": "1.2.0",
            "_model_name": "LayoutModel",
            "_view_count": null,
            "_view_module": "@jupyter-widgets/base",
            "_view_module_version": "1.2.0",
            "_view_name": "LayoutView",
            "align_content": null,
            "align_items": null,
            "align_self": null,
            "border": null,
            "bottom": null,
            "display": null,
            "flex": null,
            "flex_flow": null,
            "grid_area": null,
            "grid_auto_columns": null,
            "grid_auto_flow": null,
            "grid_auto_rows": null,
            "grid_column": null,
            "grid_gap": null,
            "grid_row": null,
            "grid_template_areas": null,
            "grid_template_columns": null,
            "grid_template_rows": null,
            "height": null,
            "justify_content": null,
            "justify_items": null,
            "left": null,
            "margin": null,
            "max_height": null,
            "max_width": null,
            "min_height": null,
            "min_width": null,
            "object_fit": null,
            "object_position": null,
            "order": null,
            "overflow": null,
            "overflow_x": null,
            "overflow_y": null,
            "padding": null,
            "right": null,
            "top": null,
            "visibility": null,
            "width": null
          }
        },
        "70d16ff57eed47e6b5f1ff11634c279a": {
          "model_module": "@jupyter-widgets/controls",
          "model_name": "DescriptionStyleModel",
          "model_module_version": "1.5.0",
          "state": {
            "_model_module": "@jupyter-widgets/controls",
            "_model_module_version": "1.5.0",
            "_model_name": "DescriptionStyleModel",
            "_view_count": null,
            "_view_module": "@jupyter-widgets/base",
            "_view_module_version": "1.2.0",
            "_view_name": "StyleView",
            "description_width": ""
          }
        },
        "958f92387f1b419bb34a103421e2ca0f": {
          "model_module": "@jupyter-widgets/controls",
          "model_name": "HBoxModel",
          "model_module_version": "1.5.0",
          "state": {
            "_dom_classes": [],
            "_model_module": "@jupyter-widgets/controls",
            "_model_module_version": "1.5.0",
            "_model_name": "HBoxModel",
            "_view_count": null,
            "_view_module": "@jupyter-widgets/controls",
            "_view_module_version": "1.5.0",
            "_view_name": "HBoxView",
            "box_style": "",
            "children": [
              "IPY_MODEL_39994ea09508450da2761088ef23af2b",
              "IPY_MODEL_e61a830dc8cd445ea22ebe8c76edf4fa",
              "IPY_MODEL_cc7bd15e02934b06ba729db8b42ccac1"
            ],
            "layout": "IPY_MODEL_c68b355b419b4b27adeaa43899a95c41"
          }
        },
        "39994ea09508450da2761088ef23af2b": {
          "model_module": "@jupyter-widgets/controls",
          "model_name": "HTMLModel",
          "model_module_version": "1.5.0",
          "state": {
            "_dom_classes": [],
            "_model_module": "@jupyter-widgets/controls",
            "_model_module_version": "1.5.0",
            "_model_name": "HTMLModel",
            "_view_count": null,
            "_view_module": "@jupyter-widgets/controls",
            "_view_module_version": "1.5.0",
            "_view_name": "HTMLView",
            "description": "",
            "description_tooltip": null,
            "layout": "IPY_MODEL_828b20370d1e4d0593d8183bcd03e674",
            "placeholder": "​",
            "style": "IPY_MODEL_419289d1abec430fa583aa9aeeaab390",
            "value": "pytorch_model.bin: 100%"
          }
        },
        "e61a830dc8cd445ea22ebe8c76edf4fa": {
          "model_module": "@jupyter-widgets/controls",
          "model_name": "FloatProgressModel",
          "model_module_version": "1.5.0",
          "state": {
            "_dom_classes": [],
            "_model_module": "@jupyter-widgets/controls",
            "_model_module_version": "1.5.0",
            "_model_name": "FloatProgressModel",
            "_view_count": null,
            "_view_module": "@jupyter-widgets/controls",
            "_view_module_version": "1.5.0",
            "_view_name": "ProgressView",
            "bar_style": "success",
            "description": "",
            "description_tooltip": null,
            "layout": "IPY_MODEL_e5967d8542f5490ea048de1a41c96c59",
            "max": 1262009187,
            "min": 0,
            "orientation": "horizontal",
            "style": "IPY_MODEL_1a1a3d7ed1344c3581dd897bdbca628a",
            "value": 1262009187
          }
        },
        "cc7bd15e02934b06ba729db8b42ccac1": {
          "model_module": "@jupyter-widgets/controls",
          "model_name": "HTMLModel",
          "model_module_version": "1.5.0",
          "state": {
            "_dom_classes": [],
            "_model_module": "@jupyter-widgets/controls",
            "_model_module_version": "1.5.0",
            "_model_name": "HTMLModel",
            "_view_count": null,
            "_view_module": "@jupyter-widgets/controls",
            "_view_module_version": "1.5.0",
            "_view_name": "HTMLView",
            "description": "",
            "description_tooltip": null,
            "layout": "IPY_MODEL_010a2b1ffd8d49e88c169e977e7cc8a7",
            "placeholder": "​",
            "style": "IPY_MODEL_2caef69efa31409da006b23b3149a72a",
            "value": " 1.26G/1.26G [00:13&lt;00:00, 210MB/s]"
          }
        },
        "c68b355b419b4b27adeaa43899a95c41": {
          "model_module": "@jupyter-widgets/base",
          "model_name": "LayoutModel",
          "model_module_version": "1.2.0",
          "state": {
            "_model_module": "@jupyter-widgets/base",
            "_model_module_version": "1.2.0",
            "_model_name": "LayoutModel",
            "_view_count": null,
            "_view_module": "@jupyter-widgets/base",
            "_view_module_version": "1.2.0",
            "_view_name": "LayoutView",
            "align_content": null,
            "align_items": null,
            "align_self": null,
            "border": null,
            "bottom": null,
            "display": null,
            "flex": null,
            "flex_flow": null,
            "grid_area": null,
            "grid_auto_columns": null,
            "grid_auto_flow": null,
            "grid_auto_rows": null,
            "grid_column": null,
            "grid_gap": null,
            "grid_row": null,
            "grid_template_areas": null,
            "grid_template_columns": null,
            "grid_template_rows": null,
            "height": null,
            "justify_content": null,
            "justify_items": null,
            "left": null,
            "margin": null,
            "max_height": null,
            "max_width": null,
            "min_height": null,
            "min_width": null,
            "object_fit": null,
            "object_position": null,
            "order": null,
            "overflow": null,
            "overflow_x": null,
            "overflow_y": null,
            "padding": null,
            "right": null,
            "top": null,
            "visibility": null,
            "width": null
          }
        },
        "828b20370d1e4d0593d8183bcd03e674": {
          "model_module": "@jupyter-widgets/base",
          "model_name": "LayoutModel",
          "model_module_version": "1.2.0",
          "state": {
            "_model_module": "@jupyter-widgets/base",
            "_model_module_version": "1.2.0",
            "_model_name": "LayoutModel",
            "_view_count": null,
            "_view_module": "@jupyter-widgets/base",
            "_view_module_version": "1.2.0",
            "_view_name": "LayoutView",
            "align_content": null,
            "align_items": null,
            "align_self": null,
            "border": null,
            "bottom": null,
            "display": null,
            "flex": null,
            "flex_flow": null,
            "grid_area": null,
            "grid_auto_columns": null,
            "grid_auto_flow": null,
            "grid_auto_rows": null,
            "grid_column": null,
            "grid_gap": null,
            "grid_row": null,
            "grid_template_areas": null,
            "grid_template_columns": null,
            "grid_template_rows": null,
            "height": null,
            "justify_content": null,
            "justify_items": null,
            "left": null,
            "margin": null,
            "max_height": null,
            "max_width": null,
            "min_height": null,
            "min_width": null,
            "object_fit": null,
            "object_position": null,
            "order": null,
            "overflow": null,
            "overflow_x": null,
            "overflow_y": null,
            "padding": null,
            "right": null,
            "top": null,
            "visibility": null,
            "width": null
          }
        },
        "419289d1abec430fa583aa9aeeaab390": {
          "model_module": "@jupyter-widgets/controls",
          "model_name": "DescriptionStyleModel",
          "model_module_version": "1.5.0",
          "state": {
            "_model_module": "@jupyter-widgets/controls",
            "_model_module_version": "1.5.0",
            "_model_name": "DescriptionStyleModel",
            "_view_count": null,
            "_view_module": "@jupyter-widgets/base",
            "_view_module_version": "1.2.0",
            "_view_name": "StyleView",
            "description_width": ""
          }
        },
        "e5967d8542f5490ea048de1a41c96c59": {
          "model_module": "@jupyter-widgets/base",
          "model_name": "LayoutModel",
          "model_module_version": "1.2.0",
          "state": {
            "_model_module": "@jupyter-widgets/base",
            "_model_module_version": "1.2.0",
            "_model_name": "LayoutModel",
            "_view_count": null,
            "_view_module": "@jupyter-widgets/base",
            "_view_module_version": "1.2.0",
            "_view_name": "LayoutView",
            "align_content": null,
            "align_items": null,
            "align_self": null,
            "border": null,
            "bottom": null,
            "display": null,
            "flex": null,
            "flex_flow": null,
            "grid_area": null,
            "grid_auto_columns": null,
            "grid_auto_flow": null,
            "grid_auto_rows": null,
            "grid_column": null,
            "grid_gap": null,
            "grid_row": null,
            "grid_template_areas": null,
            "grid_template_columns": null,
            "grid_template_rows": null,
            "height": null,
            "justify_content": null,
            "justify_items": null,
            "left": null,
            "margin": null,
            "max_height": null,
            "max_width": null,
            "min_height": null,
            "min_width": null,
            "object_fit": null,
            "object_position": null,
            "order": null,
            "overflow": null,
            "overflow_x": null,
            "overflow_y": null,
            "padding": null,
            "right": null,
            "top": null,
            "visibility": null,
            "width": null
          }
        },
        "1a1a3d7ed1344c3581dd897bdbca628a": {
          "model_module": "@jupyter-widgets/controls",
          "model_name": "ProgressStyleModel",
          "model_module_version": "1.5.0",
          "state": {
            "_model_module": "@jupyter-widgets/controls",
            "_model_module_version": "1.5.0",
            "_model_name": "ProgressStyleModel",
            "_view_count": null,
            "_view_module": "@jupyter-widgets/base",
            "_view_module_version": "1.2.0",
            "_view_name": "StyleView",
            "bar_color": null,
            "description_width": ""
          }
        },
        "010a2b1ffd8d49e88c169e977e7cc8a7": {
          "model_module": "@jupyter-widgets/base",
          "model_name": "LayoutModel",
          "model_module_version": "1.2.0",
          "state": {
            "_model_module": "@jupyter-widgets/base",
            "_model_module_version": "1.2.0",
            "_model_name": "LayoutModel",
            "_view_count": null,
            "_view_module": "@jupyter-widgets/base",
            "_view_module_version": "1.2.0",
            "_view_name": "LayoutView",
            "align_content": null,
            "align_items": null,
            "align_self": null,
            "border": null,
            "bottom": null,
            "display": null,
            "flex": null,
            "flex_flow": null,
            "grid_area": null,
            "grid_auto_columns": null,
            "grid_auto_flow": null,
            "grid_auto_rows": null,
            "grid_column": null,
            "grid_gap": null,
            "grid_row": null,
            "grid_template_areas": null,
            "grid_template_columns": null,
            "grid_template_rows": null,
            "height": null,
            "justify_content": null,
            "justify_items": null,
            "left": null,
            "margin": null,
            "max_height": null,
            "max_width": null,
            "min_height": null,
            "min_width": null,
            "object_fit": null,
            "object_position": null,
            "order": null,
            "overflow": null,
            "overflow_x": null,
            "overflow_y": null,
            "padding": null,
            "right": null,
            "top": null,
            "visibility": null,
            "width": null
          }
        },
        "2caef69efa31409da006b23b3149a72a": {
          "model_module": "@jupyter-widgets/controls",
          "model_name": "DescriptionStyleModel",
          "model_module_version": "1.5.0",
          "state": {
            "_model_module": "@jupyter-widgets/controls",
            "_model_module_version": "1.5.0",
            "_model_name": "DescriptionStyleModel",
            "_view_count": null,
            "_view_module": "@jupyter-widgets/base",
            "_view_module_version": "1.2.0",
            "_view_name": "StyleView",
            "description_width": ""
          }
        }
      }
    }
  },
  "nbformat": 4,
  "nbformat_minor": 0
}