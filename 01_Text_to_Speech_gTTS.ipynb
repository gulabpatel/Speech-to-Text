{
  "nbformat": 4,
  "nbformat_minor": 0,
  "metadata": {
    "colab": {
      "name": "01_Text_to_Speech_gTTS.ipynb",
      "provenance": [],
      "collapsed_sections": [],
      "authorship_tag": "ABX9TyMBEtM/+1GK7NLvFiIWOGW7",
      "include_colab_link": true
    },
    "kernelspec": {
      "name": "python3",
      "display_name": "Python 3"
    },
    "language_info": {
      "name": "python"
    }
  },
  "cells": [
    {
      "cell_type": "markdown",
      "metadata": {
        "id": "view-in-github",
        "colab_type": "text"
      },
      "source": [
        "<a href=\"https://colab.research.google.com/github/gulabpatel/Speech-to-Text/blob/main/01_Text_to_Speech_gTTS.ipynb\" target=\"_parent\"><img src=\"https://colab.research.google.com/assets/colab-badge.svg\" alt=\"Open In Colab\"/></a>"
      ]
    },
    {
      "cell_type": "code",
      "execution_count": null,
      "metadata": {
        "id": "w6W9X-O5PmNI"
      },
      "outputs": [],
      "source": [
        "!pip install gTTS"
      ]
    },
    {
      "cell_type": "code",
      "source": [
        "!gtts-cli 'Requirement already satisfied: requests in /usr/local/lib/python3.7/dist-packages (from gTTS)' --output hello.mp3"
      ],
      "metadata": {
        "id": "azZ9N94qPn1Q"
      },
      "execution_count": 3,
      "outputs": []
    },
    {
      "cell_type": "code",
      "source": [
        "from gtts import gTTS\n",
        "tts = gTTS('text to speech tesing, hope it would work fine')\n",
        "tts.save('hello.mp3')"
      ],
      "metadata": {
        "id": "K_n0N-qmPrK0"
      },
      "execution_count": 4,
      "outputs": []
    }
  ]
}