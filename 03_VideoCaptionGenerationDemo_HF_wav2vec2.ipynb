{
  "cells": [
    {
      "cell_type": "markdown",
      "metadata": {
        "id": "view-in-github",
        "colab_type": "text"
      },
      "source": [
        "<a href=\"https://colab.research.google.com/github/gulabpatel/Speech-to-Text/blob/main/03_VideoCaptionGenerationDemo_HF_wav2vec2.ipynb\" target=\"_parent\"><img src=\"https://colab.research.google.com/assets/colab-badge.svg\" alt=\"Open In Colab\"/></a>"
      ]
    },
    {
      "cell_type": "markdown",
      "source": [
        "video walkthrough the code : https://www.youtube.com/watch?v=7KaEC5LOEmc"
      ],
      "metadata": {
        "id": "syC7ISdB7n2f"
      }
    },
    {
      "cell_type": "code",
      "source": [
        "!pip install -q pytube pydub transformers"
      ],
      "metadata": {
        "id": "-ixN1O_S2Kc6"
      },
      "execution_count": 1,
      "outputs": []
    },
    {
      "cell_type": "code",
      "execution_count": 2,
      "metadata": {
        "id": "2u4WsmZU152G"
      },
      "outputs": [],
      "source": [
        "from pytube import YouTube \n",
        "from pydub import AudioSegment\n",
        "import librosa\n",
        "import soundfile as sf"
      ]
    },
    {
      "cell_type": "code",
      "execution_count": 3,
      "metadata": {
        "id": "1ZA-QL5p152U",
        "outputId": "d3c94e6c-6f2e-4da6-d94f-c834a843c7ca",
        "colab": {
          "base_uri": "https://localhost:8080/"
        }
      },
      "outputs": [
        {
          "output_type": "execute_result",
          "data": {
            "text/plain": [
              "[<Stream: itag=\"18\" mime_type=\"video/mp4\" res=\"360p\" fps=\"30fps\" vcodec=\"avc1.42001E\" acodec=\"mp4a.40.2\" progressive=\"True\" type=\"video\">, <Stream: itag=\"22\" mime_type=\"video/mp4\" res=\"720p\" fps=\"30fps\" vcodec=\"avc1.64001F\" acodec=\"mp4a.40.2\" progressive=\"True\" type=\"video\">, <Stream: itag=\"137\" mime_type=\"video/mp4\" res=\"1080p\" fps=\"30fps\" vcodec=\"avc1.640028\" progressive=\"False\" type=\"video\">, <Stream: itag=\"136\" mime_type=\"video/mp4\" res=\"720p\" fps=\"30fps\" vcodec=\"avc1.64001f\" progressive=\"False\" type=\"video\">, <Stream: itag=\"135\" mime_type=\"video/mp4\" res=\"480p\" fps=\"30fps\" vcodec=\"avc1.4d401f\" progressive=\"False\" type=\"video\">, <Stream: itag=\"134\" mime_type=\"video/mp4\" res=\"360p\" fps=\"30fps\" vcodec=\"avc1.4d401e\" progressive=\"False\" type=\"video\">, <Stream: itag=\"133\" mime_type=\"video/mp4\" res=\"240p\" fps=\"30fps\" vcodec=\"avc1.4d4015\" progressive=\"False\" type=\"video\">, <Stream: itag=\"160\" mime_type=\"video/mp4\" res=\"144p\" fps=\"30fps\" vcodec=\"avc1.4d400c\" progressive=\"False\" type=\"video\">, <Stream: itag=\"139\" mime_type=\"audio/mp4\" abr=\"48kbps\" acodec=\"mp4a.40.5\" progressive=\"False\" type=\"audio\">, <Stream: itag=\"140\" mime_type=\"audio/mp4\" abr=\"128kbps\" acodec=\"mp4a.40.2\" progressive=\"False\" type=\"audio\">]"
            ]
          },
          "metadata": {},
          "execution_count": 3
        }
      ],
      "source": [
        "audio_path = 'C://'\n",
        "link='https://www.youtube.com/watch?v=dT_aIJZ7Mxw'\n",
        "\n",
        "try: \n",
        "    yt = YouTube(link) \n",
        "except: \n",
        "    print(\"Connection Error\")\n",
        "\n",
        "yt.streams.filter(file_extension='mp4')"
      ]
    },
    {
      "cell_type": "code",
      "execution_count": 4,
      "metadata": {
        "id": "GPAVXQLh152Y",
        "outputId": "70c33823-27f4-40fa-c71b-f31298dc6379",
        "colab": {
          "base_uri": "https://localhost:8080/",
          "height": 35
        }
      },
      "outputs": [
        {
          "output_type": "execute_result",
          "data": {
            "text/plain": [
              "'/content/C://GoogleImagen.mp4'"
            ],
            "application/vnd.google.colaboratory.intrinsic+json": {
              "type": "string"
            }
          },
          "metadata": {},
          "execution_count": 4
        }
      ],
      "source": [
        "## Download audio file\n",
        "stream = yt.streams.get_by_itag(139)\n",
        "stream.download(audio_path,\"GoogleImagen.mp4\")"
      ]
    },
    {
      "cell_type": "code",
      "execution_count": 5,
      "metadata": {
        "id": "tlkbB5Er152e",
        "outputId": "35276d2c-c1ee-44bb-99e3-a934e6fa701e",
        "colab": {
          "base_uri": "https://localhost:8080/"
        }
      },
      "outputs": [
        {
          "output_type": "execute_result",
          "data": {
            "text/plain": [
              "<_io.BufferedRandom name='GoogleImagen.wav'>"
            ]
          },
          "metadata": {},
          "execution_count": 5
        }
      ],
      "source": [
        "## convert mp4 to wav format\n",
        "given_audio = AudioSegment.from_file('/content/C:/GoogleImagen.mp4', format=\"mp4\")  \n",
        "given_audio.export(\"GoogleImagen.wav\", format=\"wav\")"
      ]
    },
    {
      "cell_type": "code",
      "execution_count": 6,
      "metadata": {
        "id": "6Nmqc56s152f"
      },
      "outputs": [],
      "source": [
        "## using soundfile lib convert 480kps to 16000 kps as it is required for our model\n",
        "sp, rate = sf.read(\"GoogleImagen.wav\")\n",
        "sp= librosa.resample(sp.T, rate, 16000)\n",
        "## write back again with the same name\n",
        "sf.write(\"GoogleImagen.wav\", sp.T, 16000, subtype='PCM_24')"
      ]
    },
    {
      "cell_type": "code",
      "execution_count": 7,
      "metadata": {
        "scrolled": true,
        "id": "5tWqlVsh152h",
        "outputId": "7eecb407-e80c-435c-adee-017d90e10a66",
        "colab": {
          "base_uri": "https://localhost:8080/"
        }
      },
      "outputs": [
        {
          "output_type": "stream",
          "name": "stderr",
          "text": [
            "The tokenizer class you load from this checkpoint is not the same type as the class this function is called from. It may result in unexpected tokenization. \n",
            "The tokenizer class you load from this checkpoint is 'Wav2Vec2CTCTokenizer'. \n",
            "The class this function is called from is 'Wav2Vec2Tokenizer'.\n",
            "/usr/local/lib/python3.7/dist-packages/transformers/models/wav2vec2/tokenization_wav2vec2.py:752: FutureWarning: The class `Wav2Vec2Tokenizer` is deprecated and will be removed in version 5 of Transformers. Please use `Wav2Vec2Processor` or `Wav2Vec2CTCTokenizer` instead.\n",
            "  FutureWarning,\n",
            "Some weights of Wav2Vec2ForCTC were not initialized from the model checkpoint at facebook/wav2vec2-large-960h and are newly initialized: ['wav2vec2.masked_spec_embed']\n",
            "You should probably TRAIN this model on a down-stream task to be able to use it for predictions and inference.\n"
          ]
        }
      ],
      "source": [
        "import torch\n",
        "from transformers import Wav2Vec2ForCTC, Wav2Vec2Tokenizer\n",
        "\n",
        "tokenizer = Wav2Vec2Tokenizer.from_pretrained(\"facebook/wav2vec2-large-960h\")\n",
        "model = Wav2Vec2ForCTC.from_pretrained(\"facebook/wav2vec2-large-960h\")"
      ]
    },
    {
      "cell_type": "markdown",
      "metadata": {
        "id": "WMK55Kfo152i"
      },
      "source": [
        "Below code from: https://github.com/huggingface/transformers/issues/10366"
      ]
    },
    {
      "cell_type": "code",
      "execution_count": 8,
      "metadata": {
        "id": "mbnVcCgN152j",
        "outputId": "b96d0954-9260-47ae-fd26-e50f460d7822",
        "colab": {
          "base_uri": "https://localhost:8080/"
        }
      },
      "outputs": [
        {
          "output_type": "stream",
          "name": "stdout",
          "text": [
            "16000\n"
          ]
        }
      ],
      "source": [
        "transcript = \"\"\n",
        "# Ensure that the sample rate is 16k\n",
        "print(librosa.get_samplerate(\"GoogleImagen.wav\"))\n",
        "\n",
        "# Stream over 30 seconds chunks rather than load the full file to avoid the out of memory error\n",
        "stream = librosa.stream(\n",
        "    \"GoogleImagen.wav\",\n",
        "    block_length=5,\n",
        "    frame_length=16000,\n",
        "    hop_length=16000\n",
        ")"
      ]
    },
    {
      "cell_type": "code",
      "execution_count": 9,
      "metadata": {
        "id": "MBA9jpON152l",
        "outputId": "96869b05-9040-4f21-8a16-0b707c76a8dd",
        "colab": {
          "base_uri": "https://localhost:8080/"
        }
      },
      "outputs": [
        {
          "output_type": "stream",
          "name": "stdout",
          "text": [
            "IN THIS WIDIO LET'S LOOK AT IMEGEN A NEW EIR SYSTEM FROM GOUGLE BRAIN\n",
            "RATE SO ORDERS IMAGINE IMAGINE TICKS ARE TEXED AS AN IMPURT AND INGIN\n",
            "WRITS IMAGES FOR EXAMPLE THE TEXT OVER HERE IS A CRON PLATTER DU\n",
            "WITH A GOLDEN BEAK ARGUING WITH AN ANGRY TURTLE IN A FOREST SO THIS THEIR TEXT GIVEN\n",
            "AND THIS IS THE IMAGE EN RATED SO HOW DOES THIS SYSTEM WORK O QUET\n",
            "SO THIS SYSTEM TAKES TEXT AS AN INPUT THARE IS A FROZEN TEX\n",
            "IN QUARDER WHICH PRODUCES A TEXTAIM BIDDING THIS TEXTAM BIDDING IS THEN FED INTO A SE\n",
            "RES OFF IMAGE DEFUSION MORALS O KIT THAT IS A FUST TAKES TOO IMAGE DEFICIENT MO\n",
            "ODEL WE GENERATES ANY MITCH THEN THERE IS A SUPERIAL RESOLUTION THE FI\n",
            "SH AND MORTAL WHICH IS USED FOR INCREASING THE RESOLUTION HOKE THEN YOU HAVE\n",
            "ANOTHER SUPERRESOLUTION DEFICIENT MORTAL WHICH GIVES ZUDHA FINAL IMAGE AND EAT\n",
            "O OF THESE DEFICIENT MORALS TEXTHE TEXTAM BRIDDING AS THEY PUT ALONG WITH THE PREV\n",
            "HIS OUTPUT OF THE PREVIOUS STAGE HOKE SO FOR THER TEXT OR IN CORDEROVER HE\n",
            "ER THEY USER T FAI EXEXL EN CORDAR TEN CORDA IN PROTEXTIN TO EME\n",
            "INGS THEN THEY HAVE CONDITIONAL DIFFUSION MORTAL MAPS THEIR TEXT IMBERDING IN\n",
            "TOU AH THE VERIES SIXTY FOUR INO SIXTY FOUR IMITE THEN THERE IS A A FARTHER SO\n",
            "PER CONDITI A CURTEXED CONDITION SUPER RESOLUTION DEFUCIENT MORTAL WHICH CAN ABSAMPULDA\n",
            "IMAGE SIXTY FOUR SIXTY FOUR IMAGEIN TUTHE FINAL IMAGE AND IF YOU LOOK AT THE FO\n",
            "TOS OVERHERE WHICH HAVE BEEN GENERATED BEST ON THE CAPTAINS THE FORTO QUALITY AND\n",
            "FORTURIALISM IS MUCH HIGH WHEN COMPARED TO DALLY GE\n",
            "SO HERE IS ANOTHER EXAMPLE WHICH THEY SHOW OVERHERE RAGT SO YOU CAN\n",
            "CLICONOVARD AND A YOU CAN SEE WHAT IS A KIND OF IMAGE WHICH HAS BEEN  GENERATED FOR EXAMPLE\n",
            "A FORTEA OFF A BRETISH SHORT HAIR CAT WEARING A COWBOY HAT AND A RED SHIRT\n",
            "AIDING A BAKE ON A BEACH SO THIS IS A KIND OF IMEDUCATE NOW IF YOU WERE TO LATERON THI IS AN AISLE PAINT\n",
            "NG OF THE SAME THING OKE FOR EXAMPLE THIS IS A PERSIAN CATER THIS DAY MADE WHICH HAS BIN GE\n",
            "N RITED OGE SO IF YOU CLICK ON FAZIPENTA AH SO FOR THE PENDA THIS IS THE CAN\n",
            "DOFF IMAGE WHICH HAS BEEN GENERATORD BASED ON THIS HIGH LATER TEXT CAPTION SO THIS IS\n",
            "PLAYING A GITAT THIS IS RADING A BAKE THIS IS SCARED BUODDING ON TOP OF A MOUNTAIN\n",
            "SO THERE IS AN ISLE PAINTING RATE NOW IF YOU GO TO FORTO YOU SEE THIS FORTO QUALITY WHICH HAS BEEN GINDRED\n",
            "HOK SO THIS SEEMS MUCH BETTER THAN DALLY AND THEY SAY THAT AVEN THEY\n",
            "HAVE LOOKED AT THE BENCH MARKS OVER HERE THEY'VE ATTAINED A NEW STATE OF HEART SCORE\n",
            "A IMAGE FITTE LITTY SCORE A ON NOVEN COMPARE TO DELI T\n",
            "AR THE OTHER MORALS ON THE COQORITOSIT OGE\n",
            "SO THIS IS QUITE INTERESTING WORK A ANDA I'M A MIZUR AT THE PACE\n",
            "AT WHICH ER IS SIR DEVOLOPING NO WITH NEWER MODELS BEING DEVELOPED BY THESE BIG\n",
            "BIG RESEARCH TEAMS ACHIEVING A NEWER A FASCINATING RESULTS HOW YO\n",
            "HOPE YOU LAK THIS WILLO ON IMEGINE AH IF YOU LAK THE WILDOW POLICE LECTURE'S ASCRIBED\n",
            "THE CHANNEL SU AND OTHE RIDIO HAPPY LIGHTNING\n"
          ]
        }
      ],
      "source": [
        "for speech in stream:\n",
        "        if len(speech.shape) > 1:\n",
        "            speech = speech[:, 0] + speech[:, 1]\n",
        "\n",
        "        input_values = tokenizer(speech, return_tensors=\"pt\").input_values\n",
        "        logits = model(input_values).logits\n",
        "\n",
        "        predicted_ids = torch.argmax(logits, dim=-1)\n",
        "        transcription = tokenizer.decode(predicted_ids[0])\n",
        "        print(transcription)\n",
        "        "
      ]
    },
    {
      "cell_type": "code",
      "execution_count": 10,
      "metadata": {
        "id": "JayHjm9O152m",
        "outputId": "965ad301-90ce-4fc4-f8c6-6cb28b588387",
        "colab": {
          "base_uri": "https://localhost:8080/"
        }
      },
      "outputs": [
        {
          "output_type": "stream",
          "name": "stderr",
          "text": [
            "The tokenizer class you load from this checkpoint is not the same type as the class this function is called from. It may result in unexpected tokenization. \n",
            "The tokenizer class you load from this checkpoint is 'Wav2Vec2CTCTokenizer'. \n",
            "The class this function is called from is 'Wav2Vec2Tokenizer'.\n",
            "/usr/local/lib/python3.7/dist-packages/transformers/models/wav2vec2/tokenization_wav2vec2.py:752: FutureWarning: The class `Wav2Vec2Tokenizer` is deprecated and will be removed in version 5 of Transformers. Please use `Wav2Vec2Processor` or `Wav2Vec2CTCTokenizer` instead.\n",
            "  FutureWarning,\n",
            "Some weights of Wav2Vec2ForCTC were not initialized from the model checkpoint at facebook/wav2vec2-base-960h and are newly initialized: ['wav2vec2.masked_spec_embed']\n",
            "You should probably TRAIN this model on a down-stream task to be able to use it for predictions and inference.\n"
          ]
        }
      ],
      "source": [
        "tokenizer = Wav2Vec2Tokenizer.from_pretrained(\"facebook/wav2vec2-base-960h\")\n",
        "model = Wav2Vec2ForCTC.from_pretrained(\"facebook/wav2vec2-base-960h\")"
      ]
    },
    {
      "cell_type": "code",
      "execution_count": 11,
      "metadata": {
        "id": "41xCzPcB152n"
      },
      "outputs": [],
      "source": [
        "for speech in stream:\n",
        "        if len(speech.shape) > 1:\n",
        "            speech = speech[:, 0] + speech[:, 1]\n",
        "\n",
        "        input_values = tokenizer(speech, return_tensors=\"pt\").input_values\n",
        "        logits = model(input_values).logits\n",
        "\n",
        "        predicted_ids = torch.argmax(logits, dim=-1)\n",
        "        transcription = tokenizer.decode(predicted_ids[0])\n",
        "        print(transcription)"
      ]
    }
  ],
  "metadata": {
    "kernelspec": {
      "display_name": "Python 3",
      "language": "python",
      "name": "python3"
    },
    "language_info": {
      "codemirror_mode": {
        "name": "ipython",
        "version": 3
      },
      "file_extension": ".py",
      "mimetype": "text/x-python",
      "name": "python",
      "nbconvert_exporter": "python",
      "pygments_lexer": "ipython3",
      "version": "3.6.10"
    },
    "colab": {
      "name": "03_VideoCaptionGenerationDemo_HF_wav2vec2.ipynb",
      "provenance": [],
      "include_colab_link": true
    }
  },
  "nbformat": 4,
  "nbformat_minor": 0
}