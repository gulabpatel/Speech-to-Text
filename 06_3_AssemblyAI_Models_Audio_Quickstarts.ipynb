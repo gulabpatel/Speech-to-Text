{
  "nbformat": 4,
  "nbformat_minor": 0,
  "metadata": {
    "colab": {
      "provenance": [],
      "collapsed_sections": [
        "FUeMxbjiyXKO",
        "yxIZi4VA1dDW",
        "ZjKQBYYqyg15",
        "o05Ha2TH1lYN",
        "1dVfEUY61lc-",
        "9xIk-c941lh9",
        "_DJesl-g1lpO",
        "0-DH_4bO1luR",
        "tU7QCoAs1lze",
        "ej65TyAW1l6A",
        "4z-SPDB4y26I",
        "c_FYv7lhy-FS",
        "zBEA4jJly-Tx"
      ],
      "include_colab_link": true
    },
    "kernelspec": {
      "name": "python3",
      "display_name": "Python 3"
    },
    "language_info": {
      "name": "python"
    }
  },
  "cells": [
    {
      "cell_type": "markdown",
      "metadata": {
        "id": "view-in-github",
        "colab_type": "text"
      },
      "source": [
        "<a href=\"https://colab.research.google.com/github/gulabpatel/Speech-to-Text/blob/main/06_3_AssemblyAI_Models_Audio_Quickstarts.ipynb\" target=\"_parent\"><img src=\"https://colab.research.google.com/assets/colab-badge.svg\" alt=\"Open In Colab\"/></a>"
      ]
    },
    {
      "cell_type": "markdown",
      "source": [
        "## Installation\n",
        "\n",
        "Install the [AssemblyAI Python SDK](https://github.com/AssemblyAI/assemblyai-python-sdk)"
      ],
      "metadata": {
        "id": "cO4Ml1pwJSY4"
      }
    },
    {
      "cell_type": "code",
      "source": [
        "!pip install assemblyai;"
      ],
      "metadata": {
        "id": "O37M6VUDJbQk",
        "colab": {
          "base_uri": "https://localhost:8080/"
        },
        "outputId": "2491e159-beb8-42cf-f03e-eb09e86c68f2",
        "collapsed": true
      },
      "execution_count": null,
      "outputs": [
        {
          "output_type": "stream",
          "name": "stdout",
          "text": [
            "Requirement already satisfied: assemblyai in /usr/local/lib/python3.10/dist-packages (0.23.0)\n",
            "Requirement already satisfied: httpx>=0.19.0 in /usr/local/lib/python3.10/dist-packages (from assemblyai) (0.27.0)\n",
            "Requirement already satisfied: pydantic!=1.10.7,>=1.7.0 in /usr/local/lib/python3.10/dist-packages (from assemblyai) (2.6.3)\n",
            "Requirement already satisfied: typing-extensions>=3.7 in /usr/local/lib/python3.10/dist-packages (from assemblyai) (4.10.0)\n",
            "Requirement already satisfied: websockets>=11.0 in /usr/local/lib/python3.10/dist-packages (from assemblyai) (12.0)\n",
            "Requirement already satisfied: anyio in /usr/local/lib/python3.10/dist-packages (from httpx>=0.19.0->assemblyai) (3.7.1)\n",
            "Requirement already satisfied: certifi in /usr/local/lib/python3.10/dist-packages (from httpx>=0.19.0->assemblyai) (2024.2.2)\n",
            "Requirement already satisfied: httpcore==1.* in /usr/local/lib/python3.10/dist-packages (from httpx>=0.19.0->assemblyai) (1.0.4)\n",
            "Requirement already satisfied: idna in /usr/local/lib/python3.10/dist-packages (from httpx>=0.19.0->assemblyai) (3.6)\n",
            "Requirement already satisfied: sniffio in /usr/local/lib/python3.10/dist-packages (from httpx>=0.19.0->assemblyai) (1.3.1)\n",
            "Requirement already satisfied: h11<0.15,>=0.13 in /usr/local/lib/python3.10/dist-packages (from httpcore==1.*->httpx>=0.19.0->assemblyai) (0.14.0)\n",
            "Requirement already satisfied: annotated-types>=0.4.0 in /usr/local/lib/python3.10/dist-packages (from pydantic!=1.10.7,>=1.7.0->assemblyai) (0.6.0)\n",
            "Requirement already satisfied: pydantic-core==2.16.3 in /usr/local/lib/python3.10/dist-packages (from pydantic!=1.10.7,>=1.7.0->assemblyai) (2.16.3)\n",
            "Requirement already satisfied: exceptiongroup in /usr/local/lib/python3.10/dist-packages (from anyio->httpx>=0.19.0->assemblyai) (1.2.0)\n"
          ]
        }
      ]
    },
    {
      "cell_type": "markdown",
      "source": [
        "## Speech-to-Text"
      ],
      "metadata": {
        "id": "Due0e0X51clE"
      }
    },
    {
      "cell_type": "markdown",
      "source": [
        "### Speech Recognition"
      ],
      "metadata": {
        "id": "FUeMxbjiyXKO"
      }
    },
    {
      "cell_type": "markdown",
      "source": [
        "To run the code below, simply paste your [API key](https://www.assemblyai.com/app) into the string for the `YOUR_API_KEY` variable below, and then press the \"Play\" button in the top-left hand corner of the cell.\n",
        "\n",
        "If you do not yet have an API token, you can get one for free [here](https://www.assemblyai.com/dashboard/signup)."
      ],
      "metadata": {
        "id": "I0sxN--S86Wg"
      }
    },
    {
      "cell_type": "code",
      "source": [
        "import assemblyai as aai\n",
        "\n",
        "aai.settings.api_key = \"YOUR_API_KEY\"\n",
        "\n",
        "audio_url = \"https://github.com/AssemblyAI-Examples/audio-examples/raw/main/20230607_me_canadian_wildfires.mp3\"\n",
        "\n",
        "transcriber = aai.Transcriber()\n",
        "\n",
        "transcript = transcriber.transcribe(audio_url)\n",
        "\n",
        "print(transcript.text)"
      ],
      "metadata": {
        "colab": {
          "base_uri": "https://localhost:8080/"
        },
        "id": "e-YTEkX11yxC",
        "outputId": "628e9a8a-6a9f-4954-b482-1f829d433622"
      },
      "execution_count": null,
      "outputs": [
        {
          "output_type": "stream",
          "name": "stdout",
          "text": [
            "Smoke from hundreds of wildfires in Canada is triggering air quality alerts throughout the US. Skylines from Maine to Maryland to Minnesota are gray and smoggy. And in some places, the air quality warnings include the warning to stay inside. We wanted to better understand what's happening here and why, so we called Peter DiCarlo, an associate professor in the Department of Environmental Health and Engineering at Johns Hopkins University. Good morning, professor. Good morning. So what is it about the conditions right now that have caused this round of wildfires to affect so many people so far away? Well, there's a couple of things. The season has been pretty dry already, and then the fact that we're getting hit in the US. Is because there's a couple of weather systems that are essentially channeling the smoke from those Canadian wildfires through Pennsylvania into the Mid Atlantic and the Northeast and kind of just dropping the smoke there. So what is it in this haze that makes it harmful? And I'm assuming it is is it is the levels outside right now in Baltimore are considered unhealthy. And most of that is due to what's called particulate matter, which are tiny particles, microscopic smaller than the width of your hair, that can get into your lungs and impact your respiratory system, your cardiovascular system, and even your neurological your brain. What makes this particularly harmful? Is it the volume of particulate? Is it something in particular? What is it exactly? Can you just drill down on that a little bit more? Yeah. So the concentration of particulate matter I was looking at some of the monitors that we have was reaching levels of what are, in science speak, 150 micrograms per meter cubed, which is more than ten times what the annual average should be, and about four times higher than what you're supposed to have on a 24 hours average. And so the concentrations of these particles in the air are just much, much higher than we typically see. And exposure to those high levels can lead to a host of health problems. And who is most vulnerable? I noticed that in New York City, for example, they're canceling outdoor activities, and so here it is in the early days of summer, and they have to keep all the kids inside. So who tends to be vulnerable in a situation like this? It's the youngest. So children, obviously, whose bodies are still developing. The elderly who know their bodies are more in decline, and they're more susceptible to the health impacts of breathing, the poor air quality. And then people who have preexisting health conditions, people with respiratory conditions or heart conditions can be triggered by high levels of air pollution. Could this get worse? That's a good in some areas, it's much worse than others. And it just depends on kind of where the smoke is concentrated. I think New York has some of the higher concentrations right now, but that's going to change as that air moves away from the New York area. But over the course of the next few days, we will see different areas being hit at different times with the highest concentrations. I was going to ask you, more fires start burning, I don't expect the concentrations to go up too much higher. I was going to ask you and you started to answer this, but how much longer could this last? Or forgive me if I'm asking you to speculate, but what do you think? Well, I think the fires are going to burn for a little bit longer, but the key for us in the US. Is the weather system changing. And so right now, it's kind of the weather systems that are pulling that air into our mid Atlantic and Northeast region. As those weather systems change and shift, we'll see that smoke going elsewhere and not impact us in this region as much. And so I think that's going to be the defining factor. And I think the next couple of days we're going to see a shift in that weather pattern and start to push the smoke away from where we are. And finally, with the impacts of climate change, we are seeing more wildfires. Will we be seeing more of these kinds of wide ranging air quality consequences or circumstances? I mean, that is one of the predictions for climate change. Looking into the future, the fire season is starting earlier and lasting longer and we're seeing more frequent fires. So, yeah, this is probably something that we'll be seeing more frequently. This tends to be much more of an issue in the Western US. So the Eastern US getting hit right now is a little bit new. But yeah, I think with climate change moving forward, this is something that is going to happen more frequently. That's Peter DiCarlo, associate professor in the Department of Environmental Health and Engineering at Johns Hopkins University. Sergeant Carlo, thanks so much for joining us and sharing this expertise with us. Thank you for having me.\n"
          ]
        }
      ]
    },
    {
      "cell_type": "markdown",
      "source": [
        "The transcript contains an array of all transcribed words together with start and end time and confidence. Here's how you can get word-level timestamps across the entire transcript:"
      ],
      "metadata": {
        "id": "kJtvJdfq6ani"
      }
    },
    {
      "cell_type": "code",
      "source": [
        "print(transcript.words)"
      ],
      "metadata": {
        "colab": {
          "base_uri": "https://localhost:8080/"
        },
        "id": "bJS-_dmC7CO4",
        "outputId": "be26ba3f-7141-424d-bd4e-52f36c1ab66b"
      },
      "execution_count": null,
      "outputs": [
        {
          "output_type": "stream",
          "name": "stdout",
          "text": [
            "[Word(text='Smoke', start=250, end=650, confidence=0.73033), Word(text='from', start=730, end=1022, confidence=0.99996), Word(text='hundreds', start=1076, end=1466, confidence=0.99992), Word(text='of', start=1498, end=1646, confidence=1.0), Word(text='wildfires', start=1668, end=2346, confidence=0.98418), Word(text='in', start=2378, end=2526, confidence=0.99989), Word(text='Canada', start=2548, end=3130, confidence=0.99436), Word(text='is', start=3210, end=3454, confidence=0.99898), Word(text='triggering', start=3492, end=3946, confidence=0.99997), Word(text='air', start=3978, end=4222, confidence=0.99867), Word(text='quality', start=4276, end=4590, confidence=1.0), Word(text='alerts', start=4660, end=5114, confidence=0.98108), Word(text='throughout', start=5162, end=5466, confidence=0.99996), Word(text='the', start=5498, end=5694, confidence=1.0), Word(text='US.', start=5732, end=6350, confidence=0.81), Word(text='Skylines', start=6500, end=7306, confidence=0.99817), Word(text='from', start=7338, end=7534, confidence=0.99987), Word(text='Maine', start=7572, end=7962, confidence=0.9972), Word(text='to', start=8026, end=8206, confidence=1.0), Word(text='Maryland', start=8228, end=8650, confidence=0.5192), Word(text='to', start=8730, end=8926, confidence=1.0), Word(text='Minnesota', start=8948, end=9610, confidence=0.81244), Word(text='are', start=9690, end=9934, confidence=0.99973), Word(text='gray', start=9972, end=10218, confidence=0.91), Word(text='and', start=10234, end=10414, confidence=0.77), Word(text='smoggy.', start=10452, end=11050, confidence=0.99566), Word(text='And', start=11130, end=11326, confidence=1.0), Word(text='in', start=11348, end=11534, confidence=0.99155), Word(text='some', start=11572, end=11774, confidence=0.99996), Word(text='places,', start=11812, end=12154, confidence=0.9999), Word(text='the', start=12202, end=12318, confidence=1.0), Word(text='air', start=12324, end=12494, confidence=0.99935), Word(text='quality', start=12532, end=12830, confidence=0.86332), Word(text='warnings', start=12900, end=13434, confidence=0.99986), Word(text='include', start=13482, end=13818, confidence=0.99996), Word(text='the', start=13834, end=13966, confidence=1.0), Word(text='warning', start=13988, end=14234, confidence=0.96931), Word(text='to', start=14282, end=14542, confidence=1.0), Word(text='stay', start=14596, end=14862, confidence=1.0), Word(text='inside.', start=14916, end=15614, confidence=0.9879), Word(text='We', start=15812, end=16126, confidence=0.99955), Word(text='wanted', start=16148, end=16334, confidence=0.98645), Word(text='to', start=16372, end=16526, confidence=1.0), Word(text='better', start=16548, end=16734, confidence=0.99993), Word(text='understand', start=16772, end=17070, confidence=0.99993), Word(text=\"what's\", start=17140, end=17466, confidence=0.98675), Word(text='happening', start=17498, end=17742, confidence=0.99999), Word(text='here', start=17796, end=18014, confidence=0.99994), Word(text='and', start=18052, end=18206, confidence=1.0), Word(text='why,', start=18228, end=18414, confidence=0.9994), Word(text='so', start=18452, end=18606, confidence=0.99657), Word(text='we', start=18628, end=18766, confidence=0.99722), Word(text='called', start=18788, end=18926, confidence=0.99962), Word(text='Peter', start=18948, end=19242, confidence=0.99344), Word(text='DiCarlo,', start=19306, end=20010, confidence=0.74961), Word(text='an', start=20090, end=20286, confidence=0.99973), Word(text='associate', start=20308, end=20746, confidence=0.99725), Word(text='professor', start=20778, end=21226, confidence=0.99434), Word(text='in', start=21258, end=21358, confidence=0.99998), Word(text='the', start=21364, end=21486, confidence=1.0), Word(text='Department', start=21508, end=21834, confidence=0.99996), Word(text='of', start=21882, end=22046, confidence=1.0), Word(text='Environmental', start=22068, end=22666, confidence=0.99988), Word(text='Health', start=22698, end=22942, confidence=0.99993), Word(text='and', start=22996, end=23214, confidence=1.0), Word(text='Engineering', start=23252, end=23706, confidence=0.99993), Word(text='at', start=23738, end=23934, confidence=1.0), Word(text='Johns', start=23972, end=24266, confidence=0.98382), Word(text='Hopkins', start=24298, end=24714, confidence=0.99843), Word(text='University.', start=24762, end=25426, confidence=0.39671), Word(text='Good', start=25578, end=25798, confidence=0.82439), Word(text='morning,', start=25804, end=26022, confidence=0.99667), Word(text='professor.', start=26076, end=26950, confidence=0.61764), Word(text='Good', start=27850, end=28262, confidence=0.99667), Word(text='morning.', start=28316, end=28920, confidence=0.99742), Word(text='So', start=29290, end=29702, confidence=0.94736), Word(text='what', start=29756, end=29926, confidence=0.99997), Word(text='is', start=29948, end=30086, confidence=0.98737), Word(text='it', start=30108, end=30294, confidence=0.70256), Word(text='about', start=30332, end=30534, confidence=0.99998), Word(text='the', start=30572, end=30726, confidence=1.0), Word(text='conditions', start=30748, end=31314, confidence=0.96883), Word(text='right', start=31362, end=31622, confidence=0.99998), Word(text='now', start=31676, end=32086, confidence=0.99997), Word(text='that', start=32188, end=32454, confidence=0.99976), Word(text='have', start=32492, end=32694, confidence=0.99993), Word(text='caused', start=32732, end=33074, confidence=0.9959), Word(text='this', start=33122, end=33286, confidence=0.99998), Word(text='round', start=33308, end=33586, confidence=0.99934), Word(text='of', start=33618, end=33814, confidence=1.0), Word(text='wildfires', start=33852, end=34546, confidence=0.69495), Word(text='to', start=34578, end=34774, confidence=0.99), Word(text='affect', start=34812, end=35122, confidence=0.99886), Word(text='so', start=35186, end=35366, confidence=0.99997), Word(text='many', start=35388, end=35574, confidence=0.99998), Word(text='people', start=35612, end=36054, confidence=0.99997), Word(text='so', start=36172, end=36502, confidence=0.65486), Word(text='far', start=36556, end=36822, confidence=0.99999), Word(text='away?', start=36876, end=37480, confidence=0.99842), Word(text='Well,', start=39050, end=39366, confidence=0.98423), Word(text=\"there's\", start=39388, end=39538, confidence=0.99971), Word(text='a', start=39554, end=39638, confidence=1.0), Word(text='couple', start=39644, end=39814, confidence=0.79562), Word(text='of', start=39852, end=39958, confidence=1.0), Word(text='things.', start=39964, end=40520, confidence=0.99201), Word(text='The', start=40890, end=41302, confidence=0.91), Word(text='season', start=41356, end=41634, confidence=0.99986), Word(text='has', start=41682, end=41846, confidence=0.99991), Word(text='been', start=41868, end=41970, confidence=0.99994), Word(text='pretty', start=41980, end=42106, confidence=0.99997), Word(text='dry', start=42128, end=42406, confidence=0.99996), Word(text='already,', start=42438, end=42922, confidence=0.99992), Word(text='and', start=43056, end=43354, confidence=1.0), Word(text='then', start=43392, end=43690, confidence=0.99982), Word(text='the', start=43760, end=43946, confidence=1.0), Word(text='fact', start=43968, end=44106, confidence=0.99999), Word(text='that', start=44128, end=44266, confidence=0.9998), Word(text=\"we're\", start=44288, end=44486, confidence=0.94402), Word(text='getting', start=44518, end=44762, confidence=0.99996), Word(text='hit', start=44816, end=45034, confidence=0.99993), Word(text='in', start=45072, end=45178, confidence=0.99994), Word(text='the', start=45184, end=45306, confidence=1.0), Word(text='US.', start=45328, end=45946, confidence=0.64), Word(text='Is', start=46128, end=46474, confidence=0.99988), Word(text='because', start=46512, end=46762, confidence=0.99998), Word(text=\"there's\", start=46816, end=46998, confidence=0.99972), Word(text='a', start=47014, end=47098, confidence=1.0), Word(text='couple', start=47104, end=47226, confidence=0.99998), Word(text='of', start=47248, end=47338, confidence=0.52), Word(text='weather', start=47344, end=47606, confidence=0.72486), Word(text='systems', start=47638, end=47958, confidence=0.99996), Word(text='that', start=47974, end=48106, confidence=0.99973), Word(text='are', start=48128, end=48218, confidence=0.99995), Word(text='essentially', start=48224, end=48534, confidence=0.91843), Word(text='channeling', start=48582, end=48966, confidence=0.57734), Word(text='the', start=48998, end=49146, confidence=1.0), Word(text='smoke', start=49168, end=49398, confidence=0.99994), Word(text='from', start=49414, end=49546, confidence=0.80068), Word(text='those', start=49568, end=49706, confidence=0.99991), Word(text='Canadian', start=49728, end=50086, confidence=1.0), Word(text='wildfires', start=50118, end=51110, confidence=0.98139), Word(text='through', start=51270, end=51642, confidence=0.99997), Word(text='Pennsylvania', start=51696, end=52326, confidence=0.99833), Word(text='into', start=52358, end=52506, confidence=0.99994), Word(text='the', start=52528, end=52618, confidence=1.0), Word(text='Mid', start=52624, end=52758, confidence=0.99896), Word(text='Atlantic', start=52784, end=53178, confidence=0.99897), Word(text='and', start=53194, end=53278, confidence=0.67), Word(text='the', start=53284, end=53358, confidence=1.0), Word(text='Northeast', start=53364, end=53914, confidence=0.99727), Word(text='and', start=53962, end=54222, confidence=0.81), Word(text='kind', start=54276, end=54398, confidence=0.95511), Word(text='of', start=54404, end=54574, confidence=0.97), Word(text='just', start=54612, end=54766, confidence=0.99941), Word(text='dropping', start=54788, end=55146, confidence=0.90972), Word(text='the', start=55178, end=55278, confidence=1.0), Word(text='smoke', start=55284, end=55594, confidence=0.99742), Word(text='there.', start=55642, end=56190, confidence=0.99918), Word(text='So', start=56340, end=56606, confidence=0.99479), Word(text='what', start=56628, end=56814, confidence=0.74915), Word(text='is', start=56852, end=56958, confidence=0.99976), Word(text='it', start=56964, end=57086, confidence=0.99846), Word(text='in', start=57108, end=57246, confidence=0.54289), Word(text='this', start=57268, end=57454, confidence=0.99963), Word(text='haze', start=57492, end=57946, confidence=0.98651), Word(text='that', start=57978, end=58126, confidence=0.99977), Word(text='makes', start=58148, end=58478, confidence=0.99993), Word(text='it', start=58564, end=58814, confidence=0.99965), Word(text='harmful?', start=58852, end=59274, confidence=0.99978), Word(text='And', start=59322, end=59438, confidence=0.96), Word(text=\"I'm\", start=59444, end=59626, confidence=0.98903), Word(text='assuming', start=59658, end=59978, confidence=0.99975), Word(text='it', start=59994, end=60078, confidence=0.99988), Word(text='is', start=60084, end=60640, confidence=0.99317), Word(text='is', start=62450, end=62862, confidence=0.70479), Word(text='it', start=62916, end=63086, confidence=0.68578), Word(text='is', start=63108, end=63390, confidence=0.99917), Word(text='the', start=63460, end=63598, confidence=1.0), Word(text='levels', start=63604, end=64042, confidence=0.9929), Word(text='outside', start=64106, end=64490, confidence=0.99998), Word(text='right', start=64580, end=64786, confidence=0.9999), Word(text='now', start=64808, end=64946, confidence=0.99994), Word(text='in', start=64968, end=65058, confidence=0.99988), Word(text='Baltimore', start=65064, end=65534, confidence=0.69672), Word(text='are', start=65582, end=65746, confidence=0.99978), Word(text='considered', start=65768, end=66046, confidence=0.99991), Word(text='unhealthy.', start=66078, end=67010, confidence=0.96427), Word(text='And', start=67750, end=68114, confidence=0.98), Word(text='most', start=68152, end=68306, confidence=0.99999), Word(text='of', start=68328, end=68466, confidence=1.0), Word(text='that', start=68488, end=68626, confidence=0.99977), Word(text='is', start=68648, end=68786, confidence=0.99997), Word(text='due', start=68808, end=69038, confidence=0.99998), Word(text='to', start=69054, end=69282, confidence=1.0), Word(text=\"what's\", start=69336, end=69566, confidence=0.98051), Word(text='called', start=69598, end=69746, confidence=1.0), Word(text='particulate', start=69768, end=70238, confidence=0.99963), Word(text='matter,', start=70254, end=70482, confidence=0.99999), Word(text='which', start=70536, end=70658, confidence=0.99999), Word(text='are', start=70664, end=70834, confidence=0.62609), Word(text='tiny', start=70872, end=71118, confidence=0.99996), Word(text='particles,', start=71134, end=71902, confidence=0.52336), Word(text='microscopic', start=72046, end=72894, confidence=0.51742), Word(text='smaller', start=72942, end=73278, confidence=0.99978), Word(text='than', start=73294, end=73426, confidence=0.99992), Word(text='the', start=73448, end=73538, confidence=1.0), Word(text='width', start=73544, end=73726, confidence=0.99973), Word(text='of', start=73758, end=74002, confidence=0.59), Word(text='your', start=74056, end=74274, confidence=0.99987), Word(text='hair,', start=74312, end=75018, confidence=0.99394), Word(text='that', start=75214, end=75574, confidence=0.99881), Word(text='can', start=75612, end=75766, confidence=0.99997), Word(text='get', start=75788, end=75926, confidence=1.0), Word(text='into', start=75948, end=76086, confidence=0.99998), Word(text='your', start=76108, end=76246, confidence=0.99998), Word(text='lungs', start=76268, end=76546, confidence=0.99945), Word(text='and', start=76578, end=76870, confidence=0.91), Word(text='impact', start=76940, end=77314, confidence=0.99617), Word(text='your', start=77362, end=77622, confidence=1.0), Word(text='respiratory', start=77676, end=78226, confidence=0.99963), Word(text='system,', start=78258, end=78454, confidence=1.0), Word(text='your', start=78492, end=78646, confidence=0.99999), Word(text='cardiovascular', start=78668, end=79474, confidence=0.99151), Word(text='system,', start=79522, end=80166, confidence=1.0), Word(text='and', start=80348, end=80694, confidence=0.69), Word(text='even', start=80732, end=81078, confidence=0.99998), Word(text='your', start=81164, end=81414, confidence=0.99874), Word(text='neurological', start=81452, end=82034, confidence=0.99975), Word(text='your', start=82082, end=82246, confidence=0.99982), Word(text='brain.', start=82268, end=82950, confidence=0.99994), Word(text='What', start=83450, end=83766, confidence=1.0), Word(text='makes', start=83788, end=83974, confidence=0.99998), Word(text='this', start=84012, end=84214, confidence=0.99875), Word(text='particularly', start=84252, end=85010, confidence=0.9979), Word(text='harmful?', start=85090, end=85554, confidence=0.99883), Word(text='Is', start=85602, end=85718, confidence=0.99999), Word(text='it', start=85724, end=86230, confidence=0.94892), Word(text='the', start=86380, end=86694, confidence=1.0), Word(text='volume', start=86732, end=87154, confidence=0.99995), Word(text='of', start=87202, end=87414, confidence=1.0), Word(text='particulate?', start=87452, end=88034, confidence=0.80504), Word(text='Is', start=88082, end=88198, confidence=0.99693), Word(text='it', start=88204, end=88374, confidence=0.9999), Word(text='something', start=88412, end=88614, confidence=0.99987), Word(text='in', start=88652, end=88806, confidence=0.99927), Word(text='particular?', start=88828, end=89302, confidence=0.9994), Word(text='What', start=89436, end=89686, confidence=0.99999), Word(text='is', start=89708, end=89798, confidence=0.99999), Word(text='it', start=89804, end=89926, confidence=0.99768), Word(text='exactly?', start=89948, end=90278, confidence=0.99999), Word(text='Can', start=90364, end=90566, confidence=0.99999), Word(text='you', start=90588, end=90678, confidence=1.0), Word(text='just', start=90684, end=90806, confidence=1.0), Word(text='drill', start=90828, end=91026, confidence=0.99955), Word(text='down', start=91058, end=91218, confidence=1.0), Word(text='on', start=91244, end=91386, confidence=0.99993), Word(text='that', start=91408, end=91546, confidence=0.99999), Word(text='a', start=91568, end=91658, confidence=1.0), Word(text='little', start=91664, end=91738, confidence=1.0), Word(text='bit', start=91744, end=91914, confidence=0.99997), Word(text='more?', start=91952, end=92540, confidence=0.99994), Word(text='Yeah.', start=93390, end=93802, confidence=0.5659), Word(text='So', start=93856, end=94074, confidence=0.99998), Word(text='the', start=94112, end=94266, confidence=1.0), Word(text='concentration', start=94288, end=94822, confidence=0.99997), Word(text='of', start=94886, end=95066, confidence=1.0), Word(text='particulate', start=95088, end=95606, confidence=0.99965), Word(text='matter', start=95638, end=96170, confidence=1.0), Word(text='I', start=96320, end=96538, confidence=1.0), Word(text='was', start=96544, end=96666, confidence=0.99768), Word(text='looking', start=96688, end=96826, confidence=1.0), Word(text='at', start=96848, end=96986, confidence=1.0), Word(text='some', start=97008, end=97098, confidence=1.0), Word(text='of', start=97104, end=97178, confidence=1.0), Word(text='the', start=97184, end=97258, confidence=1.0), Word(text='monitors', start=97264, end=97606, confidence=0.99997), Word(text='that', start=97638, end=97786, confidence=0.99341), Word(text='we', start=97808, end=97946, confidence=1.0), Word(text='have', start=97968, end=98250, confidence=0.99071), Word(text='was', start=98320, end=98554, confidence=0.96319), Word(text='reaching', start=98592, end=98838, confidence=1.0), Word(text='levels', start=98854, end=99126, confidence=0.99994), Word(text='of', start=99158, end=99306, confidence=1.0), Word(text='what', start=99328, end=99418, confidence=0.96113), Word(text='are,', start=99424, end=99980, confidence=0.78788), Word(text='in', start=100830, end=101146, confidence=0.99982), Word(text='science', start=101168, end=101414, confidence=0.83063), Word(text='speak,', start=101462, end=101674, confidence=0.37863), Word(text='150', start=101712, end=102362, confidence=0.88), Word(text='micrograms', start=102416, end=102918, confidence=0.9996), Word(text='per', start=102934, end=103030, confidence=1.0), Word(text='meter', start=103040, end=103306, confidence=0.77), Word(text='cubed,', start=103338, end=103658, confidence=0.99942), Word(text='which', start=103674, end=103854, confidence=0.99999), Word(text='is', start=103892, end=104238, confidence=0.99998), Word(text='more', start=104324, end=104574, confidence=1.0), Word(text='than', start=104612, end=104814, confidence=1.0), Word(text='ten', start=104852, end=105054, confidence=1.0), Word(text='times', start=105092, end=105342, confidence=0.99778), Word(text='what', start=105396, end=105566, confidence=0.99781), Word(text='the', start=105588, end=105774, confidence=0.98), Word(text='annual', start=105812, end=106122, confidence=0.97011), Word(text='average', start=106186, end=106554, confidence=0.68366), Word(text='should', start=106602, end=106814, confidence=0.97666), Word(text='be,', start=106852, end=107294, confidence=1.0), Word(text='and', start=107412, end=107694, confidence=0.94), Word(text='about', start=107732, end=108320, confidence=0.99997), Word(text='four', start=108850, end=109214, confidence=1.0), Word(text='times', start=109252, end=109502, confidence=0.99999), Word(text='higher', start=109556, end=109774, confidence=0.99999), Word(text='than', start=109812, end=109966, confidence=1.0), Word(text='what', start=109988, end=110078, confidence=1.0), Word(text=\"you're\", start=110084, end=110266, confidence=0.86524), Word(text='supposed', start=110298, end=110446, confidence=1.0), Word(text='to', start=110468, end=110654, confidence=0.94), Word(text='have', start=110692, end=111230, confidence=0.99999), Word(text='on', start=111380, end=111694, confidence=1.0), Word(text='a', start=111732, end=111886, confidence=1.0), Word(text='24', start=111908, end=112334, confidence=1.0), Word(text='hours', start=112372, end=112622, confidence=1.0), Word(text='average.', start=112676, end=113226, confidence=0.50705), Word(text='And', start=113338, end=113614, confidence=0.81), Word(text='so', start=113652, end=114046, confidence=0.99999), Word(text='the', start=114148, end=114366, confidence=1.0), Word(text='concentrations', start=114388, end=115098, confidence=0.9998), Word(text='of', start=115114, end=115198, confidence=1.0), Word(text='these', start=115204, end=115374, confidence=0.99999), Word(text='particles', start=115412, end=115754, confidence=0.54263), Word(text='in', start=115802, end=115918, confidence=1.0), Word(text='the', start=115924, end=115998, confidence=1.0), Word(text='air', start=116004, end=116462, confidence=0.99792), Word(text='are', start=116596, end=116846, confidence=0.99998), Word(text='just', start=116868, end=117294, confidence=0.67235), Word(text='much,', start=117412, end=117559, confidence=0.99806), Word(text='much', start=117559, end=117954, confidence=0.79922), Word(text='higher', start=118072, end=118402, confidence=0.99968), Word(text='than', start=118456, end=118722, confidence=0.99966), Word(text='we', start=118776, end=118898, confidence=0.99827), Word(text='typically', start=118904, end=119262, confidence=0.99991), Word(text='see.', start=119326, end=119698, confidence=0.99994), Word(text='And', start=119784, end=120130, confidence=0.99), Word(text='exposure', start=120200, end=120686, confidence=0.99994), Word(text='to', start=120718, end=120914, confidence=1.0), Word(text='those', start=120952, end=121106, confidence=0.99999), Word(text='high', start=121128, end=121314, confidence=0.99989), Word(text='levels', start=121352, end=121646, confidence=0.99334), Word(text='can', start=121678, end=121826, confidence=0.99987), Word(text='lead', start=121848, end=121986, confidence=0.99999), Word(text='to', start=122008, end=122146, confidence=1.0), Word(text='a', start=122168, end=122258, confidence=1.0), Word(text='host', start=122264, end=122446, confidence=0.99998), Word(text='of', start=122478, end=122626, confidence=1.0), Word(text='health', start=122648, end=122834, confidence=0.99977), Word(text='problems.', start=122872, end=123314, confidence=0.99992), Word(text='And', start=123432, end=123666, confidence=0.99), Word(text='who', start=123688, end=123874, confidence=0.99997), Word(text='is', start=123912, end=124066, confidence=0.99964), Word(text='most', start=124088, end=124322, confidence=0.99997), Word(text='vulnerable?', start=124376, end=124942, confidence=0.63281), Word(text='I', start=125006, end=125186, confidence=1.0), Word(text='noticed', start=125208, end=125486, confidence=0.76651), Word(text='that', start=125518, end=125618, confidence=0.99954), Word(text='in', start=125624, end=125746, confidence=0.99989), Word(text='New', start=125768, end=125858, confidence=1.0), Word(text='York', start=125864, end=126034, confidence=0.98717), Word(text='City,', start=126072, end=126274, confidence=0.99999), Word(text='for', start=126312, end=126466, confidence=0.99999), Word(text='example,', start=126488, end=126722, confidence=0.9998), Word(text=\"they're\", start=126776, end=127182, confidence=0.87704), Word(text='canceling', start=127246, end=127742, confidence=0.8521), Word(text='outdoor', start=127806, end=128206, confidence=0.9784), Word(text='activities,', start=128238, end=128702, confidence=0.99998), Word(text='and', start=128766, end=128958, confidence=1.0), Word(text='so', start=128984, end=129174, confidence=0.99985), Word(text='here', start=129212, end=129366, confidence=0.99993), Word(text='it', start=129388, end=129526, confidence=0.99986), Word(text='is', start=129548, end=129686, confidence=0.9997), Word(text='in', start=129708, end=130086, confidence=0.99423), Word(text='the', start=130188, end=130550, confidence=0.61), Word(text='early', start=130620, end=130806, confidence=0.99999), Word(text='days', start=130828, end=131014, confidence=0.99999), Word(text='of', start=131052, end=131158, confidence=1.0), Word(text='summer,', start=131164, end=131378, confidence=0.99977), Word(text='and', start=131394, end=131526, confidence=1.0), Word(text='they', start=131548, end=131638, confidence=0.99963), Word(text='have', start=131644, end=131718, confidence=0.99998), Word(text='to', start=131724, end=131798, confidence=1.0), Word(text='keep', start=131804, end=131974, confidence=0.99992), Word(text='all', start=132012, end=132166, confidence=0.99998), Word(text='the', start=132188, end=132278, confidence=1.0), Word(text='kids', start=132284, end=132454, confidence=0.99998), Word(text='inside.', start=132492, end=132838, confidence=0.99975), Word(text='So', start=132924, end=133318, confidence=0.94672), Word(text='who', start=133404, end=133702, confidence=0.99996), Word(text='tends', start=133756, end=133986, confidence=0.99872), Word(text='to', start=134018, end=134118, confidence=1.0), Word(text='be', start=134124, end=134246, confidence=1.0), Word(text='vulnerable', start=134268, end=134674, confidence=0.59647), Word(text='in', start=134722, end=134886, confidence=0.99986), Word(text='a', start=134908, end=135046, confidence=1.0), Word(text='situation', start=135068, end=135446, confidence=1.0), Word(text='like', start=135548, end=135814, confidence=0.99997), Word(text='this?', start=135852, end=136440, confidence=0.98436), Word(text=\"It's\", start=137450, end=138018, confidence=0.96855), Word(text='the', start=138114, end=138326, confidence=0.99), Word(text='youngest.', start=138348, end=138722, confidence=0.58845), Word(text='So', start=138786, end=139014, confidence=0.9928), Word(text='children,', start=139052, end=139350, confidence=0.99971), Word(text='obviously,', start=139420, end=140040, confidence=0.99844), Word(text='whose', start=140890, end=141426, confidence=0.97724), Word(text='bodies', start=141458, end=141666, confidence=0.99671), Word(text='are', start=141698, end=141846, confidence=0.99997), Word(text='still', start=141868, end=142006, confidence=0.99997), Word(text='developing.', start=142028, end=142514, confidence=0.99978), Word(text='The', start=142562, end=142726, confidence=1.0), Word(text='elderly', start=142748, end=143282, confidence=0.6148), Word(text='who', start=143346, end=143778, confidence=0.63688), Word(text='know', start=143884, end=144106, confidence=0.95517), Word(text='their', start=144128, end=144266, confidence=0.99752), Word(text='bodies', start=144288, end=144518, confidence=0.99992), Word(text='are', start=144534, end=144666, confidence=0.99983), Word(text='more', start=144688, end=144826, confidence=0.99997), Word(text='in', start=144848, end=144938, confidence=0.99976), Word(text='decline,', start=144944, end=145254, confidence=0.98763), Word(text='and', start=145302, end=145418, confidence=1.0), Word(text=\"they're\", start=145424, end=145558, confidence=0.99972), Word(text='more', start=145574, end=145706, confidence=0.99995), Word(text='susceptible', start=145728, end=146246, confidence=0.84777), Word(text='to', start=146278, end=146426, confidence=0.69), Word(text='the', start=146448, end=146538, confidence=1.0), Word(text='health', start=146544, end=146762, confidence=0.99999), Word(text='impacts', start=146816, end=147286, confidence=0.99967), Word(text='of', start=147318, end=147658, confidence=0.94), Word(text='breathing,', start=147744, end=148166, confidence=0.71777), Word(text='the', start=148198, end=148442, confidence=0.57), Word(text='poor', start=148496, end=148726, confidence=0.96906), Word(text='air', start=148758, end=148954, confidence=0.9674), Word(text='quality.', start=148992, end=149580, confidence=0.72805), Word(text='And', start=150510, end=150826, confidence=1.0), Word(text='then', start=150848, end=151034, confidence=0.95397), Word(text='people', start=151072, end=151274, confidence=0.99999), Word(text='who', start=151312, end=151466, confidence=0.99999), Word(text='have', start=151488, end=151626, confidence=1.0), Word(text='preexisting', start=151648, end=152098, confidence=0.99917), Word(text='health', start=152134, end=152334, confidence=0.99995), Word(text='conditions,', start=152372, end=152666, confidence=0.99638), Word(text='people', start=152698, end=152846, confidence=0.99906), Word(text='with', start=152868, end=153006, confidence=0.99997), Word(text='respiratory', start=153028, end=153466, confidence=0.99769), Word(text='conditions', start=153498, end=153786, confidence=0.94315), Word(text='or', start=153818, end=153966, confidence=0.99984), Word(text='heart', start=153988, end=154174, confidence=0.99998), Word(text='conditions', start=154212, end=154506, confidence=0.99758), Word(text='can', start=154538, end=154686, confidence=0.99988), Word(text='be', start=154708, end=154798, confidence=0.99999), Word(text='triggered', start=154804, end=155146, confidence=0.77173), Word(text='by', start=155178, end=155374, confidence=0.99986), Word(text='high', start=155412, end=155566, confidence=0.99953), Word(text='levels', start=155588, end=155866, confidence=0.95389), Word(text='of', start=155898, end=155998, confidence=1.0), Word(text='air', start=156004, end=156174, confidence=0.99986), Word(text='pollution.', start=156212, end=156910, confidence=0.99917), Word(text='Could', start=157410, end=157774, confidence=0.99843), Word(text='this', start=157812, end=158014, confidence=0.99998), Word(text='get', start=158052, end=158254, confidence=0.99991), Word(text='worse?', start=158292, end=158990, confidence=0.70993), Word(text=\"That's\", start=162130, end=162458, confidence=0.99828), Word(text='a', start=162474, end=162606, confidence=0.92), Word(text='good', start=162628, end=163200, confidence=0.99953), Word(text='in', start=164690, end=165198, confidence=0.6197), Word(text='some', start=165284, end=165486, confidence=0.99993), Word(text='areas,', start=165508, end=165882, confidence=0.59638), Word(text=\"it's\", start=165946, end=166138, confidence=0.99967), Word(text='much', start=166154, end=166334, confidence=0.99994), Word(text='worse', start=166372, end=166538, confidence=0.99999), Word(text='than', start=166554, end=166686, confidence=0.99997), Word(text='others.', start=166708, end=166942, confidence=0.99044), Word(text='And', start=166996, end=167274, confidence=0.98), Word(text='it', start=167332, end=167458, confidence=0.99981), Word(text='just', start=167464, end=167634, confidence=0.9998), Word(text='depends', start=167672, end=168014, confidence=0.99891), Word(text='on', start=168062, end=168226, confidence=0.99926), Word(text='kind', start=168248, end=168338, confidence=0.91413), Word(text='of', start=168344, end=168466, confidence=1.0), Word(text='where', start=168488, end=168674, confidence=0.84394), Word(text='the', start=168712, end=168866, confidence=1.0), Word(text='smoke', start=168888, end=169118, confidence=0.99993), Word(text='is', start=169134, end=169314, confidence=0.81757), Word(text='concentrated.', start=169352, end=170370, confidence=0.75604), Word(text='I', start=170950, end=171266, confidence=1.0), Word(text='think', start=171288, end=171426, confidence=0.99999), Word(text='New', start=171448, end=171634, confidence=1.0), Word(text='York', start=171672, end=171970, confidence=0.99986), Word(text='has', start=172040, end=172274, confidence=0.99998), Word(text='some', start=172312, end=172418, confidence=0.99996), Word(text='of', start=172424, end=172498, confidence=1.0), Word(text='the', start=172504, end=172578, confidence=1.0), Word(text='higher', start=172584, end=172802, confidence=0.99994), Word(text='concentrations', start=172856, end=173486, confidence=0.87827), Word(text='right', start=173518, end=173666, confidence=0.99996), Word(text='now,', start=173688, end=173826, confidence=0.9999), Word(text='but', start=173848, end=173986, confidence=0.99965), Word(text=\"that's\", start=174008, end=174206, confidence=0.99221), Word(text='going', start=174238, end=174338, confidence=0.97637), Word(text='to', start=174344, end=174466, confidence=1.0), Word(text='change', start=174488, end=174626, confidence=0.99997), Word(text='as', start=174648, end=174786, confidence=0.72787), Word(text='that', start=174808, end=174946, confidence=0.99979), Word(text='air', start=174968, end=175154, confidence=0.99992), Word(text='moves', start=175192, end=175486, confidence=0.99998), Word(text='away', start=175518, end=175714, confidence=1.0), Word(text='from', start=175752, end=175858, confidence=0.99999), Word(text='the', start=175864, end=175938, confidence=1.0), Word(text='New', start=175944, end=176066, confidence=1.0), Word(text='York', start=176088, end=176322, confidence=0.99947), Word(text='area.', start=176376, end=176930, confidence=0.99997), Word(text='But', start=177080, end=177346, confidence=0.99839), Word(text='over', start=177368, end=177506, confidence=0.99996), Word(text='the', start=177528, end=177618, confidence=1.0), Word(text='course', start=177624, end=177746, confidence=0.99994), Word(text='of', start=177768, end=177858, confidence=0.95), Word(text='the', start=177864, end=177938, confidence=1.0), Word(text='next', start=177944, end=178114, confidence=0.99977), Word(text='few', start=178152, end=178306, confidence=0.99997), Word(text='days,', start=178328, end=178526, confidence=0.9998), Word(text='we', start=178568, end=178726, confidence=0.99973), Word(text='will', start=178748, end=178934, confidence=0.99983), Word(text='see', start=178972, end=179462, confidence=0.99992), Word(text='different', start=179596, end=179942, confidence=0.99988), Word(text='areas', start=179996, end=180386, confidence=0.99993), Word(text='being', start=180418, end=180614, confidence=0.99998), Word(text='hit', start=180652, end=180950, confidence=0.99994), Word(text='at', start=181020, end=181206, confidence=1.0), Word(text='different', start=181228, end=181462, confidence=0.99997), Word(text='times', start=181516, end=181878, confidence=0.99949), Word(text='with', start=181964, end=182166, confidence=0.9998), Word(text='the', start=182188, end=182326, confidence=1.0), Word(text='highest', start=182348, end=182594, confidence=0.95781), Word(text='concentrations.', start=182642, end=183634, confidence=0.61863), Word(text='I', start=183762, end=183958, confidence=0.89), Word(text='was', start=183964, end=184086, confidence=0.99115), Word(text='going', start=184108, end=184186, confidence=0.92372), Word(text='to', start=184188, end=184270, confidence=0.63), Word(text='ask', start=184280, end=184406, confidence=0.9843), Word(text='you,', start=184428, end=184662, confidence=0.67647), Word(text='more', start=184716, end=184886, confidence=0.90574), Word(text='fires', start=184908, end=185186, confidence=0.9757), Word(text='start', start=185218, end=185366, confidence=0.89361), Word(text='burning,', start=185388, end=185634, confidence=0.9981), Word(text='I', start=185682, end=185846, confidence=1.0), Word(text=\"don't\", start=185868, end=186006, confidence=0.86059), Word(text='expect', start=186028, end=186694, confidence=0.9989), Word(text='the', start=186892, end=187206, confidence=1.0), Word(text='concentrations', start=187228, end=187746, confidence=0.83538), Word(text='to', start=187778, end=187878, confidence=1.0), Word(text='go', start=187884, end=188006, confidence=0.9883), Word(text='up', start=188028, end=188262, confidence=0.98357), Word(text='too', start=188316, end=188534, confidence=0.71171), Word(text='much', start=188572, end=188726, confidence=1.0), Word(text='higher.', start=188748, end=189078, confidence=0.99562), Word(text='I', start=189164, end=189318, confidence=1.0), Word(text='was', start=189324, end=189398, confidence=0.99986), Word(text='going', start=189404, end=189478, confidence=0.96811), Word(text='to', start=189484, end=189606, confidence=1.0), Word(text='ask', start=189628, end=189766, confidence=0.99933), Word(text='you', start=189788, end=190022, confidence=0.98476), Word(text='and', start=190076, end=190246, confidence=0.67), Word(text='you', start=190268, end=190406, confidence=0.99951), Word(text='started', start=190428, end=190614, confidence=0.99957), Word(text='to', start=190652, end=190758, confidence=0.99), Word(text='answer', start=190764, end=190934, confidence=0.99869), Word(text='this,', start=190972, end=191126, confidence=0.98716), Word(text='but', start=191148, end=191430, confidence=0.85838), Word(text='how', start=191500, end=191734, confidence=0.99997), Word(text='much', start=191772, end=191974, confidence=1.0), Word(text='longer', start=192012, end=192358, confidence=1.0), Word(text='could', start=192444, end=192694, confidence=0.99997), Word(text='this', start=192732, end=192982, confidence=0.99999), Word(text='last?', start=193036, end=193254, confidence=0.98957), Word(text='Or', start=193292, end=193506, confidence=0.46097), Word(text='forgive', start=193548, end=193718, confidence=0.99979), Word(text='me', start=193734, end=193818, confidence=0.99964), Word(text='if', start=193824, end=193946, confidence=0.84776), Word(text=\"I'm\", start=193968, end=194118, confidence=0.99972), Word(text='asking', start=194134, end=194266, confidence=0.99988), Word(text='you', start=194288, end=194378, confidence=0.99992), Word(text='to', start=194384, end=194506, confidence=1.0), Word(text='speculate,', start=194528, end=194886, confidence=0.99924), Word(text='but', start=194918, end=195306, confidence=0.98), Word(text='what', start=195408, end=195626, confidence=0.97315), Word(text='do', start=195648, end=195786, confidence=0.9995), Word(text='you', start=195808, end=195946, confidence=0.99991), Word(text='think?', start=195968, end=196540, confidence=0.99873), Word(text='Well,', start=198030, end=198346, confidence=0.99418), Word(text='I', start=198368, end=198506, confidence=0.99), Word(text='think', start=198528, end=198618, confidence=0.99996), Word(text='the', start=198624, end=198746, confidence=1.0), Word(text='fires', start=198768, end=199078, confidence=0.99973), Word(text='are', start=199094, end=199178, confidence=0.99997), Word(text='going', start=199184, end=199258, confidence=0.97722), Word(text='to', start=199264, end=199338, confidence=1.0), Word(text='burn', start=199344, end=199526, confidence=0.99731), Word(text='for', start=199558, end=199658, confidence=0.99994), Word(text='a', start=199664, end=199738, confidence=0.99), Word(text='little', start=199744, end=199866, confidence=0.9995), Word(text='bit', start=199888, end=200074, confidence=0.99998), Word(text='longer,', start=200112, end=200410, confidence=0.99998), Word(text='but', start=200480, end=200666, confidence=0.9993), Word(text='the', start=200688, end=200874, confidence=1.0), Word(text='key', start=200912, end=201162, confidence=0.99999), Word(text='for', start=201216, end=201434, confidence=1.0), Word(text='us', start=201472, end=201674, confidence=1.0), Word(text='in', start=201712, end=201818, confidence=0.99998), Word(text='the', start=201824, end=201946, confidence=1.0), Word(text='US.', start=201968, end=202250, confidence=0.78), Word(text='Is', start=202320, end=202506, confidence=0.99996), Word(text='the', start=202528, end=202678, confidence=1.0), Word(text='weather', start=202704, end=202954, confidence=0.93882), Word(text='system', start=203002, end=203310, confidence=0.99997), Word(text='changing.', start=203380, end=203754, confidence=0.93897), Word(text='And', start=203802, end=203966, confidence=0.98), Word(text='so', start=203988, end=204126, confidence=0.99981), Word(text='right', start=204148, end=204286, confidence=0.99994), Word(text='now,', start=204308, end=204638, confidence=0.98949), Word(text=\"it's\", start=204724, end=204938, confidence=0.99974), Word(text='kind', start=204954, end=205038, confidence=0.97621), Word(text='of', start=205044, end=205118, confidence=1.0), Word(text='the', start=205124, end=205246, confidence=0.95), Word(text='weather', start=205268, end=205466, confidence=0.99971), Word(text='systems', start=205498, end=205818, confidence=0.99884), Word(text='that', start=205834, end=205918, confidence=0.99981), Word(text='are', start=205924, end=206046, confidence=0.99985), Word(text='pulling', start=206068, end=206298, confidence=0.99989), Word(text='that', start=206314, end=206494, confidence=0.99995), Word(text='air', start=206532, end=207118, confidence=0.99966), Word(text='into', start=207284, end=207662, confidence=0.99949), Word(text='our', start=207716, end=208320, confidence=0.9965), Word(text='mid', start=209090, end=209406, confidence=0.99905), Word(text='Atlantic', start=209428, end=209866, confidence=0.99777), Word(text='and', start=209898, end=210142, confidence=0.53), Word(text='Northeast', start=210196, end=210666, confidence=0.98843), Word(text='region.', start=210698, end=211130, confidence=0.99929), Word(text='As', start=211210, end=211406, confidence=0.99983), Word(text='those', start=211428, end=211566, confidence=0.99986), Word(text='weather', start=211588, end=212190, confidence=0.80645), Word(text='systems', start=212850, end=213434, confidence=0.99838), Word(text='change', start=213482, end=213742, confidence=0.99996), Word(text='and', start=213796, end=214014, confidence=1.0), Word(text='shift,', start=214052, end=214458, confidence=0.96276), Word(text=\"we'll\", start=214554, end=214778, confidence=0.82599), Word(text='see', start=214794, end=214926, confidence=0.9752), Word(text='that', start=214948, end=215086, confidence=0.99989), Word(text='smoke', start=215108, end=215386, confidence=0.99978), Word(text='going', start=215418, end=215614, confidence=0.99978), Word(text='elsewhere', start=215652, end=216410, confidence=0.99974), Word(text='and', start=216570, end=216846, confidence=1.0), Word(text='not', start=216868, end=217054, confidence=0.88077), Word(text='impact', start=217092, end=217434, confidence=0.80063), Word(text='us', start=217482, end=217886, confidence=0.98), Word(text='in', start=217988, end=218206, confidence=0.99978), Word(text='this', start=218228, end=218366, confidence=0.99998), Word(text='region', start=218388, end=218666, confidence=0.99995), Word(text='as', start=218698, end=218858, confidence=0.99995), Word(text='much.', start=218884, end=219122, confidence=0.99998), Word(text='And', start=219176, end=219346, confidence=1.0), Word(text='so', start=219368, end=219458, confidence=0.99998), Word(text='I', start=219464, end=219586, confidence=0.97), Word(text='think', start=219608, end=219746, confidence=1.0), Word(text=\"that's\", start=219768, end=219966, confidence=0.99985), Word(text='going', start=219998, end=220098, confidence=0.99989), Word(text='to', start=220104, end=220166, confidence=1.0), Word(text='be', start=220168, end=220250, confidence=0.52337), Word(text='the', start=220260, end=220338, confidence=1.0), Word(text='defining', start=220344, end=220718, confidence=0.99913), Word(text='factor.', start=220734, end=221006, confidence=0.99993), Word(text='And', start=221038, end=221138, confidence=1.0), Word(text='I', start=221144, end=221218, confidence=1.0), Word(text='think', start=221224, end=221346, confidence=1.0), Word(text='the', start=221368, end=221458, confidence=1.0), Word(text='next', start=221464, end=221586, confidence=1.0), Word(text='couple', start=221608, end=221746, confidence=0.99901), Word(text='of', start=221768, end=221858, confidence=1.0), Word(text='days', start=221864, end=222034, confidence=0.99995), Word(text=\"we're\", start=222072, end=222238, confidence=0.99984), Word(text='going', start=222254, end=222338, confidence=0.99967), Word(text='to', start=222344, end=222610, confidence=1.0), Word(text='see', start=222680, end=222914, confidence=1.0), Word(text='a', start=222952, end=223058, confidence=1.0), Word(text='shift', start=223064, end=223730, confidence=0.99996), Word(text='in', start=224070, end=224338, confidence=0.99999), Word(text='that', start=224344, end=224466, confidence=0.99988), Word(text='weather', start=224488, end=224734, confidence=0.97838), Word(text='pattern', start=224782, end=225086, confidence=1.0), Word(text='and', start=225118, end=225314, confidence=0.95), Word(text='start', start=225352, end=225506, confidence=1.0), Word(text='to', start=225528, end=225618, confidence=1.0), Word(text='push', start=225624, end=225806, confidence=1.0), Word(text='the', start=225838, end=225938, confidence=1.0), Word(text='smoke', start=225944, end=226170, confidence=0.99998), Word(text='away', start=226190, end=226422, confidence=0.79562), Word(text='from', start=226476, end=226790, confidence=0.87232), Word(text='where', start=226860, end=227094, confidence=1.0), Word(text='we', start=227132, end=227286, confidence=0.99999), Word(text='are.', start=227308, end=227638, confidence=0.99995), Word(text='And', start=227724, end=227974, confidence=1.0), Word(text='finally,', start=228012, end=228358, confidence=0.99991), Word(text='with', start=228444, end=228694, confidence=0.99999), Word(text='the', start=228732, end=228934, confidence=1.0), Word(text='impacts', start=228972, end=229346, confidence=0.94577), Word(text='of', start=229378, end=229526, confidence=1.0), Word(text='climate', start=229548, end=229906, confidence=0.99998), Word(text='change,', start=229938, end=230230, confidence=1.0), Word(text='we', start=230300, end=230486, confidence=0.99999), Word(text='are', start=230508, end=230694, confidence=0.99999), Word(text='seeing', start=230732, end=230982, confidence=0.99999), Word(text='more', start=231036, end=231302, confidence=0.99999), Word(text='wildfires.', start=231356, end=232354, confidence=0.75211), Word(text='Will', start=232482, end=232774, confidence=0.99997), Word(text='we', start=232812, end=232966, confidence=0.99968), Word(text='be', start=232988, end=233174, confidence=0.99998), Word(text='seeing', start=233212, end=233606, confidence=0.99992), Word(text='more', start=233708, end=234022, confidence=0.99999), Word(text='of', start=234076, end=234294, confidence=0.66), Word(text='these', start=234332, end=234534, confidence=1.0), Word(text='kinds', start=234572, end=234866, confidence=0.99991), Word(text='of', start=234898, end=235286, confidence=1.0), Word(text='wide', start=235388, end=235794, confidence=0.99911), Word(text='ranging', start=235842, end=236630, confidence=0.76374), Word(text='air', start=237210, end=237586, confidence=0.99994), Word(text='quality', start=237628, end=237978, confidence=0.9524), Word(text='consequences', start=238064, end=238838, confidence=0.74374), Word(text='or', start=238934, end=239146, confidence=0.99794), Word(text='circumstances?', start=239168, end=240330, confidence=0.77561), Word(text='I', start=241310, end=241578, confidence=0.99), Word(text='mean,', start=241584, end=241754, confidence=0.58501), Word(text='that', start=241792, end=241946, confidence=0.99994), Word(text='is', start=241968, end=242106, confidence=0.99978), Word(text='one', start=242128, end=242266, confidence=1.0), Word(text='of', start=242288, end=242378, confidence=1.0), Word(text='the', start=242384, end=242506, confidence=1.0), Word(text='predictions', start=242528, end=243290, confidence=0.51984), Word(text='for', start=244110, end=244522, confidence=0.56978), Word(text='climate', start=244576, end=244886, confidence=0.98878), Word(text='change.', start=244918, end=245162, confidence=0.99999), Word(text='Looking', start=245216, end=245386, confidence=0.99998), Word(text='into', start=245408, end=245594, confidence=0.99998), Word(text='the', start=245632, end=245738, confidence=1.0), Word(text='future,', start=245744, end=246250, confidence=0.99889), Word(text='the', start=246400, end=246714, confidence=1.0), Word(text='fire', start=246752, end=246954, confidence=0.99994), Word(text='season', start=246992, end=247286, confidence=0.9999), Word(text='is', start=247318, end=247466, confidence=0.99959), Word(text='starting', start=247488, end=247674, confidence=0.99993), Word(text='earlier', start=247712, end=248006, confidence=0.99852), Word(text='and', start=248038, end=248186, confidence=1.0), Word(text='lasting', start=248208, end=248534, confidence=0.9957), Word(text='longer', start=248582, end=249180, confidence=0.99997), Word(text='and', start=249550, end=249866, confidence=1.0), Word(text=\"we're\", start=249888, end=250086, confidence=0.99726), Word(text='seeing', start=250118, end=250266, confidence=0.99998), Word(text='more', start=250288, end=250474, confidence=0.99999), Word(text='frequent', start=250512, end=250806, confidence=0.99995), Word(text='fires.', start=250838, end=251254, confidence=0.93608), Word(text='So,', start=251302, end=251850, confidence=0.8797), Word(text='yeah,', start=252000, end=252314, confidence=0.99807), Word(text='this', start=252352, end=252506, confidence=0.99999), Word(text='is', start=252528, end=252714, confidence=0.99989), Word(text='probably', start=252752, end=253002, confidence=0.99996), Word(text='something', start=253056, end=253370, confidence=0.99996), Word(text='that', start=253440, end=253770, confidence=0.9998), Word(text=\"we'll\", start=253840, end=254118, confidence=0.61333), Word(text='be', start=254134, end=254278, confidence=0.99999), Word(text='seeing', start=254304, end=254638, confidence=0.99983), Word(text='more', start=254724, end=254926, confidence=0.99997), Word(text='frequently.', start=254948, end=255578, confidence=0.99974), Word(text='This', start=255674, end=255934, confidence=0.99997), Word(text='tends', start=255972, end=256218, confidence=0.9994), Word(text='to', start=256234, end=256318, confidence=1.0), Word(text='be', start=256324, end=256446, confidence=0.99994), Word(text='much', start=256468, end=256558, confidence=0.99998), Word(text='more', start=256564, end=256686, confidence=0.99996), Word(text='of', start=256708, end=256798, confidence=1.0), Word(text='an', start=256804, end=256926, confidence=0.99999), Word(text='issue', start=256948, end=257134, confidence=1.0), Word(text='in', start=257172, end=257278, confidence=0.99998), Word(text='the', start=257284, end=257358, confidence=1.0), Word(text='Western', start=257364, end=257626, confidence=0.9685), Word(text='US.', start=257658, end=258046, confidence=0.66), Word(text='So', start=258148, end=258366, confidence=0.99478), Word(text='the', start=258388, end=258478, confidence=1.0), Word(text='Eastern', start=258484, end=258794, confidence=0.99973), Word(text='US', start=258842, end=259054, confidence=0.83), Word(text='getting', start=259092, end=259294, confidence=0.99998), Word(text='hit', start=259332, end=259486, confidence=0.99998), Word(text='right', start=259508, end=259646, confidence=0.99998), Word(text='now', start=259668, end=260238, confidence=0.99957), Word(text='is', start=260404, end=260686, confidence=0.99996), Word(text='a', start=260708, end=260798, confidence=1.0), Word(text='little', start=260804, end=260926, confidence=0.99997), Word(text='bit', start=260948, end=261134, confidence=0.99999), Word(text='new.', start=261172, end=261760, confidence=1.0), Word(text='But', start=262130, end=262542, confidence=0.99781), Word(text='yeah,', start=262596, end=262766, confidence=0.99659), Word(text='I', start=262788, end=262926, confidence=1.0), Word(text='think', start=262948, end=263086, confidence=1.0), Word(text='with', start=263108, end=263294, confidence=0.92632), Word(text='climate', start=263332, end=263674, confidence=0.99995), Word(text='change', start=263722, end=263982, confidence=1.0), Word(text='moving', start=264036, end=264302, confidence=0.99998), Word(text='forward,', start=264356, end=264718, confidence=0.99998), Word(text='this', start=264804, end=265006, confidence=0.99996), Word(text='is', start=265028, end=265166, confidence=0.99995), Word(text='something', start=265188, end=265374, confidence=0.99992), Word(text='that', start=265412, end=265950, confidence=0.98355), Word(text='is', start=266100, end=266366, confidence=0.99213), Word(text='going', start=266388, end=266478, confidence=0.98258), Word(text='to', start=266484, end=266606, confidence=1.0), Word(text='happen', start=266628, end=266814, confidence=0.99998), Word(text='more', start=266852, end=267006, confidence=0.99985), Word(text='frequently.', start=267028, end=267770, confidence=0.99833), Word(text=\"That's\", start=267930, end=268266, confidence=0.97568), Word(text='Peter', start=268298, end=268602, confidence=0.99871), Word(text='DiCarlo,', start=268666, end=269194, confidence=0.62409), Word(text='associate', start=269242, end=269786, confidence=0.96248), Word(text='professor', start=269818, end=270186, confidence=0.99984), Word(text='in', start=270218, end=270318, confidence=0.99998), Word(text='the', start=270324, end=270446, confidence=1.0), Word(text='Department', start=270468, end=270714, confidence=0.99784), Word(text='of', start=270762, end=270926, confidence=1.0), Word(text='Environmental', start=270948, end=271546, confidence=0.99968), Word(text='Health', start=271578, end=271822, confidence=0.56205), Word(text='and', start=271876, end=272094, confidence=1.0), Word(text='Engineering', start=272132, end=272810, confidence=0.99894), Word(text='at', start=272890, end=273134, confidence=1.0), Word(text='Johns', start=273172, end=273466, confidence=0.95491), Word(text='Hopkins', start=273498, end=274090, confidence=0.99912), Word(text='University.', start=274170, end=274882, confidence=0.99729), Word(text='Sergeant', start=274986, end=275298, confidence=0.21181), Word(text='Carlo,', start=275314, end=275634, confidence=0.38039), Word(text='thanks', start=275682, end=275846, confidence=0.99847), Word(text='so', start=275868, end=275958, confidence=0.99979), Word(text='much', start=275964, end=276086, confidence=0.99982), Word(text='for', start=276108, end=276246, confidence=0.99995), Word(text='joining', start=276268, end=276498, confidence=0.99994), Word(text='us', start=276514, end=276646, confidence=1.0), Word(text='and', start=276668, end=276806, confidence=1.0), Word(text='sharing', start=276828, end=277026, confidence=0.99983), Word(text='this', start=277058, end=277206, confidence=0.99982), Word(text='expertise', start=277228, end=277714, confidence=0.99721), Word(text='with', start=277762, end=277974, confidence=0.99824), Word(text='us.', start=278012, end=278600, confidence=1.0), Word(text='Thank', start=279370, end=279734, confidence=0.99857), Word(text='you', start=279772, end=279878, confidence=0.99972), Word(text='for', start=279884, end=280006, confidence=0.51551), Word(text='having', start=280028, end=280214, confidence=0.99913), Word(text='me.', start=280252, end=280340, confidence=0.88833)]\n"
          ]
        }
      ]
    },
    {
      "cell_type": "markdown",
      "source": [
        "And here's how to get a list of all sentences and paragraphs in the transcript:"
      ],
      "metadata": {
        "id": "xsylxNeZ6_qz"
      }
    },
    {
      "cell_type": "code",
      "source": [
        "sentences = transcript.get_sentences()\n",
        "for sentence in sentences:\n",
        "  print(sentence)"
      ],
      "metadata": {
        "colab": {
          "base_uri": "https://localhost:8080/"
        },
        "id": "zopauCk_DXBi",
        "outputId": "52d973ee-7cc7-4482-bc91-57247eb146bc"
      },
      "execution_count": null,
      "outputs": [
        {
          "output_type": "stream",
          "name": "stdout",
          "text": [
            "text='Smoke from hundreds of wildfires in Canada is triggering air quality alerts throughout the US.' start=250 end=6350 confidence=0.73033 words=[Word(text='Smoke', start=250, end=650, confidence=0.73033), Word(text='from', start=730, end=1022, confidence=0.99996), Word(text='hundreds', start=1076, end=1466, confidence=0.99992), Word(text='of', start=1498, end=1646, confidence=1.0), Word(text='wildfires', start=1668, end=2346, confidence=0.98418), Word(text='in', start=2378, end=2526, confidence=0.99989), Word(text='Canada', start=2548, end=3130, confidence=0.99436), Word(text='is', start=3210, end=3454, confidence=0.99898), Word(text='triggering', start=3492, end=3946, confidence=0.99997), Word(text='air', start=3978, end=4222, confidence=0.99867), Word(text='quality', start=4276, end=4590, confidence=1.0), Word(text='alerts', start=4660, end=5114, confidence=0.98108), Word(text='throughout', start=5162, end=5466, confidence=0.99996), Word(text='the', start=5498, end=5694, confidence=1.0), Word(text='US.', start=5732, end=6350, confidence=0.81)]\n",
            "text='Skylines from Maine to Maryland to Minnesota are gray and smoggy.' start=6500 end=11050 confidence=0.99817 words=[Word(text='Skylines', start=6500, end=7306, confidence=0.99817), Word(text='from', start=7338, end=7534, confidence=0.99987), Word(text='Maine', start=7572, end=7962, confidence=0.9972), Word(text='to', start=8026, end=8206, confidence=1.0), Word(text='Maryland', start=8228, end=8650, confidence=0.5192), Word(text='to', start=8730, end=8926, confidence=1.0), Word(text='Minnesota', start=8948, end=9610, confidence=0.81244), Word(text='are', start=9690, end=9934, confidence=0.99973), Word(text='gray', start=9972, end=10218, confidence=0.91), Word(text='and', start=10234, end=10414, confidence=0.77), Word(text='smoggy.', start=10452, end=11050, confidence=0.99566)]\n",
            "text='And in some places, the air quality warnings include the warning to stay inside.' start=11130 end=15614 confidence=1.0 words=[Word(text='And', start=11130, end=11326, confidence=1.0), Word(text='in', start=11348, end=11534, confidence=0.99155), Word(text='some', start=11572, end=11774, confidence=0.99996), Word(text='places,', start=11812, end=12154, confidence=0.9999), Word(text='the', start=12202, end=12318, confidence=1.0), Word(text='air', start=12324, end=12494, confidence=0.99935), Word(text='quality', start=12532, end=12830, confidence=0.86332), Word(text='warnings', start=12900, end=13434, confidence=0.99986), Word(text='include', start=13482, end=13818, confidence=0.99996), Word(text='the', start=13834, end=13966, confidence=1.0), Word(text='warning', start=13988, end=14234, confidence=0.96931), Word(text='to', start=14282, end=14542, confidence=1.0), Word(text='stay', start=14596, end=14862, confidence=1.0), Word(text='inside.', start=14916, end=15614, confidence=0.9879)]\n",
            "text=\"We wanted to better understand what's happening here and why, so we called Peter DiCarlo, an associate professor in the Department of Environmental Health and Engineering at Johns Hopkins University.\" start=15812 end=25426 confidence=0.99955 words=[Word(text='We', start=15812, end=16126, confidence=0.99955), Word(text='wanted', start=16148, end=16334, confidence=0.98645), Word(text='to', start=16372, end=16526, confidence=1.0), Word(text='better', start=16548, end=16734, confidence=0.99993), Word(text='understand', start=16772, end=17070, confidence=0.99993), Word(text=\"what's\", start=17140, end=17466, confidence=0.98675), Word(text='happening', start=17498, end=17742, confidence=0.99999), Word(text='here', start=17796, end=18014, confidence=0.99994), Word(text='and', start=18052, end=18206, confidence=1.0), Word(text='why,', start=18228, end=18414, confidence=0.9994), Word(text='so', start=18452, end=18606, confidence=0.99657), Word(text='we', start=18628, end=18766, confidence=0.99722), Word(text='called', start=18788, end=18926, confidence=0.99962), Word(text='Peter', start=18948, end=19242, confidence=0.99344), Word(text='DiCarlo,', start=19306, end=20010, confidence=0.74961), Word(text='an', start=20090, end=20286, confidence=0.99973), Word(text='associate', start=20308, end=20746, confidence=0.99725), Word(text='professor', start=20778, end=21226, confidence=0.99434), Word(text='in', start=21258, end=21358, confidence=0.99998), Word(text='the', start=21364, end=21486, confidence=1.0), Word(text='Department', start=21508, end=21834, confidence=0.99996), Word(text='of', start=21882, end=22046, confidence=1.0), Word(text='Environmental', start=22068, end=22666, confidence=0.99988), Word(text='Health', start=22698, end=22942, confidence=0.99993), Word(text='and', start=22996, end=23214, confidence=1.0), Word(text='Engineering', start=23252, end=23706, confidence=0.99993), Word(text='at', start=23738, end=23934, confidence=1.0), Word(text='Johns', start=23972, end=24266, confidence=0.98382), Word(text='Hopkins', start=24298, end=24714, confidence=0.99843), Word(text='University.', start=24762, end=25426, confidence=0.39671)]\n",
            "text='Good morning, professor.' start=25578 end=26950 confidence=0.82439 words=[Word(text='Good', start=25578, end=25798, confidence=0.82439), Word(text='morning,', start=25804, end=26022, confidence=0.99667), Word(text='professor.', start=26076, end=26950, confidence=0.61764)]\n",
            "text='Good morning.' start=27850 end=28920 confidence=0.99667 words=[Word(text='Good', start=27850, end=28262, confidence=0.99667), Word(text='morning.', start=28316, end=28920, confidence=0.99742)]\n",
            "text='So what is it about the conditions right now that have caused this round of wildfires to affect so many people so far away?' start=29290 end=37480 confidence=0.94736 words=[Word(text='So', start=29290, end=29702, confidence=0.94736), Word(text='what', start=29756, end=29926, confidence=0.99997), Word(text='is', start=29948, end=30086, confidence=0.98737), Word(text='it', start=30108, end=30294, confidence=0.70256), Word(text='about', start=30332, end=30534, confidence=0.99998), Word(text='the', start=30572, end=30726, confidence=1.0), Word(text='conditions', start=30748, end=31314, confidence=0.96883), Word(text='right', start=31362, end=31622, confidence=0.99998), Word(text='now', start=31676, end=32086, confidence=0.99997), Word(text='that', start=32188, end=32454, confidence=0.99976), Word(text='have', start=32492, end=32694, confidence=0.99993), Word(text='caused', start=32732, end=33074, confidence=0.9959), Word(text='this', start=33122, end=33286, confidence=0.99998), Word(text='round', start=33308, end=33586, confidence=0.99934), Word(text='of', start=33618, end=33814, confidence=1.0), Word(text='wildfires', start=33852, end=34546, confidence=0.69495), Word(text='to', start=34578, end=34774, confidence=0.99), Word(text='affect', start=34812, end=35122, confidence=0.99886), Word(text='so', start=35186, end=35366, confidence=0.99997), Word(text='many', start=35388, end=35574, confidence=0.99998), Word(text='people', start=35612, end=36054, confidence=0.99997), Word(text='so', start=36172, end=36502, confidence=0.65486), Word(text='far', start=36556, end=36822, confidence=0.99999), Word(text='away?', start=36876, end=37480, confidence=0.99842)]\n",
            "text=\"Well, there's a couple of things.\" start=39050 end=40520 confidence=0.98423 words=[Word(text='Well,', start=39050, end=39366, confidence=0.98423), Word(text=\"there's\", start=39388, end=39538, confidence=0.99971), Word(text='a', start=39554, end=39638, confidence=1.0), Word(text='couple', start=39644, end=39814, confidence=0.79562), Word(text='of', start=39852, end=39958, confidence=1.0), Word(text='things.', start=39964, end=40520, confidence=0.99201)]\n",
            "text=\"The season has been pretty dry already, and then the fact that we're getting hit in the US.\" start=40890 end=45946 confidence=0.91 words=[Word(text='The', start=40890, end=41302, confidence=0.91), Word(text='season', start=41356, end=41634, confidence=0.99986), Word(text='has', start=41682, end=41846, confidence=0.99991), Word(text='been', start=41868, end=41970, confidence=0.99994), Word(text='pretty', start=41980, end=42106, confidence=0.99997), Word(text='dry', start=42128, end=42406, confidence=0.99996), Word(text='already,', start=42438, end=42922, confidence=0.99992), Word(text='and', start=43056, end=43354, confidence=1.0), Word(text='then', start=43392, end=43690, confidence=0.99982), Word(text='the', start=43760, end=43946, confidence=1.0), Word(text='fact', start=43968, end=44106, confidence=0.99999), Word(text='that', start=44128, end=44266, confidence=0.9998), Word(text=\"we're\", start=44288, end=44486, confidence=0.94402), Word(text='getting', start=44518, end=44762, confidence=0.99996), Word(text='hit', start=44816, end=45034, confidence=0.99993), Word(text='in', start=45072, end=45178, confidence=0.99994), Word(text='the', start=45184, end=45306, confidence=1.0), Word(text='US.', start=45328, end=45946, confidence=0.64)]\n",
            "text=\"Is because there's a couple of weather systems that are essentially channeling the smoke from those Canadian wildfires through Pennsylvania into the Mid Atlantic and the Northeast and kind of just dropping the smoke there.\" start=46128 end=56190 confidence=0.99988 words=[Word(text='Is', start=46128, end=46474, confidence=0.99988), Word(text='because', start=46512, end=46762, confidence=0.99998), Word(text=\"there's\", start=46816, end=46998, confidence=0.99972), Word(text='a', start=47014, end=47098, confidence=1.0), Word(text='couple', start=47104, end=47226, confidence=0.99998), Word(text='of', start=47248, end=47338, confidence=0.52), Word(text='weather', start=47344, end=47606, confidence=0.72486), Word(text='systems', start=47638, end=47958, confidence=0.99996), Word(text='that', start=47974, end=48106, confidence=0.99973), Word(text='are', start=48128, end=48218, confidence=0.99995), Word(text='essentially', start=48224, end=48534, confidence=0.91843), Word(text='channeling', start=48582, end=48966, confidence=0.57734), Word(text='the', start=48998, end=49146, confidence=1.0), Word(text='smoke', start=49168, end=49398, confidence=0.99994), Word(text='from', start=49414, end=49546, confidence=0.80068), Word(text='those', start=49568, end=49706, confidence=0.99991), Word(text='Canadian', start=49728, end=50086, confidence=1.0), Word(text='wildfires', start=50118, end=51110, confidence=0.98139), Word(text='through', start=51270, end=51642, confidence=0.99997), Word(text='Pennsylvania', start=51696, end=52326, confidence=0.99833), Word(text='into', start=52358, end=52506, confidence=0.99994), Word(text='the', start=52528, end=52618, confidence=1.0), Word(text='Mid', start=52624, end=52758, confidence=0.99896), Word(text='Atlantic', start=52784, end=53178, confidence=0.99897), Word(text='and', start=53194, end=53278, confidence=0.67), Word(text='the', start=53284, end=53358, confidence=1.0), Word(text='Northeast', start=53364, end=53914, confidence=0.99727), Word(text='and', start=53962, end=54222, confidence=0.81), Word(text='kind', start=54276, end=54398, confidence=0.95511), Word(text='of', start=54404, end=54574, confidence=0.97), Word(text='just', start=54612, end=54766, confidence=0.99941), Word(text='dropping', start=54788, end=55146, confidence=0.90972), Word(text='the', start=55178, end=55278, confidence=1.0), Word(text='smoke', start=55284, end=55594, confidence=0.99742), Word(text='there.', start=55642, end=56190, confidence=0.99918)]\n",
            "text='So what is it in this haze that makes it harmful?' start=56340 end=59274 confidence=0.99479 words=[Word(text='So', start=56340, end=56606, confidence=0.99479), Word(text='what', start=56628, end=56814, confidence=0.74915), Word(text='is', start=56852, end=56958, confidence=0.99976), Word(text='it', start=56964, end=57086, confidence=0.99846), Word(text='in', start=57108, end=57246, confidence=0.54289), Word(text='this', start=57268, end=57454, confidence=0.99963), Word(text='haze', start=57492, end=57946, confidence=0.98651), Word(text='that', start=57978, end=58126, confidence=0.99977), Word(text='makes', start=58148, end=58478, confidence=0.99993), Word(text='it', start=58564, end=58814, confidence=0.99965), Word(text='harmful?', start=58852, end=59274, confidence=0.99978)]\n",
            "text=\"And I'm assuming it is is it is the levels outside right now in Baltimore are considered unhealthy.\" start=59322 end=67010 confidence=0.96 words=[Word(text='And', start=59322, end=59438, confidence=0.96), Word(text=\"I'm\", start=59444, end=59626, confidence=0.98903), Word(text='assuming', start=59658, end=59978, confidence=0.99975), Word(text='it', start=59994, end=60078, confidence=0.99988), Word(text='is', start=60084, end=60640, confidence=0.99317), Word(text='is', start=62450, end=62862, confidence=0.70479), Word(text='it', start=62916, end=63086, confidence=0.68578), Word(text='is', start=63108, end=63390, confidence=0.99917), Word(text='the', start=63460, end=63598, confidence=1.0), Word(text='levels', start=63604, end=64042, confidence=0.9929), Word(text='outside', start=64106, end=64490, confidence=0.99998), Word(text='right', start=64580, end=64786, confidence=0.9999), Word(text='now', start=64808, end=64946, confidence=0.99994), Word(text='in', start=64968, end=65058, confidence=0.99988), Word(text='Baltimore', start=65064, end=65534, confidence=0.69672), Word(text='are', start=65582, end=65746, confidence=0.99978), Word(text='considered', start=65768, end=66046, confidence=0.99991), Word(text='unhealthy.', start=66078, end=67010, confidence=0.96427)]\n",
            "text=\"And most of that is due to what's called particulate matter, which are tiny particles, microscopic smaller than the width of your hair, that can get into your lungs and impact your respiratory system, your cardiovascular system, and even your neurological your brain.\" start=67750 end=82950 confidence=0.98 words=[Word(text='And', start=67750, end=68114, confidence=0.98), Word(text='most', start=68152, end=68306, confidence=0.99999), Word(text='of', start=68328, end=68466, confidence=1.0), Word(text='that', start=68488, end=68626, confidence=0.99977), Word(text='is', start=68648, end=68786, confidence=0.99997), Word(text='due', start=68808, end=69038, confidence=0.99998), Word(text='to', start=69054, end=69282, confidence=1.0), Word(text=\"what's\", start=69336, end=69566, confidence=0.98051), Word(text='called', start=69598, end=69746, confidence=1.0), Word(text='particulate', start=69768, end=70238, confidence=0.99963), Word(text='matter,', start=70254, end=70482, confidence=0.99999), Word(text='which', start=70536, end=70658, confidence=0.99999), Word(text='are', start=70664, end=70834, confidence=0.62609), Word(text='tiny', start=70872, end=71118, confidence=0.99996), Word(text='particles,', start=71134, end=71902, confidence=0.52336), Word(text='microscopic', start=72046, end=72894, confidence=0.51742), Word(text='smaller', start=72942, end=73278, confidence=0.99978), Word(text='than', start=73294, end=73426, confidence=0.99992), Word(text='the', start=73448, end=73538, confidence=1.0), Word(text='width', start=73544, end=73726, confidence=0.99973), Word(text='of', start=73758, end=74002, confidence=0.59), Word(text='your', start=74056, end=74274, confidence=0.99987), Word(text='hair,', start=74312, end=75018, confidence=0.99394), Word(text='that', start=75214, end=75574, confidence=0.99881), Word(text='can', start=75612, end=75766, confidence=0.99997), Word(text='get', start=75788, end=75926, confidence=1.0), Word(text='into', start=75948, end=76086, confidence=0.99998), Word(text='your', start=76108, end=76246, confidence=0.99998), Word(text='lungs', start=76268, end=76546, confidence=0.99945), Word(text='and', start=76578, end=76870, confidence=0.91), Word(text='impact', start=76940, end=77314, confidence=0.99617), Word(text='your', start=77362, end=77622, confidence=1.0), Word(text='respiratory', start=77676, end=78226, confidence=0.99963), Word(text='system,', start=78258, end=78454, confidence=1.0), Word(text='your', start=78492, end=78646, confidence=0.99999), Word(text='cardiovascular', start=78668, end=79474, confidence=0.99151), Word(text='system,', start=79522, end=80166, confidence=1.0), Word(text='and', start=80348, end=80694, confidence=0.69), Word(text='even', start=80732, end=81078, confidence=0.99998), Word(text='your', start=81164, end=81414, confidence=0.99874), Word(text='neurological', start=81452, end=82034, confidence=0.99975), Word(text='your', start=82082, end=82246, confidence=0.99982), Word(text='brain.', start=82268, end=82950, confidence=0.99994)]\n",
            "text='What makes this particularly harmful?' start=83450 end=85554 confidence=1.0 words=[Word(text='What', start=83450, end=83766, confidence=1.0), Word(text='makes', start=83788, end=83974, confidence=0.99998), Word(text='this', start=84012, end=84214, confidence=0.99875), Word(text='particularly', start=84252, end=85010, confidence=0.9979), Word(text='harmful?', start=85090, end=85554, confidence=0.99883)]\n",
            "text='Is it the volume of particulate?' start=85602 end=88034 confidence=0.99999 words=[Word(text='Is', start=85602, end=85718, confidence=0.99999), Word(text='it', start=85724, end=86230, confidence=0.94892), Word(text='the', start=86380, end=86694, confidence=1.0), Word(text='volume', start=86732, end=87154, confidence=0.99995), Word(text='of', start=87202, end=87414, confidence=1.0), Word(text='particulate?', start=87452, end=88034, confidence=0.80504)]\n",
            "text='Is it something in particular?' start=88082 end=89302 confidence=0.99693 words=[Word(text='Is', start=88082, end=88198, confidence=0.99693), Word(text='it', start=88204, end=88374, confidence=0.9999), Word(text='something', start=88412, end=88614, confidence=0.99987), Word(text='in', start=88652, end=88806, confidence=0.99927), Word(text='particular?', start=88828, end=89302, confidence=0.9994)]\n",
            "text='What is it exactly?' start=89436 end=90278 confidence=0.99999 words=[Word(text='What', start=89436, end=89686, confidence=0.99999), Word(text='is', start=89708, end=89798, confidence=0.99999), Word(text='it', start=89804, end=89926, confidence=0.99768), Word(text='exactly?', start=89948, end=90278, confidence=0.99999)]\n",
            "text='Can you just drill down on that a little bit more?' start=90364 end=92540 confidence=0.99999 words=[Word(text='Can', start=90364, end=90566, confidence=0.99999), Word(text='you', start=90588, end=90678, confidence=1.0), Word(text='just', start=90684, end=90806, confidence=1.0), Word(text='drill', start=90828, end=91026, confidence=0.99955), Word(text='down', start=91058, end=91218, confidence=1.0), Word(text='on', start=91244, end=91386, confidence=0.99993), Word(text='that', start=91408, end=91546, confidence=0.99999), Word(text='a', start=91568, end=91658, confidence=1.0), Word(text='little', start=91664, end=91738, confidence=1.0), Word(text='bit', start=91744, end=91914, confidence=0.99997), Word(text='more?', start=91952, end=92540, confidence=0.99994)]\n",
            "text='Yeah.' start=93390 end=93802 confidence=0.5659 words=[Word(text='Yeah.', start=93390, end=93802, confidence=0.5659)]\n",
            "text=\"So the concentration of particulate matter I was looking at some of the monitors that we have was reaching levels of what are, in science speak, 150 micrograms per meter cubed, which is more than ten times what the annual average should be, and about four times higher than what you're supposed to have on a 24 hours average.\" start=93856 end=113226 confidence=0.99998 words=[Word(text='So', start=93856, end=94074, confidence=0.99998), Word(text='the', start=94112, end=94266, confidence=1.0), Word(text='concentration', start=94288, end=94822, confidence=0.99997), Word(text='of', start=94886, end=95066, confidence=1.0), Word(text='particulate', start=95088, end=95606, confidence=0.99965), Word(text='matter', start=95638, end=96170, confidence=1.0), Word(text='I', start=96320, end=96538, confidence=1.0), Word(text='was', start=96544, end=96666, confidence=0.99768), Word(text='looking', start=96688, end=96826, confidence=1.0), Word(text='at', start=96848, end=96986, confidence=1.0), Word(text='some', start=97008, end=97098, confidence=1.0), Word(text='of', start=97104, end=97178, confidence=1.0), Word(text='the', start=97184, end=97258, confidence=1.0), Word(text='monitors', start=97264, end=97606, confidence=0.99997), Word(text='that', start=97638, end=97786, confidence=0.99341), Word(text='we', start=97808, end=97946, confidence=1.0), Word(text='have', start=97968, end=98250, confidence=0.99071), Word(text='was', start=98320, end=98554, confidence=0.96319), Word(text='reaching', start=98592, end=98838, confidence=1.0), Word(text='levels', start=98854, end=99126, confidence=0.99994), Word(text='of', start=99158, end=99306, confidence=1.0), Word(text='what', start=99328, end=99418, confidence=0.96113), Word(text='are,', start=99424, end=99980, confidence=0.78788), Word(text='in', start=100830, end=101146, confidence=0.99982), Word(text='science', start=101168, end=101414, confidence=0.83063), Word(text='speak,', start=101462, end=101674, confidence=0.37863), Word(text='150', start=101712, end=102362, confidence=0.88), Word(text='micrograms', start=102416, end=102918, confidence=0.9996), Word(text='per', start=102934, end=103030, confidence=1.0), Word(text='meter', start=103040, end=103306, confidence=0.77), Word(text='cubed,', start=103338, end=103658, confidence=0.99942), Word(text='which', start=103674, end=103854, confidence=0.99999), Word(text='is', start=103892, end=104238, confidence=0.99998), Word(text='more', start=104324, end=104574, confidence=1.0), Word(text='than', start=104612, end=104814, confidence=1.0), Word(text='ten', start=104852, end=105054, confidence=1.0), Word(text='times', start=105092, end=105342, confidence=0.99778), Word(text='what', start=105396, end=105566, confidence=0.99781), Word(text='the', start=105588, end=105774, confidence=0.98), Word(text='annual', start=105812, end=106122, confidence=0.97011), Word(text='average', start=106186, end=106554, confidence=0.68366), Word(text='should', start=106602, end=106814, confidence=0.97666), Word(text='be,', start=106852, end=107294, confidence=1.0), Word(text='and', start=107412, end=107694, confidence=0.94), Word(text='about', start=107732, end=108320, confidence=0.99997), Word(text='four', start=108850, end=109214, confidence=1.0), Word(text='times', start=109252, end=109502, confidence=0.99999), Word(text='higher', start=109556, end=109774, confidence=0.99999), Word(text='than', start=109812, end=109966, confidence=1.0), Word(text='what', start=109988, end=110078, confidence=1.0), Word(text=\"you're\", start=110084, end=110266, confidence=0.86524), Word(text='supposed', start=110298, end=110446, confidence=1.0), Word(text='to', start=110468, end=110654, confidence=0.94), Word(text='have', start=110692, end=111230, confidence=0.99999), Word(text='on', start=111380, end=111694, confidence=1.0), Word(text='a', start=111732, end=111886, confidence=1.0), Word(text='24', start=111908, end=112334, confidence=1.0), Word(text='hours', start=112372, end=112622, confidence=1.0), Word(text='average.', start=112676, end=113226, confidence=0.50705)]\n",
            "text='And so the concentrations of these particles in the air are just much, much higher than we typically see.' start=113338 end=119698 confidence=0.81 words=[Word(text='And', start=113338, end=113614, confidence=0.81), Word(text='so', start=113652, end=114046, confidence=0.99999), Word(text='the', start=114148, end=114366, confidence=1.0), Word(text='concentrations', start=114388, end=115098, confidence=0.9998), Word(text='of', start=115114, end=115198, confidence=1.0), Word(text='these', start=115204, end=115374, confidence=0.99999), Word(text='particles', start=115412, end=115754, confidence=0.54263), Word(text='in', start=115802, end=115918, confidence=1.0), Word(text='the', start=115924, end=115998, confidence=1.0), Word(text='air', start=116004, end=116462, confidence=0.99792), Word(text='are', start=116596, end=116846, confidence=0.99998), Word(text='just', start=116868, end=117294, confidence=0.67235), Word(text='much,', start=117412, end=117559, confidence=0.99806), Word(text='much', start=117559, end=117954, confidence=0.79922), Word(text='higher', start=118072, end=118402, confidence=0.99968), Word(text='than', start=118456, end=118722, confidence=0.99966), Word(text='we', start=118776, end=118898, confidence=0.99827), Word(text='typically', start=118904, end=119262, confidence=0.99991), Word(text='see.', start=119326, end=119698, confidence=0.99994)]\n",
            "text='And exposure to those high levels can lead to a host of health problems.' start=119784 end=123314 confidence=0.99 words=[Word(text='And', start=119784, end=120130, confidence=0.99), Word(text='exposure', start=120200, end=120686, confidence=0.99994), Word(text='to', start=120718, end=120914, confidence=1.0), Word(text='those', start=120952, end=121106, confidence=0.99999), Word(text='high', start=121128, end=121314, confidence=0.99989), Word(text='levels', start=121352, end=121646, confidence=0.99334), Word(text='can', start=121678, end=121826, confidence=0.99987), Word(text='lead', start=121848, end=121986, confidence=0.99999), Word(text='to', start=122008, end=122146, confidence=1.0), Word(text='a', start=122168, end=122258, confidence=1.0), Word(text='host', start=122264, end=122446, confidence=0.99998), Word(text='of', start=122478, end=122626, confidence=1.0), Word(text='health', start=122648, end=122834, confidence=0.99977), Word(text='problems.', start=122872, end=123314, confidence=0.99992)]\n",
            "text='And who is most vulnerable?' start=123432 end=124942 confidence=0.99 words=[Word(text='And', start=123432, end=123666, confidence=0.99), Word(text='who', start=123688, end=123874, confidence=0.99997), Word(text='is', start=123912, end=124066, confidence=0.99964), Word(text='most', start=124088, end=124322, confidence=0.99997), Word(text='vulnerable?', start=124376, end=124942, confidence=0.63281)]\n",
            "text=\"I noticed that in New York City, for example, they're canceling outdoor activities, and so here it is in the early days of summer, and they have to keep all the kids inside.\" start=125006 end=132838 confidence=1.0 words=[Word(text='I', start=125006, end=125186, confidence=1.0), Word(text='noticed', start=125208, end=125486, confidence=0.76651), Word(text='that', start=125518, end=125618, confidence=0.99954), Word(text='in', start=125624, end=125746, confidence=0.99989), Word(text='New', start=125768, end=125858, confidence=1.0), Word(text='York', start=125864, end=126034, confidence=0.98717), Word(text='City,', start=126072, end=126274, confidence=0.99999), Word(text='for', start=126312, end=126466, confidence=0.99999), Word(text='example,', start=126488, end=126722, confidence=0.9998), Word(text=\"they're\", start=126776, end=127182, confidence=0.87704), Word(text='canceling', start=127246, end=127742, confidence=0.8521), Word(text='outdoor', start=127806, end=128206, confidence=0.9784), Word(text='activities,', start=128238, end=128702, confidence=0.99998), Word(text='and', start=128766, end=128958, confidence=1.0), Word(text='so', start=128984, end=129174, confidence=0.99985), Word(text='here', start=129212, end=129366, confidence=0.99993), Word(text='it', start=129388, end=129526, confidence=0.99986), Word(text='is', start=129548, end=129686, confidence=0.9997), Word(text='in', start=129708, end=130086, confidence=0.99423), Word(text='the', start=130188, end=130550, confidence=0.61), Word(text='early', start=130620, end=130806, confidence=0.99999), Word(text='days', start=130828, end=131014, confidence=0.99999), Word(text='of', start=131052, end=131158, confidence=1.0), Word(text='summer,', start=131164, end=131378, confidence=0.99977), Word(text='and', start=131394, end=131526, confidence=1.0), Word(text='they', start=131548, end=131638, confidence=0.99963), Word(text='have', start=131644, end=131718, confidence=0.99998), Word(text='to', start=131724, end=131798, confidence=1.0), Word(text='keep', start=131804, end=131974, confidence=0.99992), Word(text='all', start=132012, end=132166, confidence=0.99998), Word(text='the', start=132188, end=132278, confidence=1.0), Word(text='kids', start=132284, end=132454, confidence=0.99998), Word(text='inside.', start=132492, end=132838, confidence=0.99975)]\n",
            "text='So who tends to be vulnerable in a situation like this?' start=132924 end=136440 confidence=0.94672 words=[Word(text='So', start=132924, end=133318, confidence=0.94672), Word(text='who', start=133404, end=133702, confidence=0.99996), Word(text='tends', start=133756, end=133986, confidence=0.99872), Word(text='to', start=134018, end=134118, confidence=1.0), Word(text='be', start=134124, end=134246, confidence=1.0), Word(text='vulnerable', start=134268, end=134674, confidence=0.59647), Word(text='in', start=134722, end=134886, confidence=0.99986), Word(text='a', start=134908, end=135046, confidence=1.0), Word(text='situation', start=135068, end=135446, confidence=1.0), Word(text='like', start=135548, end=135814, confidence=0.99997), Word(text='this?', start=135852, end=136440, confidence=0.98436)]\n",
            "text=\"It's the youngest.\" start=137450 end=138722 confidence=0.96855 words=[Word(text=\"It's\", start=137450, end=138018, confidence=0.96855), Word(text='the', start=138114, end=138326, confidence=0.99), Word(text='youngest.', start=138348, end=138722, confidence=0.58845)]\n",
            "text='So children, obviously, whose bodies are still developing.' start=138786 end=142514 confidence=0.9928 words=[Word(text='So', start=138786, end=139014, confidence=0.9928), Word(text='children,', start=139052, end=139350, confidence=0.99971), Word(text='obviously,', start=139420, end=140040, confidence=0.99844), Word(text='whose', start=140890, end=141426, confidence=0.97724), Word(text='bodies', start=141458, end=141666, confidence=0.99671), Word(text='are', start=141698, end=141846, confidence=0.99997), Word(text='still', start=141868, end=142006, confidence=0.99997), Word(text='developing.', start=142028, end=142514, confidence=0.99978)]\n",
            "text=\"The elderly who know their bodies are more in decline, and they're more susceptible to the health impacts of breathing, the poor air quality.\" start=142562 end=149580 confidence=1.0 words=[Word(text='The', start=142562, end=142726, confidence=1.0), Word(text='elderly', start=142748, end=143282, confidence=0.6148), Word(text='who', start=143346, end=143778, confidence=0.63688), Word(text='know', start=143884, end=144106, confidence=0.95517), Word(text='their', start=144128, end=144266, confidence=0.99752), Word(text='bodies', start=144288, end=144518, confidence=0.99992), Word(text='are', start=144534, end=144666, confidence=0.99983), Word(text='more', start=144688, end=144826, confidence=0.99997), Word(text='in', start=144848, end=144938, confidence=0.99976), Word(text='decline,', start=144944, end=145254, confidence=0.98763), Word(text='and', start=145302, end=145418, confidence=1.0), Word(text=\"they're\", start=145424, end=145558, confidence=0.99972), Word(text='more', start=145574, end=145706, confidence=0.99995), Word(text='susceptible', start=145728, end=146246, confidence=0.84777), Word(text='to', start=146278, end=146426, confidence=0.69), Word(text='the', start=146448, end=146538, confidence=1.0), Word(text='health', start=146544, end=146762, confidence=0.99999), Word(text='impacts', start=146816, end=147286, confidence=0.99967), Word(text='of', start=147318, end=147658, confidence=0.94), Word(text='breathing,', start=147744, end=148166, confidence=0.71777), Word(text='the', start=148198, end=148442, confidence=0.57), Word(text='poor', start=148496, end=148726, confidence=0.96906), Word(text='air', start=148758, end=148954, confidence=0.9674), Word(text='quality.', start=148992, end=149580, confidence=0.72805)]\n",
            "text='And then people who have preexisting health conditions, people with respiratory conditions or heart conditions can be triggered by high levels of air pollution.' start=150510 end=156910 confidence=1.0 words=[Word(text='And', start=150510, end=150826, confidence=1.0), Word(text='then', start=150848, end=151034, confidence=0.95397), Word(text='people', start=151072, end=151274, confidence=0.99999), Word(text='who', start=151312, end=151466, confidence=0.99999), Word(text='have', start=151488, end=151626, confidence=1.0), Word(text='preexisting', start=151648, end=152098, confidence=0.99917), Word(text='health', start=152134, end=152334, confidence=0.99995), Word(text='conditions,', start=152372, end=152666, confidence=0.99638), Word(text='people', start=152698, end=152846, confidence=0.99906), Word(text='with', start=152868, end=153006, confidence=0.99997), Word(text='respiratory', start=153028, end=153466, confidence=0.99769), Word(text='conditions', start=153498, end=153786, confidence=0.94315), Word(text='or', start=153818, end=153966, confidence=0.99984), Word(text='heart', start=153988, end=154174, confidence=0.99998), Word(text='conditions', start=154212, end=154506, confidence=0.99758), Word(text='can', start=154538, end=154686, confidence=0.99988), Word(text='be', start=154708, end=154798, confidence=0.99999), Word(text='triggered', start=154804, end=155146, confidence=0.77173), Word(text='by', start=155178, end=155374, confidence=0.99986), Word(text='high', start=155412, end=155566, confidence=0.99953), Word(text='levels', start=155588, end=155866, confidence=0.95389), Word(text='of', start=155898, end=155998, confidence=1.0), Word(text='air', start=156004, end=156174, confidence=0.99986), Word(text='pollution.', start=156212, end=156910, confidence=0.99917)]\n",
            "text='Could this get worse?' start=157410 end=158990 confidence=0.99843 words=[Word(text='Could', start=157410, end=157774, confidence=0.99843), Word(text='this', start=157812, end=158014, confidence=0.99998), Word(text='get', start=158052, end=158254, confidence=0.99991), Word(text='worse?', start=158292, end=158990, confidence=0.70993)]\n",
            "text=\"That's a good in some areas, it's much worse than others.\" start=162130 end=166942 confidence=0.99828 words=[Word(text=\"That's\", start=162130, end=162458, confidence=0.99828), Word(text='a', start=162474, end=162606, confidence=0.92), Word(text='good', start=162628, end=163200, confidence=0.99953), Word(text='in', start=164690, end=165198, confidence=0.6197), Word(text='some', start=165284, end=165486, confidence=0.99993), Word(text='areas,', start=165508, end=165882, confidence=0.59638), Word(text=\"it's\", start=165946, end=166138, confidence=0.99967), Word(text='much', start=166154, end=166334, confidence=0.99994), Word(text='worse', start=166372, end=166538, confidence=0.99999), Word(text='than', start=166554, end=166686, confidence=0.99997), Word(text='others.', start=166708, end=166942, confidence=0.99044)]\n",
            "text='And it just depends on kind of where the smoke is concentrated.' start=166996 end=170370 confidence=0.98 words=[Word(text='And', start=166996, end=167274, confidence=0.98), Word(text='it', start=167332, end=167458, confidence=0.99981), Word(text='just', start=167464, end=167634, confidence=0.9998), Word(text='depends', start=167672, end=168014, confidence=0.99891), Word(text='on', start=168062, end=168226, confidence=0.99926), Word(text='kind', start=168248, end=168338, confidence=0.91413), Word(text='of', start=168344, end=168466, confidence=1.0), Word(text='where', start=168488, end=168674, confidence=0.84394), Word(text='the', start=168712, end=168866, confidence=1.0), Word(text='smoke', start=168888, end=169118, confidence=0.99993), Word(text='is', start=169134, end=169314, confidence=0.81757), Word(text='concentrated.', start=169352, end=170370, confidence=0.75604)]\n",
            "text=\"I think New York has some of the higher concentrations right now, but that's going to change as that air moves away from the New York area.\" start=170950 end=176930 confidence=1.0 words=[Word(text='I', start=170950, end=171266, confidence=1.0), Word(text='think', start=171288, end=171426, confidence=0.99999), Word(text='New', start=171448, end=171634, confidence=1.0), Word(text='York', start=171672, end=171970, confidence=0.99986), Word(text='has', start=172040, end=172274, confidence=0.99998), Word(text='some', start=172312, end=172418, confidence=0.99996), Word(text='of', start=172424, end=172498, confidence=1.0), Word(text='the', start=172504, end=172578, confidence=1.0), Word(text='higher', start=172584, end=172802, confidence=0.99994), Word(text='concentrations', start=172856, end=173486, confidence=0.87827), Word(text='right', start=173518, end=173666, confidence=0.99996), Word(text='now,', start=173688, end=173826, confidence=0.9999), Word(text='but', start=173848, end=173986, confidence=0.99965), Word(text=\"that's\", start=174008, end=174206, confidence=0.99221), Word(text='going', start=174238, end=174338, confidence=0.97637), Word(text='to', start=174344, end=174466, confidence=1.0), Word(text='change', start=174488, end=174626, confidence=0.99997), Word(text='as', start=174648, end=174786, confidence=0.72787), Word(text='that', start=174808, end=174946, confidence=0.99979), Word(text='air', start=174968, end=175154, confidence=0.99992), Word(text='moves', start=175192, end=175486, confidence=0.99998), Word(text='away', start=175518, end=175714, confidence=1.0), Word(text='from', start=175752, end=175858, confidence=0.99999), Word(text='the', start=175864, end=175938, confidence=1.0), Word(text='New', start=175944, end=176066, confidence=1.0), Word(text='York', start=176088, end=176322, confidence=0.99947), Word(text='area.', start=176376, end=176930, confidence=0.99997)]\n",
            "text='But over the course of the next few days, we will see different areas being hit at different times with the highest concentrations.' start=177080 end=183634 confidence=0.99839 words=[Word(text='But', start=177080, end=177346, confidence=0.99839), Word(text='over', start=177368, end=177506, confidence=0.99996), Word(text='the', start=177528, end=177618, confidence=1.0), Word(text='course', start=177624, end=177746, confidence=0.99994), Word(text='of', start=177768, end=177858, confidence=0.95), Word(text='the', start=177864, end=177938, confidence=1.0), Word(text='next', start=177944, end=178114, confidence=0.99977), Word(text='few', start=178152, end=178306, confidence=0.99997), Word(text='days,', start=178328, end=178526, confidence=0.9998), Word(text='we', start=178568, end=178726, confidence=0.99973), Word(text='will', start=178748, end=178934, confidence=0.99983), Word(text='see', start=178972, end=179462, confidence=0.99992), Word(text='different', start=179596, end=179942, confidence=0.99988), Word(text='areas', start=179996, end=180386, confidence=0.99993), Word(text='being', start=180418, end=180614, confidence=0.99998), Word(text='hit', start=180652, end=180950, confidence=0.99994), Word(text='at', start=181020, end=181206, confidence=1.0), Word(text='different', start=181228, end=181462, confidence=0.99997), Word(text='times', start=181516, end=181878, confidence=0.99949), Word(text='with', start=181964, end=182166, confidence=0.9998), Word(text='the', start=182188, end=182326, confidence=1.0), Word(text='highest', start=182348, end=182594, confidence=0.95781), Word(text='concentrations.', start=182642, end=183634, confidence=0.61863)]\n",
            "text=\"I was going to ask you, more fires start burning, I don't expect the concentrations to go up too much higher.\" start=183762 end=189078 confidence=0.89 words=[Word(text='I', start=183762, end=183958, confidence=0.89), Word(text='was', start=183964, end=184086, confidence=0.99115), Word(text='going', start=184108, end=184186, confidence=0.92372), Word(text='to', start=184188, end=184270, confidence=0.63), Word(text='ask', start=184280, end=184406, confidence=0.9843), Word(text='you,', start=184428, end=184662, confidence=0.67647), Word(text='more', start=184716, end=184886, confidence=0.90574), Word(text='fires', start=184908, end=185186, confidence=0.9757), Word(text='start', start=185218, end=185366, confidence=0.89361), Word(text='burning,', start=185388, end=185634, confidence=0.9981), Word(text='I', start=185682, end=185846, confidence=1.0), Word(text=\"don't\", start=185868, end=186006, confidence=0.86059), Word(text='expect', start=186028, end=186694, confidence=0.9989), Word(text='the', start=186892, end=187206, confidence=1.0), Word(text='concentrations', start=187228, end=187746, confidence=0.83538), Word(text='to', start=187778, end=187878, confidence=1.0), Word(text='go', start=187884, end=188006, confidence=0.9883), Word(text='up', start=188028, end=188262, confidence=0.98357), Word(text='too', start=188316, end=188534, confidence=0.71171), Word(text='much', start=188572, end=188726, confidence=1.0), Word(text='higher.', start=188748, end=189078, confidence=0.99562)]\n",
            "text='I was going to ask you and you started to answer this, but how much longer could this last?' start=189164 end=193254 confidence=1.0 words=[Word(text='I', start=189164, end=189318, confidence=1.0), Word(text='was', start=189324, end=189398, confidence=0.99986), Word(text='going', start=189404, end=189478, confidence=0.96811), Word(text='to', start=189484, end=189606, confidence=1.0), Word(text='ask', start=189628, end=189766, confidence=0.99933), Word(text='you', start=189788, end=190022, confidence=0.98476), Word(text='and', start=190076, end=190246, confidence=0.67), Word(text='you', start=190268, end=190406, confidence=0.99951), Word(text='started', start=190428, end=190614, confidence=0.99957), Word(text='to', start=190652, end=190758, confidence=0.99), Word(text='answer', start=190764, end=190934, confidence=0.99869), Word(text='this,', start=190972, end=191126, confidence=0.98716), Word(text='but', start=191148, end=191430, confidence=0.85838), Word(text='how', start=191500, end=191734, confidence=0.99997), Word(text='much', start=191772, end=191974, confidence=1.0), Word(text='longer', start=192012, end=192358, confidence=1.0), Word(text='could', start=192444, end=192694, confidence=0.99997), Word(text='this', start=192732, end=192982, confidence=0.99999), Word(text='last?', start=193036, end=193254, confidence=0.98957)]\n",
            "text=\"Or forgive me if I'm asking you to speculate, but what do you think?\" start=193292 end=196540 confidence=0.46097 words=[Word(text='Or', start=193292, end=193506, confidence=0.46097), Word(text='forgive', start=193548, end=193718, confidence=0.99979), Word(text='me', start=193734, end=193818, confidence=0.99964), Word(text='if', start=193824, end=193946, confidence=0.84776), Word(text=\"I'm\", start=193968, end=194118, confidence=0.99972), Word(text='asking', start=194134, end=194266, confidence=0.99988), Word(text='you', start=194288, end=194378, confidence=0.99992), Word(text='to', start=194384, end=194506, confidence=1.0), Word(text='speculate,', start=194528, end=194886, confidence=0.99924), Word(text='but', start=194918, end=195306, confidence=0.98), Word(text='what', start=195408, end=195626, confidence=0.97315), Word(text='do', start=195648, end=195786, confidence=0.9995), Word(text='you', start=195808, end=195946, confidence=0.99991), Word(text='think?', start=195968, end=196540, confidence=0.99873)]\n",
            "text='Well, I think the fires are going to burn for a little bit longer, but the key for us in the US.' start=198030 end=202250 confidence=0.99418 words=[Word(text='Well,', start=198030, end=198346, confidence=0.99418), Word(text='I', start=198368, end=198506, confidence=0.99), Word(text='think', start=198528, end=198618, confidence=0.99996), Word(text='the', start=198624, end=198746, confidence=1.0), Word(text='fires', start=198768, end=199078, confidence=0.99973), Word(text='are', start=199094, end=199178, confidence=0.99997), Word(text='going', start=199184, end=199258, confidence=0.97722), Word(text='to', start=199264, end=199338, confidence=1.0), Word(text='burn', start=199344, end=199526, confidence=0.99731), Word(text='for', start=199558, end=199658, confidence=0.99994), Word(text='a', start=199664, end=199738, confidence=0.99), Word(text='little', start=199744, end=199866, confidence=0.9995), Word(text='bit', start=199888, end=200074, confidence=0.99998), Word(text='longer,', start=200112, end=200410, confidence=0.99998), Word(text='but', start=200480, end=200666, confidence=0.9993), Word(text='the', start=200688, end=200874, confidence=1.0), Word(text='key', start=200912, end=201162, confidence=0.99999), Word(text='for', start=201216, end=201434, confidence=1.0), Word(text='us', start=201472, end=201674, confidence=1.0), Word(text='in', start=201712, end=201818, confidence=0.99998), Word(text='the', start=201824, end=201946, confidence=1.0), Word(text='US.', start=201968, end=202250, confidence=0.78)]\n",
            "text='Is the weather system changing.' start=202320 end=203754 confidence=0.99996 words=[Word(text='Is', start=202320, end=202506, confidence=0.99996), Word(text='the', start=202528, end=202678, confidence=1.0), Word(text='weather', start=202704, end=202954, confidence=0.93882), Word(text='system', start=203002, end=203310, confidence=0.99997), Word(text='changing.', start=203380, end=203754, confidence=0.93897)]\n",
            "text=\"And so right now, it's kind of the weather systems that are pulling that air into our mid Atlantic and Northeast region.\" start=203802 end=211130 confidence=0.98 words=[Word(text='And', start=203802, end=203966, confidence=0.98), Word(text='so', start=203988, end=204126, confidence=0.99981), Word(text='right', start=204148, end=204286, confidence=0.99994), Word(text='now,', start=204308, end=204638, confidence=0.98949), Word(text=\"it's\", start=204724, end=204938, confidence=0.99974), Word(text='kind', start=204954, end=205038, confidence=0.97621), Word(text='of', start=205044, end=205118, confidence=1.0), Word(text='the', start=205124, end=205246, confidence=0.95), Word(text='weather', start=205268, end=205466, confidence=0.99971), Word(text='systems', start=205498, end=205818, confidence=0.99884), Word(text='that', start=205834, end=205918, confidence=0.99981), Word(text='are', start=205924, end=206046, confidence=0.99985), Word(text='pulling', start=206068, end=206298, confidence=0.99989), Word(text='that', start=206314, end=206494, confidence=0.99995), Word(text='air', start=206532, end=207118, confidence=0.99966), Word(text='into', start=207284, end=207662, confidence=0.99949), Word(text='our', start=207716, end=208320, confidence=0.9965), Word(text='mid', start=209090, end=209406, confidence=0.99905), Word(text='Atlantic', start=209428, end=209866, confidence=0.99777), Word(text='and', start=209898, end=210142, confidence=0.53), Word(text='Northeast', start=210196, end=210666, confidence=0.98843), Word(text='region.', start=210698, end=211130, confidence=0.99929)]\n",
            "text=\"As those weather systems change and shift, we'll see that smoke going elsewhere and not impact us in this region as much.\" start=211210 end=219122 confidence=0.99983 words=[Word(text='As', start=211210, end=211406, confidence=0.99983), Word(text='those', start=211428, end=211566, confidence=0.99986), Word(text='weather', start=211588, end=212190, confidence=0.80645), Word(text='systems', start=212850, end=213434, confidence=0.99838), Word(text='change', start=213482, end=213742, confidence=0.99996), Word(text='and', start=213796, end=214014, confidence=1.0), Word(text='shift,', start=214052, end=214458, confidence=0.96276), Word(text=\"we'll\", start=214554, end=214778, confidence=0.82599), Word(text='see', start=214794, end=214926, confidence=0.9752), Word(text='that', start=214948, end=215086, confidence=0.99989), Word(text='smoke', start=215108, end=215386, confidence=0.99978), Word(text='going', start=215418, end=215614, confidence=0.99978), Word(text='elsewhere', start=215652, end=216410, confidence=0.99974), Word(text='and', start=216570, end=216846, confidence=1.0), Word(text='not', start=216868, end=217054, confidence=0.88077), Word(text='impact', start=217092, end=217434, confidence=0.80063), Word(text='us', start=217482, end=217886, confidence=0.98), Word(text='in', start=217988, end=218206, confidence=0.99978), Word(text='this', start=218228, end=218366, confidence=0.99998), Word(text='region', start=218388, end=218666, confidence=0.99995), Word(text='as', start=218698, end=218858, confidence=0.99995), Word(text='much.', start=218884, end=219122, confidence=0.99998)]\n",
            "text=\"And so I think that's going to be the defining factor.\" start=219176 end=221006 confidence=1.0 words=[Word(text='And', start=219176, end=219346, confidence=1.0), Word(text='so', start=219368, end=219458, confidence=0.99998), Word(text='I', start=219464, end=219586, confidence=0.97), Word(text='think', start=219608, end=219746, confidence=1.0), Word(text=\"that's\", start=219768, end=219966, confidence=0.99985), Word(text='going', start=219998, end=220098, confidence=0.99989), Word(text='to', start=220104, end=220166, confidence=1.0), Word(text='be', start=220168, end=220250, confidence=0.52337), Word(text='the', start=220260, end=220338, confidence=1.0), Word(text='defining', start=220344, end=220718, confidence=0.99913), Word(text='factor.', start=220734, end=221006, confidence=0.99993)]\n",
            "text=\"And I think the next couple of days we're going to see a shift in that weather pattern and start to push the smoke away from where we are.\" start=221038 end=227638 confidence=1.0 words=[Word(text='And', start=221038, end=221138, confidence=1.0), Word(text='I', start=221144, end=221218, confidence=1.0), Word(text='think', start=221224, end=221346, confidence=1.0), Word(text='the', start=221368, end=221458, confidence=1.0), Word(text='next', start=221464, end=221586, confidence=1.0), Word(text='couple', start=221608, end=221746, confidence=0.99901), Word(text='of', start=221768, end=221858, confidence=1.0), Word(text='days', start=221864, end=222034, confidence=0.99995), Word(text=\"we're\", start=222072, end=222238, confidence=0.99984), Word(text='going', start=222254, end=222338, confidence=0.99967), Word(text='to', start=222344, end=222610, confidence=1.0), Word(text='see', start=222680, end=222914, confidence=1.0), Word(text='a', start=222952, end=223058, confidence=1.0), Word(text='shift', start=223064, end=223730, confidence=0.99996), Word(text='in', start=224070, end=224338, confidence=0.99999), Word(text='that', start=224344, end=224466, confidence=0.99988), Word(text='weather', start=224488, end=224734, confidence=0.97838), Word(text='pattern', start=224782, end=225086, confidence=1.0), Word(text='and', start=225118, end=225314, confidence=0.95), Word(text='start', start=225352, end=225506, confidence=1.0), Word(text='to', start=225528, end=225618, confidence=1.0), Word(text='push', start=225624, end=225806, confidence=1.0), Word(text='the', start=225838, end=225938, confidence=1.0), Word(text='smoke', start=225944, end=226170, confidence=0.99998), Word(text='away', start=226190, end=226422, confidence=0.79562), Word(text='from', start=226476, end=226790, confidence=0.87232), Word(text='where', start=226860, end=227094, confidence=1.0), Word(text='we', start=227132, end=227286, confidence=0.99999), Word(text='are.', start=227308, end=227638, confidence=0.99995)]\n",
            "text='And finally, with the impacts of climate change, we are seeing more wildfires.' start=227724 end=232354 confidence=1.0 words=[Word(text='And', start=227724, end=227974, confidence=1.0), Word(text='finally,', start=228012, end=228358, confidence=0.99991), Word(text='with', start=228444, end=228694, confidence=0.99999), Word(text='the', start=228732, end=228934, confidence=1.0), Word(text='impacts', start=228972, end=229346, confidence=0.94577), Word(text='of', start=229378, end=229526, confidence=1.0), Word(text='climate', start=229548, end=229906, confidence=0.99998), Word(text='change,', start=229938, end=230230, confidence=1.0), Word(text='we', start=230300, end=230486, confidence=0.99999), Word(text='are', start=230508, end=230694, confidence=0.99999), Word(text='seeing', start=230732, end=230982, confidence=0.99999), Word(text='more', start=231036, end=231302, confidence=0.99999), Word(text='wildfires.', start=231356, end=232354, confidence=0.75211)]\n",
            "text='Will we be seeing more of these kinds of wide ranging air quality consequences or circumstances?' start=232482 end=240330 confidence=0.99997 words=[Word(text='Will', start=232482, end=232774, confidence=0.99997), Word(text='we', start=232812, end=232966, confidence=0.99968), Word(text='be', start=232988, end=233174, confidence=0.99998), Word(text='seeing', start=233212, end=233606, confidence=0.99992), Word(text='more', start=233708, end=234022, confidence=0.99999), Word(text='of', start=234076, end=234294, confidence=0.66), Word(text='these', start=234332, end=234534, confidence=1.0), Word(text='kinds', start=234572, end=234866, confidence=0.99991), Word(text='of', start=234898, end=235286, confidence=1.0), Word(text='wide', start=235388, end=235794, confidence=0.99911), Word(text='ranging', start=235842, end=236630, confidence=0.76374), Word(text='air', start=237210, end=237586, confidence=0.99994), Word(text='quality', start=237628, end=237978, confidence=0.9524), Word(text='consequences', start=238064, end=238838, confidence=0.74374), Word(text='or', start=238934, end=239146, confidence=0.99794), Word(text='circumstances?', start=239168, end=240330, confidence=0.77561)]\n",
            "text='I mean, that is one of the predictions for climate change.' start=241310 end=245162 confidence=0.99 words=[Word(text='I', start=241310, end=241578, confidence=0.99), Word(text='mean,', start=241584, end=241754, confidence=0.58501), Word(text='that', start=241792, end=241946, confidence=0.99994), Word(text='is', start=241968, end=242106, confidence=0.99978), Word(text='one', start=242128, end=242266, confidence=1.0), Word(text='of', start=242288, end=242378, confidence=1.0), Word(text='the', start=242384, end=242506, confidence=1.0), Word(text='predictions', start=242528, end=243290, confidence=0.51984), Word(text='for', start=244110, end=244522, confidence=0.56978), Word(text='climate', start=244576, end=244886, confidence=0.98878), Word(text='change.', start=244918, end=245162, confidence=0.99999)]\n",
            "text=\"Looking into the future, the fire season is starting earlier and lasting longer and we're seeing more frequent fires.\" start=245216 end=251254 confidence=0.99998 words=[Word(text='Looking', start=245216, end=245386, confidence=0.99998), Word(text='into', start=245408, end=245594, confidence=0.99998), Word(text='the', start=245632, end=245738, confidence=1.0), Word(text='future,', start=245744, end=246250, confidence=0.99889), Word(text='the', start=246400, end=246714, confidence=1.0), Word(text='fire', start=246752, end=246954, confidence=0.99994), Word(text='season', start=246992, end=247286, confidence=0.9999), Word(text='is', start=247318, end=247466, confidence=0.99959), Word(text='starting', start=247488, end=247674, confidence=0.99993), Word(text='earlier', start=247712, end=248006, confidence=0.99852), Word(text='and', start=248038, end=248186, confidence=1.0), Word(text='lasting', start=248208, end=248534, confidence=0.9957), Word(text='longer', start=248582, end=249180, confidence=0.99997), Word(text='and', start=249550, end=249866, confidence=1.0), Word(text=\"we're\", start=249888, end=250086, confidence=0.99726), Word(text='seeing', start=250118, end=250266, confidence=0.99998), Word(text='more', start=250288, end=250474, confidence=0.99999), Word(text='frequent', start=250512, end=250806, confidence=0.99995), Word(text='fires.', start=250838, end=251254, confidence=0.93608)]\n",
            "text=\"So, yeah, this is probably something that we'll be seeing more frequently.\" start=251302 end=255578 confidence=0.8797 words=[Word(text='So,', start=251302, end=251850, confidence=0.8797), Word(text='yeah,', start=252000, end=252314, confidence=0.99807), Word(text='this', start=252352, end=252506, confidence=0.99999), Word(text='is', start=252528, end=252714, confidence=0.99989), Word(text='probably', start=252752, end=253002, confidence=0.99996), Word(text='something', start=253056, end=253370, confidence=0.99996), Word(text='that', start=253440, end=253770, confidence=0.9998), Word(text=\"we'll\", start=253840, end=254118, confidence=0.61333), Word(text='be', start=254134, end=254278, confidence=0.99999), Word(text='seeing', start=254304, end=254638, confidence=0.99983), Word(text='more', start=254724, end=254926, confidence=0.99997), Word(text='frequently.', start=254948, end=255578, confidence=0.99974)]\n",
            "text='This tends to be much more of an issue in the Western US.' start=255674 end=258046 confidence=0.99997 words=[Word(text='This', start=255674, end=255934, confidence=0.99997), Word(text='tends', start=255972, end=256218, confidence=0.9994), Word(text='to', start=256234, end=256318, confidence=1.0), Word(text='be', start=256324, end=256446, confidence=0.99994), Word(text='much', start=256468, end=256558, confidence=0.99998), Word(text='more', start=256564, end=256686, confidence=0.99996), Word(text='of', start=256708, end=256798, confidence=1.0), Word(text='an', start=256804, end=256926, confidence=0.99999), Word(text='issue', start=256948, end=257134, confidence=1.0), Word(text='in', start=257172, end=257278, confidence=0.99998), Word(text='the', start=257284, end=257358, confidence=1.0), Word(text='Western', start=257364, end=257626, confidence=0.9685), Word(text='US.', start=257658, end=258046, confidence=0.66)]\n",
            "text='So the Eastern US getting hit right now is a little bit new.' start=258148 end=261760 confidence=0.99478 words=[Word(text='So', start=258148, end=258366, confidence=0.99478), Word(text='the', start=258388, end=258478, confidence=1.0), Word(text='Eastern', start=258484, end=258794, confidence=0.99973), Word(text='US', start=258842, end=259054, confidence=0.83), Word(text='getting', start=259092, end=259294, confidence=0.99998), Word(text='hit', start=259332, end=259486, confidence=0.99998), Word(text='right', start=259508, end=259646, confidence=0.99998), Word(text='now', start=259668, end=260238, confidence=0.99957), Word(text='is', start=260404, end=260686, confidence=0.99996), Word(text='a', start=260708, end=260798, confidence=1.0), Word(text='little', start=260804, end=260926, confidence=0.99997), Word(text='bit', start=260948, end=261134, confidence=0.99999), Word(text='new.', start=261172, end=261760, confidence=1.0)]\n",
            "text='But yeah, I think with climate change moving forward, this is something that is going to happen more frequently.' start=262130 end=267770 confidence=0.99781 words=[Word(text='But', start=262130, end=262542, confidence=0.99781), Word(text='yeah,', start=262596, end=262766, confidence=0.99659), Word(text='I', start=262788, end=262926, confidence=1.0), Word(text='think', start=262948, end=263086, confidence=1.0), Word(text='with', start=263108, end=263294, confidence=0.92632), Word(text='climate', start=263332, end=263674, confidence=0.99995), Word(text='change', start=263722, end=263982, confidence=1.0), Word(text='moving', start=264036, end=264302, confidence=0.99998), Word(text='forward,', start=264356, end=264718, confidence=0.99998), Word(text='this', start=264804, end=265006, confidence=0.99996), Word(text='is', start=265028, end=265166, confidence=0.99995), Word(text='something', start=265188, end=265374, confidence=0.99992), Word(text='that', start=265412, end=265950, confidence=0.98355), Word(text='is', start=266100, end=266366, confidence=0.99213), Word(text='going', start=266388, end=266478, confidence=0.98258), Word(text='to', start=266484, end=266606, confidence=1.0), Word(text='happen', start=266628, end=266814, confidence=0.99998), Word(text='more', start=266852, end=267006, confidence=0.99985), Word(text='frequently.', start=267028, end=267770, confidence=0.99833)]\n",
            "text=\"That's Peter DiCarlo, associate professor in the Department of Environmental Health and Engineering at Johns Hopkins University.\" start=267930 end=274882 confidence=0.97568 words=[Word(text=\"That's\", start=267930, end=268266, confidence=0.97568), Word(text='Peter', start=268298, end=268602, confidence=0.99871), Word(text='DiCarlo,', start=268666, end=269194, confidence=0.62409), Word(text='associate', start=269242, end=269786, confidence=0.96248), Word(text='professor', start=269818, end=270186, confidence=0.99984), Word(text='in', start=270218, end=270318, confidence=0.99998), Word(text='the', start=270324, end=270446, confidence=1.0), Word(text='Department', start=270468, end=270714, confidence=0.99784), Word(text='of', start=270762, end=270926, confidence=1.0), Word(text='Environmental', start=270948, end=271546, confidence=0.99968), Word(text='Health', start=271578, end=271822, confidence=0.56205), Word(text='and', start=271876, end=272094, confidence=1.0), Word(text='Engineering', start=272132, end=272810, confidence=0.99894), Word(text='at', start=272890, end=273134, confidence=1.0), Word(text='Johns', start=273172, end=273466, confidence=0.95491), Word(text='Hopkins', start=273498, end=274090, confidence=0.99912), Word(text='University.', start=274170, end=274882, confidence=0.99729)]\n",
            "text='Sergeant Carlo, thanks so much for joining us and sharing this expertise with us.' start=274986 end=278600 confidence=0.21181 words=[Word(text='Sergeant', start=274986, end=275298, confidence=0.21181), Word(text='Carlo,', start=275314, end=275634, confidence=0.38039), Word(text='thanks', start=275682, end=275846, confidence=0.99847), Word(text='so', start=275868, end=275958, confidence=0.99979), Word(text='much', start=275964, end=276086, confidence=0.99982), Word(text='for', start=276108, end=276246, confidence=0.99995), Word(text='joining', start=276268, end=276498, confidence=0.99994), Word(text='us', start=276514, end=276646, confidence=1.0), Word(text='and', start=276668, end=276806, confidence=1.0), Word(text='sharing', start=276828, end=277026, confidence=0.99983), Word(text='this', start=277058, end=277206, confidence=0.99982), Word(text='expertise', start=277228, end=277714, confidence=0.99721), Word(text='with', start=277762, end=277974, confidence=0.99824), Word(text='us.', start=278012, end=278600, confidence=1.0)]\n",
            "text='Thank you for having me.' start=279370 end=280340 confidence=0.99857 words=[Word(text='Thank', start=279370, end=279734, confidence=0.99857), Word(text='you', start=279772, end=279878, confidence=0.99972), Word(text='for', start=279884, end=280006, confidence=0.51551), Word(text='having', start=280028, end=280214, confidence=0.99913), Word(text='me.', start=280252, end=280340, confidence=0.88833)]\n"
          ]
        }
      ]
    },
    {
      "cell_type": "code",
      "source": [
        "paragraphs = transcript.get_paragraphs()\n",
        "for paragraph in paragraphs:\n",
        "  print(paragraph.text)"
      ],
      "metadata": {
        "id": "2nZcVa8y7Hwc"
      },
      "execution_count": null,
      "outputs": []
    },
    {
      "cell_type": "markdown",
      "source": [
        "You can export completed transcripts in SRT or VTT format, which can be used for subtitles and closed captions in videos.\n",
        "\n",
        "You can also customize the maximum number of characters per caption by specifying the `chars_per_caption` parameter."
      ],
      "metadata": {
        "id": "a-9FcL6w79k5"
      }
    },
    {
      "cell_type": "code",
      "source": [
        "srt = transcript.export_subtitles_srt()\n",
        "srt = transcript.export_subtitles_srt(chars_per_caption=32)\n",
        "\n",
        "vtt =transcript.export_subtitles_vtt()\n",
        "vtt =transcript.export_subtitles_vtt(chars_per_caption=32)"
      ],
      "metadata": {
        "id": "UF3g9i6I8PL7"
      },
      "execution_count": null,
      "outputs": []
    },
    {
      "cell_type": "markdown",
      "source": [
        "### Speaker Diarization"
      ],
      "metadata": {
        "id": "yxIZi4VA1dDW"
      }
    },
    {
      "cell_type": "markdown",
      "source": [
        "To run the code below, simply paste your [API key](https://www.assemblyai.com/app) into the string for the `YOUR_API_KEY` variable below, and then press the \"Play\" button in the top-left hand corner of the cell.\n",
        "\n",
        "If you do not yet have an API token, you can get one for free [here](https://www.assemblyai.com/dashboard/signup)."
      ],
      "metadata": {
        "id": "0rPSeZtI9nvS"
      }
    },
    {
      "cell_type": "code",
      "source": [
        "import assemblyai as aai\n",
        "\n",
        "aai.settings.api_key = \"YOUR_KEY_HERE\"\n",
        "\n",
        "audio_url = \"https://github.com/AssemblyAI-Examples/audio-examples/raw/main/20230607_me_canadian_wildfires.mp3\"\n",
        "\n",
        "config = aai.TranscriptionConfig(\n",
        "  speaker_labels=True,\n",
        ")\n",
        "\n",
        "transcript = aai.Transcriber().transcribe(audio_url, config)\n",
        "\n",
        "for utterance in transcript.utterances:\n",
        "  print(f\"Speaker {utterance.speaker}: {utterance.text}\")"
      ],
      "metadata": {
        "colab": {
          "base_uri": "https://localhost:8080/"
        },
        "id": "GWF-FUgr1zI1",
        "outputId": "7019244a-dfe9-4af7-cd14-6239ad2f5058"
      },
      "execution_count": null,
      "outputs": [
        {
          "output_type": "stream",
          "name": "stdout",
          "text": [
            "Speaker A: Smoke from hundreds of wildfires in Canada is triggering air quality alerts throughout the US. Skylines from Maine to Maryland to Minnesota are gray and smoggy. And in some places, the air quality warnings include the warning to stay inside. We wanted to better understand what's happening here and why, so we called Peter DiCarlo, an associate professor in the department of Environmental Health and Engineering at Johns Hopkins University. Good morning. Professor good morning. So what is it about the conditions right now that have caused this round of wildfires to affect so many people so far away?\n",
            "Speaker B: Well, there's a couple of things. The season has been pretty dry already, and then the fact that we're getting hit in the US is because there's a couple of weather systems that are essentially channeling the smoke from those canadian wildfires through Pennsylvania into the mid Atlantic and the northeast and kind of just dropping the smoke there.\n",
            "Speaker A: So what is it in this haze that makes it harmful? And I'm assuming it is.\n",
            "Speaker B: Is it is. The levels outside right now in Baltimore are considered unhealthy. And most of that is due to what's called particulate matter, which are tiny particles, microscopic, smaller than the width of your hair, that can get into your lungs and impact your respiratory system, your cardiovascular system, and even your neurological, your brain.\n",
            "Speaker A: What makes this particularly harmful? Is it the volume of particulate? Is it something in particular? What is it exactly? Can you just drill down on that a little bit more? Yeah.\n",
            "Speaker B: So the concentration of particulate matter I was looking at, some of the monitors that we have was reaching levels of what are, in science speak, 150 micrograms per meter cubed, which is more than ten times what the annual average should be and about four times higher than what you're supposed to have on a 24 hours average. And so the concentrations of these particles in the air are just much, much higher than we typically see. And exposure to those high levels can lead to a host of health problems.\n",
            "Speaker A: And who is most vulnerable? I noticed that in New York City, for example, they're canceling outdoor activities. And so here it is in the early days of summer, and they have to keep all the kids inside. So who tends to be vulnerable in a situation like this?\n",
            "Speaker B: It's the youngest. So children, obviously, whose bodies are still developing, the elderly who know their bodies are more in decline and they're more susceptible to the health impacts of breathing, the poor air quality. And then people who have preexisting health conditions, people with respiratory conditions or heart conditions, can be triggered by high levels of air pollution.\n",
            "Speaker A: Could this get worse?\n",
            "Speaker B: That's a good, in some areas it's much worse than others, and it just depends on kind of where the smoke is concentrated. I think New York has some of the higher concentrations right now, but that's going to change as that air moves away from the New York area. But over the course of the next few days, we will see different areas being hit at different times with the highest concentrations. I was going to ask you more fires start burning. I don't expect the concentrations to go up too much higher.\n",
            "Speaker A: I was going to ask you, and you started to answer this, but how much longer could this last? Or, forgive me if I'm asking you to speculate, but what do you think?\n",
            "Speaker B: Well, I think the fires are going to burn for a little bit longer, but the key for us in the US is the weather system changing. And so right now it's kind of the weather systems that are pulling that air into our mid Atlantic and northeast region. As those weather systems change and shift, we'll see that smoke going elsewhere and not impact us in this region as much. And so I think that's going to be the defining factor. And I think the next couple of days we're going to see a shift in that weather pattern and start to push the smoke away from where we are.\n",
            "Speaker A: And finally, with the impacts of climate change, we are seeing more wildfires. Will we be seeing more of these kinds of wide ranging air quality consequences or circumstances?\n",
            "Speaker B: I mean, that is one of the predictions for climate change. Looking into the future, the fire season is starting earlier and lasting longer, and we're seeing more frequent fires. So, yeah, this is probably something that we'll be seeing more frequently. This tends to be much more of an issue in the western US. So the eastern us getting hit right now is a little bit new. But, yeah, I think with climate change moving forward, this is something that is going to happen more frequently.\n",
            "Speaker A: That's Peter DiCarlo, associate professor in the department of Environmental Health and engineering at Johns Hopkins University. Thanks so much for joining us and sharing this expertise with us.\n",
            "Speaker B: Thank you for having me.\n"
          ]
        }
      ]
    },
    {
      "cell_type": "markdown",
      "source": [
        "## Audio Intelligence"
      ],
      "metadata": {
        "id": "TfnrKdbV1dVD"
      }
    },
    {
      "cell_type": "markdown",
      "source": [
        "### Summarization"
      ],
      "metadata": {
        "id": "ZjKQBYYqyg15"
      }
    },
    {
      "cell_type": "markdown",
      "source": [
        "To run the code below, simply paste your [API key](https://www.assemblyai.com/app) into the string for the `YOUR_API_KEY` variable below, and then press the \"Play\" button in the top-left hand corner of the cell.\n",
        "\n",
        "If you do not yet have an API token, you can get one for free [here](https://www.assemblyai.com/dashboard/signup)."
      ],
      "metadata": {
        "id": "9PB7rwtl9opg"
      }
    },
    {
      "cell_type": "code",
      "source": [
        "import assemblyai as aai\n",
        "\n",
        "aai.settings.api_key = \"YOUR_KEY_HERE\"\n",
        "\n",
        "audio_url = \"https://github.com/AssemblyAI-Examples/audio-examples/raw/main/20230607_me_canadian_wildfires.mp3\"\n",
        "\n",
        "config = aai.TranscriptionConfig(\n",
        "  summarization=True,\n",
        "  summary_model=aai.SummarizationModel.informative,\n",
        "  summary_type=aai.SummarizationType.bullets\n",
        ")\n",
        "\n",
        "transcript = aai.Transcriber().transcribe(audio_url, config)\n",
        "\n",
        "print(transcript.summary)"
      ],
      "metadata": {
        "colab": {
          "base_uri": "https://localhost:8080/"
        },
        "id": "YkBMovF01zmI",
        "outputId": "e8fbca80-663c-468c-c10d-ebca5f244919"
      },
      "execution_count": null,
      "outputs": [
        {
          "output_type": "stream",
          "name": "stdout",
          "text": [
            "- Smoke from hundreds of wildfires in Canada is triggering air quality alerts throughout the US. Skylines from Maine to Maryland to Minnesota are gray and smoggy. In some places, the air quality warnings include the warning to stay inside.\n",
            "- Most of that is due to what's called particulate matter, which can get into your lungs. Exposure to high levels can lead to a host of health problems. Who tends to be vulnerable in a situation like this? It's the youngest. Will we be seeing more of these kinds of wide ranging air quality consequences?\n"
          ]
        }
      ]
    },
    {
      "cell_type": "markdown",
      "source": [
        "### Content Moderation"
      ],
      "metadata": {
        "id": "o05Ha2TH1lYN"
      }
    },
    {
      "cell_type": "markdown",
      "source": [
        "To run the code below, simply paste your [API key](https://www.assemblyai.com/app) into the string for the `YOUR_API_KEY` variable below, and then press the \"Play\" button in the top-left hand corner of the cell.\n",
        "\n",
        "If you do not yet have an API token, you can get one for free [here](https://www.assemblyai.com/dashboard/signup)."
      ],
      "metadata": {
        "id": "igqvqd5A9sk3"
      }
    },
    {
      "cell_type": "code",
      "source": [
        "import assemblyai as aai\n",
        "\n",
        "aai.settings.api_key = \"YOUR_API_KEY\"\n",
        "\n",
        "audio_url = \"https://github.com/AssemblyAI-Examples/audio-examples/raw/main/20230607_me_canadian_wildfires.mp3\"\n",
        "\n",
        "config = aai.TranscriptionConfig(content_safety=True)\n",
        "\n",
        "transcript = aai.Transcriber().transcribe(audio_url, config)\n",
        "\n",
        "# Get the parts of the transcript which were flagged as sensitive\n",
        "for result in transcript.content_safety.results:\n",
        "    print(result.text)\n",
        "    print(f\"Timestamp: {result.timestamp.start} - {result.timestamp.end}\")\n",
        "\n",
        "    # Get category, confidence, and severity\n",
        "    for label in result.labels:\n",
        "      print(f\"{label.label} - {label.confidence} - {label.severity}\")  # content safety category\n",
        "\n",
        "# Get the confidence of the most common labels in relation to the entire audio file\n",
        "for label, confidence in transcript.content_safety.summary.items():\n",
        "    print(f\"{confidence * 100}% confident that the audio contains {label}\")\n",
        "\n",
        "# Get the overall severity of the most common labels in relation to the entire audio file\n",
        "for label, severity_confidence in transcript.content_safety.severity_score_summary.items():\n",
        "    print(f\"{severity_confidence.low * 100}% confident that the audio contains low-severity {label}\")\n",
        "    print(f\"{severity_confidence.medium * 100}% confident that the audio contains mid-severity {label}\")\n",
        "    print(f\"{severity_confidence.high * 100}% confident that the audio contains high-severity {label}\")"
      ],
      "metadata": {
        "colab": {
          "base_uri": "https://localhost:8080/"
        },
        "id": "mU04clAN10BY",
        "outputId": "16049234-0bdc-4650-a2e8-95425f03288f"
      },
      "execution_count": null,
      "outputs": [
        {
          "output_type": "stream",
          "name": "stdout",
          "text": [
            "Smoke from hundreds of wildfires in Canada is triggering air quality alerts throughout the US. Skylines from Maine to Maryland to Minnesota are gray and smoggy. And in some places, the air quality warnings include the warning to stay inside. We wanted to better understand what's happening here and why, so we called Peter DiCarlo, an associate professor in the Department of Environmental Health and Engineering at Johns Hopkins University. Good morning, professor. Good morning.\n",
            "Timestamp: 250 - 28920\n",
            "disasters, 0.8141809105873108, 0.40141189098358154\n",
            "So what is it about the conditions right now that have caused this round of wildfires to affect so many people so far away? Well, there's a couple of things. The season has been pretty dry already, and then the fact that we're getting hit in the US. Is because there's a couple of weather systems that are essentially channeling the smoke from those Canadian wildfires through Pennsylvania into the Mid Atlantic and the Northeast and kind of just dropping the smoke there.\n",
            "Timestamp: 29290 - 56190\n",
            "disasters, 0.921743631362915, 0.5665639042854309\n",
            "So what is it in this haze that makes it harmful? And I'm assuming it is is it is the levels outside right now in Baltimore are considered unhealthy. And most of that is due to what's called particulate matter, which are tiny particles, microscopic smaller than the width of your hair, that can get into your lungs and impact your respiratory system, your cardiovascular system, and even your neurological your brain. What makes this particularly harmful? Is it the volume of particulate?\n",
            "Timestamp: 56340 - 88034\n",
            "health_issues, 0.9358786344528198, 0.8906122446060181\n",
            "Is it something in particular? What is it exactly? Can you just drill down on that a little bit more? Yeah. So the concentration of particulate matter I was looking at some of the monitors that we have was reaching levels of what are, in science speak, 150 micrograms per meter cubed, which is more than ten times what the annual average should be, and about four times higher than what you're supposed to have on a 24 hours average.\n",
            "Timestamp: 88082 - 113226\n",
            "health_issues, 0.5122131109237671, 0.02761303260922432\n",
            "And so the concentrations of these particles in the air are just much, much higher than we typically see. And exposure to those high levels can lead to a host of health problems. And who is most vulnerable? I noticed that in New York City, for example, they're canceling outdoor activities, and so here it is in the early days of summer, and they have to keep all the kids inside. So who tends to be vulnerable in a situation like this? It's the youngest.\n",
            "Timestamp: 113338 - 138722\n",
            "health_issues, 0.8325015902519226, 0.5072382092475891\n",
            "So children, obviously, whose bodies are still developing. The elderly who know their bodies are more in decline, and they're more susceptible to the health impacts of breathing, the poor air quality. And then people who have preexisting health conditions, people with respiratory conditions or heart conditions can be triggered by high levels of air pollution. Could this get worse? That's a good in some areas, it's much worse than others. And it just depends on kind of where the smoke is concentrated.\n",
            "Timestamp: 138786 - 170370\n",
            "health_issues, 0.9729903340339661, 0.7669908404350281\n",
            "I think New York has some of the higher concentrations right now, but that's going to change as that air moves away from the New York area. But over the course of the next few days, we will see different areas being hit at different times with the highest concentrations. I was going to ask you, more fires start burning, I don't expect the concentrations to go up too much higher.\n",
            "Timestamp: 170950 - 189078\n",
            "disasters, 0.6686261892318726, 0.2601984441280365\n",
            "I was going to ask you and you started to answer this, but how much longer could this last? Or forgive me if I'm asking you to speculate, but what do you think? Well, I think the fires are going to burn for a little bit longer, but the key for us in the US. Is the weather system changing. And so right now, it's kind of the weather systems that are pulling that air into our mid Atlantic and Northeast region.\n",
            "Timestamp: 189164 - 211130\n",
            "disasters, 0.6256908774375916, 0.02593737654387951\n",
            "As those weather systems change and shift, we'll see that smoke going elsewhere and not impact us in this region as much. And so I think that's going to be the defining factor. And I think the next couple of days we're going to see a shift in that weather pattern and start to push the smoke away from where we are. And finally, with the impacts of climate change, we are seeing more wildfires.\n",
            "Timestamp: 211210 - 232354\n",
            "disasters, 0.865789532661438, 0.005704205948859453\n",
            "Will we be seeing more of these kinds of wide ranging air quality consequences or circumstances? I mean, that is one of the predictions for climate change. Looking into the future, the fire season is starting earlier and lasting longer and we're seeing more frequent fires. So, yeah, this is probably something that we'll be seeing more frequently. This tends to be much more of an issue in the Western US. So the Eastern US getting hit right now is a little bit new.\n",
            "Timestamp: 232482 - 261760\n",
            "disasters, 0.8242075443267822, 0.0064790090546011925\n",
            "99.42491665492405% confident that the audio contains disasters\n",
            "92.70846891700272% confident that the audio contains health_issues\n",
            "57.43250494727805% confident that the audio contains low-severity disasters\n",
            "42.567495052721945% confident that the audio contains mid-severity disasters\n",
            "0.0% confident that the audio contains high-severity disasters\n",
            "23.57831030457039% confident that the audio contains low-severity health_issues\n",
            "30.22441394166342% confident that the audio contains mid-severity health_issues\n",
            "46.197275753766185% confident that the audio contains high-severity health_issues\n"
          ]
        }
      ]
    },
    {
      "cell_type": "code",
      "source": [
        "# Get the parts of the transcript which were flagged as sensitive\n",
        "for result in transcript.content_safety.results:\n",
        "    print(result.text)\n",
        "    print(f\"Timestamp: {result.timestamp.start} - {result.timestamp.end}\")\n",
        "\n",
        "    # Get category, confidence, and severity\n",
        "    for label in result.labels:\n",
        "      print(f\"{label.label} - {label.confidence} - {label.severity}\")  # content safety category\n",
        "    print()\n",
        "\n",
        "# Get the confidence of the most common labels in relation to the entire audio file\n",
        "for label, confidence in transcript.content_safety.summary.items():\n",
        "    print(f\"{confidence * 100}% confident that the audio contains {label}\")\n",
        "\n",
        "print()\n",
        "\n",
        "# Get the overall severity of the most common labels in relation to the entire audio file\n",
        "for label, severity_confidence in transcript.content_safety.severity_score_summary.items():\n",
        "    print(f\"{severity_confidence.low * 100}% confident that the audio contains low-severity {label}\")\n",
        "    print(f\"{severity_confidence.medium * 100}% confident that the audio contains mid-severity {label}\")\n",
        "    print(f\"{severity_confidence.high * 100}% confident that the audio contains high-severity {label}\")"
      ],
      "metadata": {
        "colab": {
          "base_uri": "https://localhost:8080/"
        },
        "id": "u02VOD3zZSsK",
        "outputId": "6fbd3911-c3b8-4e92-9d97-a7c5ba240652"
      },
      "execution_count": null,
      "outputs": [
        {
          "output_type": "stream",
          "name": "stdout",
          "text": [
            "Smoke from hundreds of wildfires in Canada is triggering air quality alerts throughout the US. Skylines from Maine to Maryland to Minnesota are gray and smoggy. And in some places, the air quality warnings include the warning to stay inside. We wanted to better understand what's happening here and why, so we called Peter DiCarlo, an associate professor in the Department of Environmental Health and Engineering at Johns Hopkins University. Good morning, professor. Good morning.\n",
            "Timestamp: 250 - 28920\n",
            "disasters - 0.8141809105873108 - 0.40141189098358154\n",
            "\n",
            "So what is it about the conditions right now that have caused this round of wildfires to affect so many people so far away? Well, there's a couple of things. The season has been pretty dry already, and then the fact that we're getting hit in the US. Is because there's a couple of weather systems that are essentially channeling the smoke from those Canadian wildfires through Pennsylvania into the Mid Atlantic and the Northeast and kind of just dropping the smoke there.\n",
            "Timestamp: 29290 - 56190\n",
            "disasters - 0.921743631362915 - 0.5665639042854309\n",
            "\n",
            "So what is it in this haze that makes it harmful? And I'm assuming it is is it is the levels outside right now in Baltimore are considered unhealthy. And most of that is due to what's called particulate matter, which are tiny particles, microscopic smaller than the width of your hair, that can get into your lungs and impact your respiratory system, your cardiovascular system, and even your neurological your brain. What makes this particularly harmful? Is it the volume of particulate?\n",
            "Timestamp: 56340 - 88034\n",
            "health_issues - 0.9358786344528198 - 0.8906122446060181\n",
            "\n",
            "Is it something in particular? What is it exactly? Can you just drill down on that a little bit more? Yeah. So the concentration of particulate matter I was looking at some of the monitors that we have was reaching levels of what are, in science speak, 150 micrograms per meter cubed, which is more than ten times what the annual average should be, and about four times higher than what you're supposed to have on a 24 hours average.\n",
            "Timestamp: 88082 - 113226\n",
            "health_issues - 0.5122131109237671 - 0.02761303260922432\n",
            "\n",
            "And so the concentrations of these particles in the air are just much, much higher than we typically see. And exposure to those high levels can lead to a host of health problems. And who is most vulnerable? I noticed that in New York City, for example, they're canceling outdoor activities, and so here it is in the early days of summer, and they have to keep all the kids inside. So who tends to be vulnerable in a situation like this? It's the youngest.\n",
            "Timestamp: 113338 - 138722\n",
            "health_issues - 0.8325015902519226 - 0.5072382092475891\n",
            "\n",
            "So children, obviously, whose bodies are still developing. The elderly who know their bodies are more in decline, and they're more susceptible to the health impacts of breathing, the poor air quality. And then people who have preexisting health conditions, people with respiratory conditions or heart conditions can be triggered by high levels of air pollution. Could this get worse? That's a good in some areas, it's much worse than others. And it just depends on kind of where the smoke is concentrated.\n",
            "Timestamp: 138786 - 170370\n",
            "health_issues - 0.9729903340339661 - 0.7669908404350281\n",
            "\n",
            "I think New York has some of the higher concentrations right now, but that's going to change as that air moves away from the New York area. But over the course of the next few days, we will see different areas being hit at different times with the highest concentrations. I was going to ask you, more fires start burning, I don't expect the concentrations to go up too much higher.\n",
            "Timestamp: 170950 - 189078\n",
            "disasters - 0.6686261892318726 - 0.2601984441280365\n",
            "\n",
            "I was going to ask you and you started to answer this, but how much longer could this last? Or forgive me if I'm asking you to speculate, but what do you think? Well, I think the fires are going to burn for a little bit longer, but the key for us in the US. Is the weather system changing. And so right now, it's kind of the weather systems that are pulling that air into our mid Atlantic and Northeast region.\n",
            "Timestamp: 189164 - 211130\n",
            "disasters - 0.6256908774375916 - 0.02593737654387951\n",
            "\n",
            "As those weather systems change and shift, we'll see that smoke going elsewhere and not impact us in this region as much. And so I think that's going to be the defining factor. And I think the next couple of days we're going to see a shift in that weather pattern and start to push the smoke away from where we are. And finally, with the impacts of climate change, we are seeing more wildfires.\n",
            "Timestamp: 211210 - 232354\n",
            "disasters - 0.865789532661438 - 0.005704205948859453\n",
            "\n",
            "Will we be seeing more of these kinds of wide ranging air quality consequences or circumstances? I mean, that is one of the predictions for climate change. Looking into the future, the fire season is starting earlier and lasting longer and we're seeing more frequent fires. So, yeah, this is probably something that we'll be seeing more frequently. This tends to be much more of an issue in the Western US. So the Eastern US getting hit right now is a little bit new.\n",
            "Timestamp: 232482 - 261760\n",
            "disasters - 0.8242075443267822 - 0.0064790090546011925\n",
            "\n",
            "99.42491665492405% confident that the audio contains disasters\n",
            "92.70846891700272% confident that the audio contains health_issues\n",
            "\n",
            "57.43250494727805% confident that the audio contains low-severity disasters\n",
            "42.567495052721945% confident that the audio contains mid-severity disasters\n",
            "0.0% confident that the audio contains high-severity disasters\n",
            "23.57831030457039% confident that the audio contains low-severity health_issues\n",
            "30.22441394166342% confident that the audio contains mid-severity health_issues\n",
            "46.197275753766185% confident that the audio contains high-severity health_issues\n"
          ]
        }
      ]
    },
    {
      "cell_type": "markdown",
      "source": [
        "### Sentiment Analysis"
      ],
      "metadata": {
        "id": "1dVfEUY61lc-"
      }
    },
    {
      "cell_type": "markdown",
      "source": [
        "To run the code below, simply paste your [API key](https://www.assemblyai.com/app) into the string for the `YOUR_API_KEY` variable below, and then press the \"Play\" button in the top-left hand corner of the cell.\n",
        "\n",
        "If you do not yet have an API token, you can get one for free [here](https://www.assemblyai.com/dashboard/signup)."
      ],
      "metadata": {
        "id": "tkKFZP3y9tF8"
      }
    },
    {
      "cell_type": "code",
      "source": [
        "import assemblyai as aai\n",
        "\n",
        "aai.settings.api_key = \"YOUR_API_KEY\"\n",
        "\n",
        "audio_url = \"https://github.com/AssemblyAI-Examples/audio-examples/raw/main/20230607_me_canadian_wildfires.mp3\"\n",
        "\n",
        "config = aai.TranscriptionConfig(sentiment_analysis=True)\n",
        "\n",
        "transcript = aai.Transcriber().transcribe(audio_url, config)\n",
        "\n",
        "for sentiment_result in transcript.sentiment_analysis:\n",
        "    print(sentiment_result.text)\n",
        "    print(sentiment_result.sentiment)  # POSITIVE, NEUTRAL, or NEGATIVE\n",
        "    print(sentiment_result.confidence)\n",
        "    print(f\"Timestamp: {sentiment_result.start} - {sentiment_result.end}\")"
      ],
      "metadata": {
        "colab": {
          "base_uri": "https://localhost:8080/"
        },
        "id": "Tf1ckrA110ea",
        "outputId": "c1a29561-9429-4002-a809-8c5774fc876c"
      },
      "execution_count": null,
      "outputs": [
        {
          "output_type": "stream",
          "name": "stdout",
          "text": [
            "Smoke from hundreds of wildfires in Canada is triggering air quality alerts throughout the US.\n",
            "SentimentType.negative\n",
            "0.8181032538414001\n",
            "Timestamp: 250 - 6350\n",
            "Skylines from Maine to Maryland to Minnesota are gray and smoggy.\n",
            "SentimentType.negative\n",
            "0.5900681018829346\n",
            "Timestamp: 6500 - 11050\n",
            "And in some places, the air quality warnings include the warning to stay inside.\n",
            "SentimentType.neutral\n",
            "0.5371454358100891\n",
            "Timestamp: 11130 - 15614\n",
            "We wanted to better understand what's happening here and why, so we called Peter DiCarlo, an associate professor in the Department of Environmental Health and Engineering at Johns Hopkins University.\n",
            "SentimentType.neutral\n",
            "0.7851245403289795\n",
            "Timestamp: 15812 - 25426\n",
            "Good morning, professor.\n",
            "SentimentType.positive\n",
            "0.8253470659255981\n",
            "Timestamp: 25578 - 26950\n",
            "Good morning.\n",
            "SentimentType.positive\n",
            "0.7193589210510254\n",
            "Timestamp: 27850 - 28920\n",
            "So what is it about the conditions right now that have caused this round of wildfires to affect so many people so far away?\n",
            "SentimentType.negative\n",
            "0.7462095022201538\n",
            "Timestamp: 29290 - 37480\n",
            "Well, there's a couple of things.\n",
            "SentimentType.neutral\n",
            "0.7348890900611877\n",
            "Timestamp: 39050 - 40520\n",
            "The season has been pretty dry already, and then the fact that we're getting hit in the US.\n",
            "SentimentType.negative\n",
            "0.9199443459510803\n",
            "Timestamp: 40890 - 45946\n",
            "Is because there's a couple of weather systems that are essentially channeling the smoke from those Canadian wildfires through Pennsylvania into the Mid Atlantic and the Northeast and kind of just dropping the smoke there.\n",
            "SentimentType.neutral\n",
            "0.6657092571258545\n",
            "Timestamp: 46128 - 56190\n",
            "So what is it in this haze that makes it harmful?\n",
            "SentimentType.negative\n",
            "0.8751139044761658\n",
            "Timestamp: 56340 - 59274\n",
            "And I'm assuming it is is it is the levels outside right now in Baltimore are considered unhealthy.\n",
            "SentimentType.negative\n",
            "0.7873912453651428\n",
            "Timestamp: 59322 - 67010\n",
            "And most of that is due to what's called particulate matter, which are tiny particles, microscopic smaller than the width of your hair, that can get into your lungs and impact your respiratory system, your cardiovascular system, and even your neurological your brain.\n",
            "SentimentType.negative\n",
            "0.7931491732597351\n",
            "Timestamp: 67750 - 82950\n",
            "What makes this particularly harmful?\n",
            "SentimentType.negative\n",
            "0.9329690933227539\n",
            "Timestamp: 83450 - 85554\n",
            "Is it the volume of particulate?\n",
            "SentimentType.neutral\n",
            "0.8246212601661682\n",
            "Timestamp: 85602 - 88034\n",
            "Is it something in particular?\n",
            "SentimentType.neutral\n",
            "0.8175229430198669\n",
            "Timestamp: 88082 - 89302\n",
            "What is it exactly?\n",
            "SentimentType.neutral\n",
            "0.815334141254425\n",
            "Timestamp: 89436 - 90278\n",
            "Can you just drill down on that a little bit more?\n",
            "SentimentType.neutral\n",
            "0.8712159991264343\n",
            "Timestamp: 90364 - 92540\n",
            "Yeah.\n",
            "SentimentType.neutral\n",
            "0.5491449236869812\n",
            "Timestamp: 93390 - 93802\n",
            "So the concentration of particulate matter I was looking at some of the monitors that we have was reaching levels of what are, in science speak, 150 micrograms per meter cubed, which is more than ten times what the annual average should be, and about four times higher than what you're supposed to have on a 24 hours average.\n",
            "SentimentType.neutral\n",
            "0.6352874040603638\n",
            "Timestamp: 93856 - 113226\n",
            "And so the concentrations of these particles in the air are just much, much higher than we typically see.\n",
            "SentimentType.neutral\n",
            "0.5178466439247131\n",
            "Timestamp: 113338 - 119698\n",
            "And exposure to those high levels can lead to a host of health problems.\n",
            "SentimentType.negative\n",
            "0.9395254254341125\n",
            "Timestamp: 119784 - 123314\n",
            "And who is most vulnerable?\n",
            "SentimentType.neutral\n",
            "0.5373413562774658\n",
            "Timestamp: 123432 - 124942\n",
            "I noticed that in New York City, for example, they're canceling outdoor activities, and so here it is in the early days of summer, and they have to keep all the kids inside.\n",
            "SentimentType.negative\n",
            "0.7777915596961975\n",
            "Timestamp: 125006 - 132838\n",
            "So who tends to be vulnerable in a situation like this?\n",
            "SentimentType.neutral\n",
            "0.5655254125595093\n",
            "Timestamp: 132924 - 136440\n",
            "It's the youngest.\n",
            "SentimentType.neutral\n",
            "0.7843365669250488\n",
            "Timestamp: 137450 - 138722\n",
            "So children, obviously, whose bodies are still developing.\n",
            "SentimentType.neutral\n",
            "0.7652592658996582\n",
            "Timestamp: 138786 - 142514\n",
            "The elderly who know their bodies are more in decline, and they're more susceptible to the health impacts of breathing, the poor air quality.\n",
            "SentimentType.negative\n",
            "0.9313070774078369\n",
            "Timestamp: 142562 - 149580\n",
            "And then people who have preexisting health conditions, people with respiratory conditions or heart conditions can be triggered by high levels of air pollution.\n",
            "SentimentType.negative\n",
            "0.8857417106628418\n",
            "Timestamp: 150510 - 156910\n",
            "Could this get worse?\n",
            "SentimentType.negative\n",
            "0.9435272216796875\n",
            "Timestamp: 157410 - 158990\n",
            "That's a good in some areas, it's much worse than others.\n",
            "SentimentType.negative\n",
            "0.4520057439804077\n",
            "Timestamp: 162130 - 166942\n",
            "And it just depends on kind of where the smoke is concentrated.\n",
            "SentimentType.neutral\n",
            "0.7206503748893738\n",
            "Timestamp: 166996 - 170370\n",
            "I think New York has some of the higher concentrations right now, but that's going to change as that air moves away from the New York area.\n",
            "SentimentType.neutral\n",
            "0.7581232786178589\n",
            "Timestamp: 170950 - 176930\n",
            "But over the course of the next few days, we will see different areas being hit at different times with the highest concentrations.\n",
            "SentimentType.neutral\n",
            "0.7974405884742737\n",
            "Timestamp: 177080 - 183634\n",
            "I was going to ask you, more fires start burning, I don't expect the concentrations to go up too much higher.\n",
            "SentimentType.negative\n",
            "0.5261341333389282\n",
            "Timestamp: 183762 - 189078\n",
            "I was going to ask you and you started to answer this, but how much longer could this last?\n",
            "SentimentType.neutral\n",
            "0.6106851100921631\n",
            "Timestamp: 189164 - 193254\n",
            "Or forgive me if I'm asking you to speculate, but what do you think?\n",
            "SentimentType.neutral\n",
            "0.7195859551429749\n",
            "Timestamp: 193292 - 196540\n",
            "Well, I think the fires are going to burn for a little bit longer, but the key for us in the US.\n",
            "SentimentType.neutral\n",
            "0.5855423212051392\n",
            "Timestamp: 198030 - 202250\n",
            "Is the weather system changing.\n",
            "SentimentType.neutral\n",
            "0.8448712229728699\n",
            "Timestamp: 202320 - 203754\n",
            "And so right now, it's kind of the weather systems that are pulling that air into our mid Atlantic and Northeast region.\n",
            "SentimentType.neutral\n",
            "0.8283599019050598\n",
            "Timestamp: 203802 - 211130\n",
            "As those weather systems change and shift, we'll see that smoke going elsewhere and not impact us in this region as much.\n",
            "SentimentType.neutral\n",
            "0.6655179858207703\n",
            "Timestamp: 211210 - 219122\n",
            "And so I think that's going to be the defining factor.\n",
            "SentimentType.neutral\n",
            "0.6444756388664246\n",
            "Timestamp: 219176 - 221006\n",
            "And I think the next couple of days we're going to see a shift in that weather pattern and start to push the smoke away from where we are.\n",
            "SentimentType.neutral\n",
            "0.8290640115737915\n",
            "Timestamp: 221038 - 227638\n",
            "And finally, with the impacts of climate change, we are seeing more wildfires.\n",
            "SentimentType.negative\n",
            "0.696441113948822\n",
            "Timestamp: 227724 - 232354\n",
            "Will we be seeing more of these kinds of wide ranging air quality consequences or circumstances?\n",
            "SentimentType.neutral\n",
            "0.5142847299575806\n",
            "Timestamp: 232482 - 240330\n",
            "I mean, that is one of the predictions for climate change.\n",
            "SentimentType.neutral\n",
            "0.6701288223266602\n",
            "Timestamp: 241310 - 245162\n",
            "Looking into the future, the fire season is starting earlier and lasting longer and we're seeing more frequent fires.\n",
            "SentimentType.neutral\n",
            "0.4775503873825073\n",
            "Timestamp: 245216 - 251254\n",
            "So, yeah, this is probably something that we'll be seeing more frequently.\n",
            "SentimentType.neutral\n",
            "0.6273226141929626\n",
            "Timestamp: 251302 - 255578\n",
            "This tends to be much more of an issue in the Western US.\n",
            "SentimentType.neutral\n",
            "0.582816481590271\n",
            "Timestamp: 255674 - 258046\n",
            "So the Eastern US getting hit right now is a little bit new.\n",
            "SentimentType.neutral\n",
            "0.6326876878738403\n",
            "Timestamp: 258148 - 261760\n",
            "But yeah, I think with climate change moving forward, this is something that is going to happen more frequently.\n",
            "SentimentType.neutral\n",
            "0.662535548210144\n",
            "Timestamp: 262130 - 267770\n",
            "That's Peter DiCarlo, associate professor in the Department of Environmental Health and Engineering at Johns Hopkins University.\n",
            "SentimentType.neutral\n",
            "0.9136208295822144\n",
            "Timestamp: 267930 - 274882\n",
            "Sergeant Carlo, thanks so much for joining us and sharing this expertise with us.\n",
            "SentimentType.positive\n",
            "0.9753028154373169\n",
            "Timestamp: 274986 - 278600\n",
            "Thank you for having me.\n",
            "SentimentType.positive\n",
            "0.9709058403968811\n",
            "Timestamp: 279370 - 280340\n"
          ]
        }
      ]
    },
    {
      "cell_type": "markdown",
      "source": [
        "### Entity Detection"
      ],
      "metadata": {
        "id": "9xIk-c941lh9"
      }
    },
    {
      "cell_type": "markdown",
      "source": [
        "To run the code below, simply paste your [API key](https://www.assemblyai.com/app) into the string for the `YOUR_API_KEY` variable below, and then press the \"Play\" button in the top-left hand corner of the cell.\n",
        "\n",
        "If you do not yet have an API token, you can get one for free [here](https://www.assemblyai.com/dashboard/signup)."
      ],
      "metadata": {
        "id": "qWdIx1kt9tgS"
      }
    },
    {
      "cell_type": "code",
      "source": [
        "import assemblyai as aai\n",
        "\n",
        "aai.settings.api_key = \"YOUR_API_KEY\"\n",
        "\n",
        "audio_url = \"https://github.com/AssemblyAI-Examples/audio-examples/raw/main/20230607_me_canadian_wildfires.mp3\"\n",
        "\n",
        "config = aai.TranscriptionConfig(entity_detection=True)\n",
        "\n",
        "transcript = aai.Transcriber().transcribe(audio_url, config)\n",
        "\n",
        "for entity in transcript.entities:\n",
        "    print(entity.text)\n",
        "    print(entity.entity_type)\n",
        "    print(f\"Timestamp: {entity.start} - {entity.end}\\n\")"
      ],
      "metadata": {
        "colab": {
          "base_uri": "https://localhost:8080/"
        },
        "id": "VaizO-DW1018",
        "outputId": "c1ca3918-675c-4fc0-b08f-d513d9a5666a"
      },
      "execution_count": null,
      "outputs": [
        {
          "output_type": "stream",
          "name": "stdout",
          "text": [
            "Canada\n",
            "EntityType.location\n",
            "Timestamp: 2548 - 3130\n",
            "\n",
            "the US\n",
            "EntityType.location\n",
            "Timestamp: 5498 - 6350\n",
            "\n",
            "Maine\n",
            "EntityType.location\n",
            "Timestamp: 7572 - 7962\n",
            "\n",
            "Maryland\n",
            "EntityType.location\n",
            "Timestamp: 8228 - 8650\n",
            "\n",
            "Minnesota\n",
            "EntityType.location\n",
            "Timestamp: 8948 - 9610\n",
            "\n",
            "Peter DiCarlo\n",
            "EntityType.person_name\n",
            "Timestamp: 18948 - 20010\n",
            "\n",
            "associate professor\n",
            "EntityType.occupation\n",
            "Timestamp: 20308 - 21226\n",
            "\n",
            "Department of Environmental Health and Engineering\n",
            "EntityType.organization\n",
            "Timestamp: 21508 - 23706\n",
            "\n",
            "Johns Hopkins University\n",
            "EntityType.organization\n",
            "Timestamp: 23972 - 25426\n",
            "\n",
            "professor\n",
            "EntityType.occupation\n",
            "Timestamp: 26076 - 26950\n",
            "\n",
            "the US\n",
            "EntityType.location\n",
            "Timestamp: 45184 - 45946\n",
            "\n",
            "Canadian\n",
            "EntityType.nationality\n",
            "Timestamp: 49728 - 50086\n",
            "\n",
            "Pennsylvania\n",
            "EntityType.location\n",
            "Timestamp: 51696 - 52326\n",
            "\n",
            "Mid Atlantic\n",
            "EntityType.location\n",
            "Timestamp: 52624 - 53178\n",
            "\n",
            "Northeast\n",
            "EntityType.location\n",
            "Timestamp: 53364 - 53914\n",
            "\n",
            "Baltimore\n",
            "EntityType.location\n",
            "Timestamp: 65064 - 65534\n",
            "\n",
            "science\n",
            "EntityType.occupation\n",
            "Timestamp: 101168 - 101414\n",
            "\n",
            "New York City\n",
            "EntityType.location\n",
            "Timestamp: 125768 - 126274\n",
            "\n",
            "respiratory conditions\n",
            "EntityType.medical_condition\n",
            "Timestamp: 153028 - 153786\n",
            "\n",
            "heart conditions\n",
            "EntityType.medical_condition\n",
            "Timestamp: 153988 - 154506\n",
            "\n",
            "New York\n",
            "EntityType.location\n",
            "Timestamp: 171448 - 171970\n",
            "\n",
            "New York\n",
            "EntityType.location\n",
            "Timestamp: 175944 - 176322\n",
            "\n",
            "the US\n",
            "EntityType.location\n",
            "Timestamp: 201824 - 202250\n",
            "\n",
            "mid Atlantic\n",
            "EntityType.location\n",
            "Timestamp: 209090 - 209866\n",
            "\n",
            "Northeast region\n",
            "EntityType.location\n",
            "Timestamp: 210196 - 211130\n",
            "\n",
            "Western US\n",
            "EntityType.location\n",
            "Timestamp: 257364 - 258046\n",
            "\n",
            "Eastern US\n",
            "EntityType.location\n",
            "Timestamp: 258484 - 259054\n",
            "\n",
            "Peter DiCarlo\n",
            "EntityType.person_name\n",
            "Timestamp: 268298 - 269194\n",
            "\n",
            "associate professor\n",
            "EntityType.occupation\n",
            "Timestamp: 269242 - 270186\n",
            "\n",
            "Department of Environmental Health and Engineering\n",
            "EntityType.organization\n",
            "Timestamp: 270468 - 272810\n",
            "\n",
            "Johns Hopkins University\n",
            "EntityType.organization\n",
            "Timestamp: 273172 - 274882\n",
            "\n",
            "Sergeant\n",
            "EntityType.occupation\n",
            "Timestamp: 274986 - 275298\n",
            "\n",
            "Carlo\n",
            "EntityType.person_name\n",
            "Timestamp: 275314 - 275634\n",
            "\n"
          ]
        }
      ]
    },
    {
      "cell_type": "markdown",
      "source": [
        "### PII Redaction"
      ],
      "metadata": {
        "id": "_DJesl-g1lpO"
      }
    },
    {
      "cell_type": "markdown",
      "source": [
        "To run the code below, simply paste your [API key](https://www.assemblyai.com/app) into the string for the `YOUR_API_KEY` variable below, and then press the \"Play\" button in the top-left hand corner of the cell.\n",
        "\n",
        "If you do not yet have an API token, you can get one for free [here](https://www.assemblyai.com/dashboard/signup)."
      ],
      "metadata": {
        "id": "ZcWs6MwB9t56"
      }
    },
    {
      "cell_type": "code",
      "source": [
        "import assemblyai as aai\n",
        "\n",
        "aai.settings.api_key = \"YOUR_API_KEY\"\n",
        "\n",
        "audio_url = \"https://github.com/AssemblyAI-Examples/audio-examples/raw/main/20230607_me_canadian_wildfires.mp3\"\n",
        "\n",
        "config = aai.TranscriptionConfig().set_redact_pii(\n",
        "    policies=[\n",
        "        aai.PIIRedactionPolicy.person_name,\n",
        "        aai.PIIRedactionPolicy.organization,\n",
        "        aai.PIIRedactionPolicy.occupation,\n",
        "    ],\n",
        "    substitution=aai.PIISubstitutionPolicy.hash,\n",
        ")\n",
        "\n",
        "transcript = aai.Transcriber().transcribe(audio_url, config)\n",
        "\n",
        "print(transcript.text)"
      ],
      "metadata": {
        "colab": {
          "base_uri": "https://localhost:8080/"
        },
        "id": "rzhDu2u811O-",
        "outputId": "d244f29f-aead-4fb0-f72c-9ca8319a914d"
      },
      "execution_count": null,
      "outputs": [
        {
          "output_type": "stream",
          "name": "stdout",
          "text": [
            "Smoke from hundreds of wildfires in Canada is triggering air quality alerts throughout the US. Skylines from Maine to Maryland to Minnesota are gray and smoggy. And in some places, the air quality warnings include the warning to stay inside. We wanted to better understand what's happening here and why, so we called ##### #######, an ######### ######### in the ########## ## ############# ###### ### ########### at ##### ####### ##########. Good morning. ######### Good morning. So what is it about the conditions right now that have caused this round of wildfires to affect so many people so far away? Well, there's a couple of things. The season has been pretty dry already, and then the fact that we're getting hit in the US is because there's a couple of weather systems that are essentially channeling the smoke from those Canadian wildfires through Pennsylvania into the mid Atlantic and the northeast and kind of just dropping the smoke there. So what is it in this haze that makes it harmful? And I'm assuming it is, is it is. The levels outside right now in Baltimore are considered unhealthy. And most of that is due to what's called particulate matter, which are tiny particles, microscopic, smaller than the width of your hair, that can get into your lungs and impact your respiratory system, your cardiovascular system, and even your neurological, your brain. What makes this particularly harmful? Is it the volume of particulate? Is it something in particular? What is it exactly? Can you just drill down on that a little bit more? Yeah. So the concentration of particulate matter I was looking at, some of the monitors that we have was reaching levels of what are, in ####### speak, 150 micrograms per meter cubed, which is more than ten times what the annual average should be and about four times higher than what you're supposed to have on a 24 hours average. And so the concentrations of these particles in the air are just much, much higher than we typically see. And exposure to those high levels can lead to a host of health problems. And who is most vulnerable? I noticed that in New York City, for example, they're canceling outdoor activities. And so here it is in the early days of summer, and they have to keep all the kids inside. So who tends to be vulnerable in a situation like this? It's the youngest. So children, obviously, whose bodies are still developing, the elderly who know their bodies are more in decline and they're more susceptible to the health impacts of breathing, the poor air quality. And then people who have preexisting health conditions, people with respiratory conditions or heart conditions, can be triggered by high levels of air pollution. Could this get worse? That's a good, in some areas it's much worse than others, and it just depends on kind of where the smoke is concentrated. I think New York has some of the higher concentrations right now, but that's going to change as that air moves away from the New York area. But over the course of the next few days, we will see different areas being hit at different times with the highest concentrations. I was going to ask you more fires start burning. I don't expect the concentrations to go up too much higher. I was going to ask you, and you started to answer this, but how much longer could this last? Or, forgive me if I'm asking you to speculate, but what do you think? Well, I think the fires are going to burn for a little bit longer, but the key for us in the US is the weather system changing. And so right now it's kind of the weather systems that are pulling that air into our mid atlantic and northeast region. As those weather systems change and shift, we'll see that smoke going elsewhere and not impact us in this region as much. And so I think that's going to be the defining factor. And I think the next couple of days we're going to see a shift in that weather pattern and start to push the smoke away from where we are. And finally, with the impacts of climate change, we are seeing more wildfires. Will we be seeing more of these kinds of wide ranging air quality consequences or circumstances? I mean, that is one of the predictions for climate change. Looking into the future, the fire season is starting earlier and lasting longer, and we're seeing more frequent fires. So, yeah, this is probably something that we'll be seeing more frequently. This tends to be much more of an issue in the western Us. So the eastern us getting hit right now is a little bit new. But, yeah, I think with climate change moving forward, this is something that is going to happen more frequently. That's ##### #######, ######### ######### in the ########## ## ############# ###### ### ########### at ##### ####### ##########. Thanks so much for joining us and sharing this expertise with us. Thank you for having me.\n"
          ]
        }
      ]
    },
    {
      "cell_type": "markdown",
      "source": [
        "### Topic Detection"
      ],
      "metadata": {
        "id": "0-DH_4bO1luR"
      }
    },
    {
      "cell_type": "markdown",
      "source": [
        "To run the code below, simply paste your [API key](https://www.assemblyai.com/app) into the string for the `YOUR_API_KEY` variable below, and then press the \"Play\" button in the top-left hand corner of the cell.\n",
        "\n",
        "If you do not yet have an API token, you can get one for free [here](https://www.assemblyai.com/dashboard/signup)."
      ],
      "metadata": {
        "id": "l8DCY_lq9uSa"
      }
    },
    {
      "cell_type": "code",
      "source": [
        "import assemblyai as aai\n",
        "\n",
        "aai.settings.api_key = \"YOUR_API_KEY\"\n",
        "\n",
        "audio_url = \"https://github.com/AssemblyAI-Examples/audio-examples/raw/main/20230607_me_canadian_wildfires.mp3\"\n",
        "\n",
        "config = aai.TranscriptionConfig(iab_categories=True)\n",
        "\n",
        "transcript = aai.Transcriber().transcribe(audio_url, config)\n",
        "\n",
        "# Get the parts of the transcript that were tagged with topics\n",
        "for result in transcript.iab_categories.results:\n",
        "    print(result.text)\n",
        "    print(f\"Timestamp: {result.timestamp.start} - {result.timestamp.end}\")\n",
        "    for label in result.labels:\n",
        "        print(f\"{label.label} ({label.relevance})\")\n",
        "\n",
        "# Get a summary of all topics in the transcript\n",
        "for label, relevance in transcript.iab_categories.summary.items():\n",
        "    print(f\"Audio is {relevance * 100}% relevant to {label}\")"
      ],
      "metadata": {
        "colab": {
          "base_uri": "https://localhost:8080/"
        },
        "id": "B8LdA7DH11nQ",
        "outputId": "b4608c44-65c4-4d02-f9ec-ec08694b9585"
      },
      "execution_count": null,
      "outputs": [
        {
          "output_type": "stream",
          "name": "stdout",
          "text": [
            "Smoke from hundreds of wildfires in Canada is triggering air quality alerts throughout the US. Skylines from Maine to Maryland to Minnesota are gray and smoggy. And in some places, the air quality warnings include the warning to stay inside. We wanted to better understand what's happening here and why, so we called Peter DiCarlo, an associate professor in the Department of Environmental Health and Engineering at Johns Hopkins University. Good morning, professor. Good morning.\n",
            "Timestamp: 250 - 28920\n",
            "Home&Garden>IndoorEnvironmentalQuality (0.9881861209869385)\n",
            "NewsAndPolitics>Weather (0.5561717748641968)\n",
            "MedicalHealth>DiseasesAndConditions>LungAndRespiratoryHealth (0.00426860898733139)\n",
            "NewsAndPolitics>Disasters (0.0034602025989443064)\n",
            "BusinessAndFinance>Business>GreenSolutions (0.0025904506910592318)\n",
            "MedicalHealth>DiseasesAndConditions>Cancer (0.0015328084118664265)\n",
            "Science>Environment (0.001438859268091619)\n",
            "Travel>TravelLocations>PolarTravel (0.0013438508613035083)\n",
            "MedicalHealth>DiseasesAndConditions>ColdAndFlu (0.0010323362657800317)\n",
            "BusinessAndFinance>Industries>PowerAndEnergyIndustry (0.0007664082222618163)\n",
            "So what is it about the conditions right now that have caused this round of wildfires to affect so many people so far away? Well, there's a couple of things. The season has been pretty dry already, and then the fact that we're getting hit in the US. Is because there's a couple of weather systems that are essentially channeling the smoke from those Canadian wildfires through Pennsylvania into the Mid Atlantic and the Northeast and kind of just dropping the smoke there.\n",
            "Timestamp: 29290 - 56190\n",
            "NewsAndPolitics>Weather (0.9627073407173157)\n",
            "NewsAndPolitics>Disasters (0.15039107203483582)\n",
            "Travel>TravelLocations>PolarTravel (0.007564933970570564)\n",
            "Home&Garden>IndoorEnvironmentalQuality (0.0006400478887371719)\n",
            "MedicalHealth>DiseasesAndConditions>ColdAndFlu (0.0006173826986923814)\n",
            "Science>Environment (0.0004635184013750404)\n",
            "Sports>OlympicSports>WinterOlympicSports (0.0003331942716613412)\n",
            "PopCulture>CelebrityScandal (0.0003181484353262931)\n",
            "Sports>CollegeSports>CollegeBaseball (0.0002656443393789232)\n",
            "BusinessAndFinance>Industries>PowerAndEnergyIndustry (0.00023186586622614413)\n",
            "So what is it in this haze that makes it harmful? And I'm assuming it is is it is the levels outside right now in Baltimore are considered unhealthy. And most of that is due to what's called particulate matter, which are tiny particles, microscopic smaller than the width of your hair, that can get into your lungs and impact your respiratory system, your cardiovascular system, and even your neurological your brain. What makes this particularly harmful? Is it the volume of particulate?\n",
            "Timestamp: 56340 - 88034\n",
            "Home&Garden>IndoorEnvironmentalQuality (0.9939616322517395)\n",
            "MedicalHealth>DiseasesAndConditions>LungAndRespiratoryHealth (0.07478490471839905)\n",
            "NewsAndPolitics>Weather (0.002748325001448393)\n",
            "MedicalHealth>DiseasesAndConditions>ColdAndFlu (0.0011358335614204407)\n",
            "MedicalHealth>DiseasesAndConditions>Allergies (0.0010438687168061733)\n",
            "MedicalHealth>DiseasesAndConditions>Injuries (0.0008186661289073527)\n",
            "HealthyLiving (0.0004740820440929383)\n",
            "HealthyLiving>Wellness>SmokingCessation (0.0003752790216822177)\n",
            "Technology&Computing>Computing>ComputerNetworking (0.0003403778828214854)\n",
            "RealEstate>OfficeProperty (0.0002720552438404411)\n",
            "Is it something in particular? What is it exactly? Can you just drill down on that a little bit more? Yeah. So the concentration of particulate matter I was looking at some of the monitors that we have was reaching levels of what are, in science speak, 150 micrograms per meter cubed, which is more than ten times what the annual average should be, and about four times higher than what you're supposed to have on a 24 hours average.\n",
            "Timestamp: 88082 - 113226\n",
            "Home&Garden>IndoorEnvironmentalQuality (0.9866899251937866)\n",
            "MedicalHealth>DiseasesAndConditions>LungAndRespiratoryHealth (0.001041606767103076)\n",
            "MedicalHealth>DiseasesAndConditions>ColdAndFlu (0.0005042928969487548)\n",
            "NewsAndPolitics>Weather (0.00034752103965729475)\n",
            "MedicalHealth>DiseasesAndConditions>HeartAndCardiovascularDiseases (0.0003081634931731969)\n",
            "HealthyLiving (0.0002766923571471125)\n",
            "Home&Garden>Remodeling&Construction (0.0002748183615040034)\n",
            "MedicalHealth>DiseasesAndConditions>Allergies (0.00026518022059462965)\n",
            "BusinessAndFinance>Business>ConsumerIssues>Recalls (0.0002327713737031445)\n",
            "Style&Fashion>PersonalCare>DeodorantAndAntiperspirant (0.00019238665117882192)\n",
            "And so the concentrations of these particles in the air are just much, much higher than we typically see. And exposure to those high levels can lead to a host of health problems. And who is most vulnerable? I noticed that in New York City, for example, they're canceling outdoor activities, and so here it is in the early days of summer, and they have to keep all the kids inside. So who tends to be vulnerable in a situation like this? It's the youngest.\n",
            "Timestamp: 113338 - 138722\n",
            "Home&Garden>IndoorEnvironmentalQuality (0.9982544779777527)\n",
            "NewsAndPolitics>Weather (0.06440524011850357)\n",
            "HealthyLiving (0.024489635601639748)\n",
            "MedicalHealth>DiseasesAndConditions>LungAndRespiratoryHealth (0.005052974447607994)\n",
            "MedicalHealth>DiseasesAndConditions>ColdAndFlu (0.0036792114842683077)\n",
            "Travel>TravelLocations>PolarTravel (0.0021523323375731707)\n",
            "MedicalHealth>DiseasesAndConditions>MentalHealth (0.001485097105614841)\n",
            "MedicalHealth>DiseasesAndConditions>Allergies (0.0012868066551163793)\n",
            "MedicalHealth>DiseasesAndConditions>Injuries (0.0011628445936366916)\n",
            "NewsAndPolitics>Disasters (0.0011403620010241866)\n",
            "So children, obviously, whose bodies are still developing. The elderly who know their bodies are more in decline, and they're more susceptible to the health impacts of breathing, the poor air quality. And then people who have preexisting health conditions, people with respiratory conditions or heart conditions can be triggered by high levels of air pollution. Could this get worse? That's a good in some areas, it's much worse than others. And it just depends on kind of where the smoke is concentrated.\n",
            "Timestamp: 138786 - 170370\n",
            "Home&Garden>IndoorEnvironmentalQuality (0.9996774196624756)\n",
            "MedicalHealth>DiseasesAndConditions>LungAndRespiratoryHealth (0.45328837633132935)\n",
            "HealthyLiving (0.0267789289355278)\n",
            "MedicalHealth>DiseasesAndConditions>HeartAndCardiovascularDiseases (0.009919208474457264)\n",
            "HealthyLiving>Wellness>SmokingCessation (0.00524168973788619)\n",
            "MedicalHealth>DiseasesAndConditions>Injuries (0.005009354557842016)\n",
            "NewsAndPolitics>Weather (0.0037138822954148054)\n",
            "MedicalHealth>DiseasesAndConditions>Cancer (0.0029859361238777637)\n",
            "MedicalHealth>DiseasesAndConditions>ColdAndFlu (0.002857551444321871)\n",
            "MedicalHealth>DiseasesAndConditions>Allergies (0.0025930344127118587)\n",
            "I think New York has some of the higher concentrations right now, but that's going to change as that air moves away from the New York area. But over the course of the next few days, we will see different areas being hit at different times with the highest concentrations. I was going to ask you, more fires start burning, I don't expect the concentrations to go up too much higher.\n",
            "Timestamp: 170950 - 189078\n",
            "NewsAndPolitics>Weather (0.9486951231956482)\n",
            "Home&Garden>IndoorEnvironmentalQuality (0.10672713816165924)\n",
            "NewsAndPolitics>Disasters (0.006324044894427061)\n",
            "MedicalHealth>DiseasesAndConditions>ColdAndFlu (0.0011596411932259798)\n",
            "Automotive>AutoParts (0.00039861301775090396)\n",
            "MedicalHealth>DiseasesAndConditions>LungAndRespiratoryHealth (0.00036314927274361253)\n",
            "Travel>TravelLocations>PolarTravel (0.0003499808663036674)\n",
            "Technology&Computing>Computing>ComputerNetworking (0.00026753023848868906)\n",
            "BusinessAndFinance>Industries>PowerAndEnergyIndustry (0.00023866954143159091)\n",
            "MedicalHealth>DiseasesAndConditions>Cancer (0.00023186916951090097)\n",
            "I was going to ask you and you started to answer this, but how much longer could this last? Or forgive me if I'm asking you to speculate, but what do you think? Well, I think the fires are going to burn for a little bit longer, but the key for us in the US. Is the weather system changing. And so right now, it's kind of the weather systems that are pulling that air into our mid Atlantic and Northeast region.\n",
            "Timestamp: 189164 - 211130\n",
            "NewsAndPolitics>Weather (0.9959147572517395)\n",
            "Travel>TravelLocations>PolarTravel (0.008531438186764717)\n",
            "NewsAndPolitics>Disasters (0.0021189867984503508)\n",
            "Science>Environment (0.0005006841383874416)\n",
            "MedicalHealth>DiseasesAndConditions>ColdAndFlu (0.00027018404216505587)\n",
            "Sports>CollegeSports>CollegeBaseball (0.0001917904883157462)\n",
            "PopCulture>CelebrityScandal (0.00017384241800755262)\n",
            "Sports>OlympicSports>SummerOlympicSports (0.0001641129783820361)\n",
            "MusicAndAudio>AdultContemporaryMusic>UrbanACMusic (0.0001541939127491787)\n",
            "BusinessAndFinance>Economy>FinancialCrisis (0.00014796115283388644)\n",
            "As those weather systems change and shift, we'll see that smoke going elsewhere and not impact us in this region as much. And so I think that's going to be the defining factor. And I think the next couple of days we're going to see a shift in that weather pattern and start to push the smoke away from where we are. And finally, with the impacts of climate change, we are seeing more wildfires.\n",
            "Timestamp: 211210 - 232354\n",
            "NewsAndPolitics>Weather (0.9943385720252991)\n",
            "Travel>TravelLocations>PolarTravel (0.0038798111490905285)\n",
            "NewsAndPolitics>Disasters (0.0031615232583135366)\n",
            "Home&Garden>IndoorEnvironmentalQuality (0.0019596731290221214)\n",
            "Science>Environment (0.001271517132408917)\n",
            "PopCulture>CelebrityScandal (0.0003260454395785928)\n",
            "BusinessAndFinance>Industries>PowerAndEnergyIndustry (0.00028069602558389306)\n",
            "Technology&Computing>Computing (0.00025750481290742755)\n",
            "Sports>AutoRacing>MotorcycleSports (0.0001956245250767097)\n",
            "Sports>OlympicSports>SummerOlympicSports (0.00019082953804172575)\n",
            "Will we be seeing more of these kinds of wide ranging air quality consequences or circumstances? I mean, that is one of the predictions for climate change. Looking into the future, the fire season is starting earlier and lasting longer and we're seeing more frequent fires. So, yeah, this is probably something that we'll be seeing more frequently. This tends to be much more of an issue in the Western US. So the Eastern US getting hit right now is a little bit new.\n",
            "Timestamp: 232482 - 261760\n",
            "NewsAndPolitics>Weather (0.9924249649047852)\n",
            "Home&Garden>IndoorEnvironmentalQuality (0.2017378807067871)\n",
            "Travel>TravelLocations>PolarTravel (0.058043234050273895)\n",
            "NewsAndPolitics>Disasters (0.021091533824801445)\n",
            "Science>Environment (0.0047386400401592255)\n",
            "MedicalHealth>DiseasesAndConditions>LungAndRespiratoryHealth (0.0011692640837281942)\n",
            "BusinessAndFinance>Industries>PowerAndEnergyIndustry (0.001010598731227219)\n",
            "MedicalHealth>DiseasesAndConditions>ColdAndFlu (0.0009880446596071124)\n",
            "Food&Drink>Cooking (0.0007442260975949466)\n",
            "BusinessAndFinance>Economy>GasolinePrices (0.0005651501705870032)\n",
            "But yeah, I think with climate change moving forward, this is something that is going to happen more frequently. That's Peter DiCarlo, associate professor in the Department of Environmental Health and Engineering at Johns Hopkins University. Sergeant Carlo, thanks so much for joining us and sharing this expertise with us. Thank you for having me.\n",
            "Timestamp: 262130 - 280340\n",
            "Science>Environment (0.9274448752403259)\n",
            "BusinessAndFinance>Industries>EnvironmentalServicesIndustry (0.8549680709838867)\n",
            "BusinessAndFinance>Business>GreenSolutions (0.48169147968292236)\n",
            "NewsAndPolitics>Weather (0.16800814867019653)\n",
            "Home&Garden>IndoorEnvironmentalQuality (0.057656921446323395)\n",
            "NewsAndPolitics>Disasters (0.0433778241276741)\n",
            "BusinessAndFinance>Industries>PowerAndEnergyIndustry (0.005647365469485521)\n",
            "Travel>TravelLocations>PolarTravel (0.003588640596717596)\n",
            "EventsAndAttractions>Parks&Nature (0.0007050788844935596)\n",
            "BusinessAndFinance>Industries>Agriculture (0.0005596004775725305)\n",
            "Audio is 100.0% relevant to NewsAndPolitics>Weather\n",
            "Audio is 93.78021359443665% relevant to Home&Garden>IndoorEnvironmentalQuality\n",
            "Audio is 16.47280752658844% relevant to Science>Environment\n",
            "Audio is 15.038593113422394% relevant to BusinessAndFinance>Industries>EnvironmentalServicesIndustry\n",
            "Audio is 9.496521204710007% relevant to MedicalHealth>DiseasesAndConditions>LungAndRespiratoryHealth\n",
            "Audio is 8.543621748685837% relevant to BusinessAndFinance>Business>GreenSolutions\n",
            "Audio is 4.069525375962257% relevant to NewsAndPolitics>Disasters\n",
            "Audio is 1.5105249360203743% relevant to Travel>TravelLocations>PolarTravel\n",
            "Audio is 0.9281125850975513% relevant to HealthyLiving\n",
            "Audio is 0.21985946223139763% relevant to MedicalHealth>DiseasesAndConditions>ColdAndFlu\n",
            "Audio is 0.21174713037908077% relevant to MedicalHealth>DiseasesAndConditions>HeartAndCardiovascularDiseases\n",
            "Audio is 0.15072576934471726% relevant to BusinessAndFinance>Industries>PowerAndEnergyIndustry\n",
            "Audio is 0.13470638077706099% relevant to MedicalHealth>DiseasesAndConditions>Injuries\n",
            "Audio is 0.12126534711569548% relevant to HealthyLiving>Wellness>SmokingCessation\n",
            "Audio is 0.10913797887042165% relevant to MedicalHealth>DiseasesAndConditions>Cancer\n",
            "Audio is 0.09669250575825572% relevant to MedicalHealth>DiseasesAndConditions>Allergies\n",
            "Audio is 0.07744738250039518% relevant to MedicalHealth>DiseasesAndConditions>MentalHealth\n",
            "Audio is 0.06103343330323696% relevant to Style&Fashion>PersonalCare>DeodorantAndAntiperspirant\n",
            "Audio is 0.057054858189076185% relevant to Technology&Computing>Computing>ComputerNetworking\n",
            "Audio is 0.0507656077388674% relevant to Automotive>AutoParts\n"
          ]
        }
      ]
    },
    {
      "cell_type": "markdown",
      "source": [
        "### Auto Chapters"
      ],
      "metadata": {
        "id": "tU7QCoAs1lze"
      }
    },
    {
      "cell_type": "markdown",
      "source": [
        "To run the code below, simply paste your [API key](https://www.assemblyai.com/app) into the string for the `YOUR_API_KEY` variable below, and then press the \"Play\" button in the top-left hand corner of the cell.\n",
        "\n",
        "If you do not yet have an API token, you can get one for free [here](https://www.assemblyai.com/dashboard/signup)."
      ],
      "metadata": {
        "id": "3B0hJk_v9urX"
      }
    },
    {
      "cell_type": "code",
      "source": [
        "import assemblyai as aai\n",
        "\n",
        "aai.settings.api_key = \"YOUR_API_KEY\"\n",
        "\n",
        "audio_url = \"https://github.com/AssemblyAI-Examples/audio-examples/raw/main/20230607_me_canadian_wildfires.mp3\"\n",
        "\n",
        "config = aai.TranscriptionConfig(auto_chapters=True)\n",
        "\n",
        "transcript = aai.Transcriber().transcribe(audio_url, config)\n",
        "\n",
        "for chapter in transcript.chapters:\n",
        "  print(f\"{chapter.start}-{chapter.end}: {chapter.headline}\")"
      ],
      "metadata": {
        "colab": {
          "base_uri": "https://localhost:8080/"
        },
        "id": "KsISXVpm12Bg",
        "outputId": "0112104a-90d1-4aeb-e931-5f74a42ad961"
      },
      "execution_count": null,
      "outputs": [
        {
          "output_type": "stream",
          "name": "stdout",
          "text": [
            "250-28920: Smoke from hundreds of wildfires in Canada is triggering air quality alerts across US\n",
            "29290-280340: Smoke from Canadian wildfires is impacting the Mid Atlantic and Northeast region\n"
          ]
        }
      ]
    },
    {
      "cell_type": "markdown",
      "source": [
        "### Key Phrases"
      ],
      "metadata": {
        "id": "ej65TyAW1l6A"
      }
    },
    {
      "cell_type": "markdown",
      "source": [
        "To run the code below, simply paste your [API key](https://www.assemblyai.com/app) into the string for the `YOUR_API_KEY` variable below, and then press the \"Play\" button in the top-left hand corner of the cell.\n",
        "\n",
        "If you do not yet have an API token, you can get one for free [here](https://www.assemblyai.com/dashboard/signup)."
      ],
      "metadata": {
        "id": "WRu__LFz9vik"
      }
    },
    {
      "cell_type": "code",
      "source": [
        "import assemblyai as aai\n",
        "\n",
        "aai.settings.api_key = \"YOUR_API_KEY\"\n",
        "\n",
        "audio_url = \"https://github.com/AssemblyAI-Examples/audio-examples/raw/main/20230607_me_canadian_wildfires.mp3\"\n",
        "\n",
        "config = aai.TranscriptionConfig(auto_highlights=True)\n",
        "\n",
        "transcript = aai.Transcriber().transcribe(audio_url, config)\n",
        "\n",
        "for result in transcript.auto_highlights.results:\n",
        "    print(f\"Highlight: {result.text}, Count: {result.count}, Rank: {result.rank}, Timestamps: {result.timestamps}\")"
      ],
      "metadata": {
        "colab": {
          "base_uri": "https://localhost:8080/"
        },
        "id": "zPoOsiTb12jW",
        "outputId": "9cc38b66-68e6-48bf-e350-fd2d3882e42d"
      },
      "execution_count": null,
      "outputs": [
        {
          "output_type": "stream",
          "name": "stdout",
          "text": [
            "Highlight: air quality alerts, Count: 1, Rank: 0.08, Timestamps: [Timestamp(start=3978, end=5114)]\n",
            "Highlight: wide ranging air quality consequences, Count: 1, Rank: 0.08, Timestamps: [Timestamp(start=235388, end=238838)]\n",
            "Highlight: more fires, Count: 1, Rank: 0.07, Timestamps: [Timestamp(start=184716, end=185186)]\n",
            "Highlight: more wildfires, Count: 1, Rank: 0.07, Timestamps: [Timestamp(start=231036, end=232354)]\n",
            "Highlight: air pollution, Count: 1, Rank: 0.07, Timestamps: [Timestamp(start=156004, end=156910)]\n",
            "Highlight: weather systems, Count: 3, Rank: 0.07, Timestamps: [Timestamp(start=47344, end=47958), Timestamp(start=205268, end=205818), Timestamp(start=211588, end=213434)]\n",
            "Highlight: high levels, Count: 2, Rank: 0.06, Timestamps: [Timestamp(start=121128, end=121646), Timestamp(start=155412, end=155866)]\n",
            "Highlight: health conditions, Count: 1, Rank: 0.06, Timestamps: [Timestamp(start=152134, end=152666)]\n",
            "Highlight: New York City, Count: 1, Rank: 0.06, Timestamps: [Timestamp(start=125768, end=126274)]\n",
            "Highlight: respiratory conditions, Count: 1, Rank: 0.05, Timestamps: [Timestamp(start=153028, end=153786)]\n",
            "Highlight: New York, Count: 3, Rank: 0.05, Timestamps: [Timestamp(start=125768, end=126034), Timestamp(start=171448, end=171970), Timestamp(start=175944, end=176322)]\n",
            "Highlight: climate change, Count: 3, Rank: 0.05, Timestamps: [Timestamp(start=229548, end=230230), Timestamp(start=244576, end=245162), Timestamp(start=263332, end=263982)]\n",
            "Highlight: heart conditions, Count: 1, Rank: 0.05, Timestamps: [Timestamp(start=153988, end=154506)]\n",
            "Highlight: Smoke, Count: 6, Rank: 0.05, Timestamps: [Timestamp(start=250, end=650), Timestamp(start=49168, end=49398), Timestamp(start=55284, end=55594), Timestamp(start=168888, end=169118), Timestamp(start=215108, end=215386), Timestamp(start=225944, end=226170)]\n",
            "Highlight: air quality warnings, Count: 1, Rank: 0.05, Timestamps: [Timestamp(start=12324, end=13434)]\n"
          ]
        }
      ]
    },
    {
      "cell_type": "markdown",
      "source": [
        "## LeMUR - LLMs for Speech"
      ],
      "metadata": {
        "id": "ejNlr7SNytiI"
      }
    },
    {
      "cell_type": "markdown",
      "source": [
        "### Ask questions about your audio data"
      ],
      "metadata": {
        "id": "4z-SPDB4y26I"
      }
    },
    {
      "cell_type": "code",
      "source": [
        "import assemblyai as aai\n",
        "\n",
        "aai.settings.api_key = \"YOUR_KEY_HERE\"\n",
        "\n",
        "# Step 1: Transcribe an audio file.\n",
        "audio_url = \"https://storage.googleapis.com/aai-web-samples/5_common_sports_injuries.mp3\"\n",
        "\n",
        "transcriber = aai.Transcriber()\n",
        "transcript = transcriber.transcribe(audio_url)\n",
        "\n",
        "# Step 2: Define a prompt with your question(s).\n",
        "prompt = \"What is a runner's knee?\"\n",
        "\n",
        "# Step 3: Apply LeMUR.\n",
        "result = transcript.lemur.task(prompt)\n",
        "\n",
        "print(result.response)"
      ],
      "metadata": {
        "colab": {
          "base_uri": "https://localhost:8080/"
        },
        "id": "ALHKhcJky8QB",
        "outputId": "8c95af40-000d-474e-ca44-e758a87ed057"
      },
      "execution_count": null,
      "outputs": [
        {
          "output_type": "stream",
          "name": "stdout",
          "text": [
            "\n",
            " Based on the transcript, runner's knee is a condition characterized by pain behind or around the kneecap. It is caused by overuse, muscle imbalance and inadequate stretching. Symptoms include pain under or around the kneecap and pain when walking.\n"
          ]
        }
      ]
    },
    {
      "cell_type": "markdown",
      "source": [
        "### Summarize your audio data"
      ],
      "metadata": {
        "id": "c_FYv7lhy-FS"
      }
    },
    {
      "cell_type": "code",
      "source": [
        "import assemblyai as aai\n",
        "\n",
        "aai.settings.api_key = \"YOUR_KEY_HERE\"\n",
        "\n",
        "# Step 1: Transcribe an audio file.\n",
        "audio_url = \"https://storage.googleapis.com/aai-web-samples/5_common_sports_injuries.mp3\"\n",
        "\n",
        "transcriber = aai.Transcriber()\n",
        "transcript = transcriber.transcribe(audio_url)\n",
        "\n",
        "# Step 2: Define a summarization prompt.\n",
        "prompt = \"Provide a brief summary of the transcript.\"\n",
        "\n",
        "# Step 3: Apply LeMUR.\n",
        "result = transcript.lemur.task(prompt)\n",
        "\n",
        "print(result.response)"
      ],
      "metadata": {
        "colab": {
          "base_uri": "https://localhost:8080/"
        },
        "id": "xCmwCQZsy-M8",
        "outputId": "6ffc3c8b-f15f-4a39-e865-9b1b8cedcd53"
      },
      "execution_count": null,
      "outputs": [
        {
          "output_type": "stream",
          "name": "stdout",
          "text": [
            "\n",
            " The transcript describes common sports injuries affecting the knee and ankle, including runner's knee, sprained ankle, meniscus tear, rotator cuff tear, and ACL tear. It provides definitions, causes, and symptoms for each injury. The transcript seems to be narrating sports footage and describing injuries sustained by the athletes. Overall, it focuses on explaining different types of sports-related injuries involving the knee, ankle, and shoulder joints.\n"
          ]
        }
      ]
    },
    {
      "cell_type": "markdown",
      "source": [
        "### Extract and generate data"
      ],
      "metadata": {
        "id": "zBEA4jJly-Tx"
      }
    },
    {
      "cell_type": "code",
      "source": [
        "import assemblyai as aai\n",
        "\n",
        "aai.settings.api_key = \"YOUR_KEY_HERE\"\n",
        "\n",
        "# Step 1: Transcribe an audio file.\n",
        "audio_url = \"https://storage.googleapis.com/aai-web-samples/5_common_sports_injuries.mp3\"\n",
        "\n",
        "transcriber = aai.Transcriber()\n",
        "transcript = transcriber.transcribe(audio_url)\n",
        "\n",
        "# Step 2: Define a prompt to extract data.\n",
        "prompt = \"Extract injury and symptom of injury from the transcript.\"\n",
        "\n",
        "# Step 3: Apply LeMUR.\n",
        "result = transcript.lemur.task(prompt)\n",
        "\n",
        "print(result.response)"
      ],
      "metadata": {
        "colab": {
          "base_uri": "https://localhost:8080/"
        },
        "id": "7mktE2mVy-ac",
        "outputId": "387d9f93-73ae-4918-9618-cbb27acf8364"
      },
      "execution_count": null,
      "outputs": [
        {
          "output_type": "stream",
          "name": "stdout",
          "text": [
            "\n",
            " Here are the extracted injuries and symptoms:\n",
            "\n",
            "Runner's knee\n",
            "Injury: runner's knee \n",
            "Symptoms: pain behind or around the kneecap\n",
            "\n",
            "Sprained ankle\n",
            "Injury: sprained ankle\n",
            "Symptoms: pain and difficulty moving the ankle, swelling around the ankle, bruising\n",
            "\n",
            "Meniscus tear \n",
            "Injury: meniscus tear\n",
            "Symptoms: stiffness and swelling, pain in your knee, catching or locking of your knee\n",
            "\n",
            "Rotator cuff tear\n",
            "Injury: rotator cuff tear\n",
            "Symptoms: pain when lifting and lowering your arm, weakness when lifting or rotating your arm, pain when lying on the affected shoulder\n",
            "\n",
            "ACL tear\n",
            "Injury: ACL tear\n",
            "Symptoms: severe pain and tenderness in knee, loss of full range of motion, swelling around the knee\n"
          ]
        }
      ]
    }
  ]
}